{
 "cells": [
  {
   "cell_type": "code",
   "execution_count": 1,
   "id": "0f6c2b07",
   "metadata": {},
   "outputs": [
    {
     "data": {
      "text/html": [
       "\n",
       "<style>\n",
       ".container {width: 90% !important;}\n",
       "div.prompt {min-width: 12ex;}\n",
       "div.output_area {overflow-y: scroll;}\n",
       "div.output_area img {max-width: unset;}\n",
       "div.output_subarea {max-width: unset;}\n",
       "</style>\n"
      ],
      "text/plain": [
       "<IPython.core.display.HTML object>"
      ]
     },
     "execution_count": 1,
     "metadata": {},
     "output_type": "execute_result"
    }
   ],
   "source": [
    "from IPython.core.display import HTML\n",
    "style = \"\"\"\n",
    "<style>\n",
    ".container {width: 90% !important;}\n",
    "div.prompt {min-width: 12ex;}\n",
    "div.output_area {overflow-y: scroll;}\n",
    "div.output_area img {max-width: unset;}\n",
    "div.output_subarea {max-width: unset;}\n",
    "</style>\n",
    "\"\"\"\n",
    "HTML(style)"
   ]
  },
  {
   "cell_type": "code",
   "execution_count": 2,
   "id": "c0d23ea3",
   "metadata": {},
   "outputs": [],
   "source": [
    "import pandas as pd\n",
    "import numpy as np\n",
    "import matplotlib.pyplot as plt\n",
    "import os\n",
    "\n",
    "from sklearn.model_selection import train_test_split\n",
    "from sklearn.model_selection import GridSearchCV\n",
    "from sklearn.model_selection import StratifiedKFold\n",
    "\n",
    "from sklearn.impute import SimpleImputer\n",
    "from category_encoders import TargetEncoder\n",
    "\n",
    "from sklearn.preprocessing import OneHotEncoder\n",
    "from sklearn.preprocessing import FunctionTransformer\n",
    "from sklearn.preprocessing import StandardScaler\n",
    "from sklearn.preprocessing import PolynomialFeatures\n",
    "\n",
    "from sklearn.compose import ColumnTransformer\n",
    "from sklearn.compose import make_column_transformer\n",
    "\n",
    "from sklearn.pipeline import Pipeline\n",
    "from sklearn.pipeline import make_pipeline\n",
    "\n",
    "from imblearn.pipeline import Pipeline as ImbPipeline\n",
    "from imblearn.under_sampling import RandomUnderSampler\n",
    "from imblearn.over_sampling import RandomOverSampler\n",
    "\n",
    "from sklearn.ensemble import RandomForestClassifier\n",
    "from imblearn.ensemble import BalancedRandomForestClassifier\n",
    "from sklearn.linear_model import LogisticRegression\n",
    "from catboost import CatBoostClassifier\n",
    "from xgboost import XGBClassifier\n",
    "\n",
    "from sklearn.metrics import roc_auc_score"
   ]
  },
  {
   "cell_type": "code",
   "execution_count": 3,
   "id": "31347485",
   "metadata": {},
   "outputs": [],
   "source": [
    "import matplotlib as mpl\n",
    "for k, v in mpl.rcParams.items():\n",
    "    if v == 'black':\n",
    "        mpl.rcParams[k] = '#28324a'"
   ]
  },
  {
   "cell_type": "markdown",
   "id": "a8aafdda",
   "metadata": {},
   "source": [
    "### Подготовка данных"
   ]
  },
  {
   "cell_type": "markdown",
   "id": "7337f5db",
   "metadata": {},
   "source": [
    "Оформим результаты разведочного анализа в виде функции pre_split_filter."
   ]
  },
  {
   "cell_type": "code",
   "execution_count": 4,
   "id": "357a002a",
   "metadata": {},
   "outputs": [],
   "source": [
    "def pre_split_filter(df, drop_outliers):\n",
    "    df = df.copy()\n",
    "    \n",
    "    df.drop(columns=['device_model', 'geo_country'], inplace=True)\n",
    "    \n",
    "    cols_to_lower = ['device_category', 'device_os', 'device_brand', 'device_browser', 'geo_city']\n",
    "    df.loc[:, cols_to_lower] = df.loc[:, cols_to_lower].apply(lambda x: x.str.lower())\n",
    "\n",
    "    df.fillna('(none)', inplace=True)\n",
    "    df.replace('(not set)', '(none)', inplace=True)\n",
    "    \n",
    "    \n",
    "    #device categorical columns\n",
    "    \n",
    "    df = df[df['device_browser'] != '(none)']\n",
    "\n",
    "    def browser_filter(s):\n",
    "        return ''.join([c for c in s if c.isalpha()])\n",
    "    \n",
    "    df.loc[:, 'device_browser'] = df.loc[:, 'device_browser'].apply(browser_filter)\n",
    "    \n",
    "    def fillna(cond, field, value): \n",
    "        df.loc[cond & (df[field] == '(none)'), field] = value\n",
    "    \n",
    "    fillna((df['device_os'] == 'macintosh') | (df['device_os'] == 'ios'), 'device_brand', 'apple')\n",
    "    fillna((df['device_brand'] == 'apple') & (df['device_category'] == 'desktop'), 'device_os', 'macintosh')\n",
    "    fillna(df['device_brand'] == 'apple', 'device_os', 'ios')\n",
    "    \n",
    "    df.drop(columns=['device_os'], inplace=True)\n",
    "    \n",
    "    \n",
    "    #device numerical columns\n",
    "    \n",
    "    df[['device_screen_width', 'device_screen_height']] = df['device_screen_resolution'].str.split('x', expand=True).astype(int)\n",
    "    df = df[(df['device_screen_width'] > 0) & (df['device_screen_height'] > 0)]\n",
    "    \n",
    "    df_screen_size = df[['device_screen_width', 'device_screen_height']]\n",
    "    df['device_screen_width'], df['device_screen_height'] = df_screen_size.max(axis=1), df_screen_size.min(axis=1)\n",
    "    \n",
    "    df['device_screen_area'] = df['device_screen_width'] * df['device_screen_height']\n",
    "    df['device_screen_aspect'] = df['device_screen_width'] / df['device_screen_height']\n",
    "\n",
    "    if drop_outliers:\n",
    "        df = df[df['device_screen_width'] <= 19000]\n",
    "        \n",
    "    df.drop(columns=['device_screen_resolution', 'device_screen_width', 'device_screen_height'], inplace=True)\n",
    "    \n",
    "    return df"
   ]
  },
  {
   "cell_type": "markdown",
   "id": "1004484b",
   "metadata": {},
   "source": [
    "Заполнение пропусков в поле device_brand условной модой у мобильных устройств и планшетов. Apple исключаем из рассмотрения, т.к. пропуски у Apple-устройств заполняются детерминированно перед разбиением на train/test."
   ]
  },
  {
   "cell_type": "code",
   "execution_count": 5,
   "id": "43161052",
   "metadata": {},
   "outputs": [],
   "source": [
    "from sklearn.base import BaseEstimator, TransformerMixin\n",
    "\n",
    "class Imputer(BaseEstimator, TransformerMixin):\n",
    "    def __init__(self):\n",
    "        self.device_brand_imp = SimpleImputer(missing_values='(none)', strategy='most_frequent')\n",
    "        self.geo_city_imp = SimpleImputer(missing_values='(none)', strategy='most_frequent')\n",
    "        \n",
    "    def fit(self, X, y=None):\n",
    "        cond = (X['device_brand'] != 'apple') & (X['device_category'] != 'desktop')\n",
    "        self.device_brand_imp.fit(X.loc[cond, ['device_brand']])\n",
    "        self.geo_city_imp.fit(X.loc[:, ['geo_city']])\n",
    "        self.output_features_ = X.columns\n",
    "        return self\n",
    "        \n",
    "    def transform(self, X, y=None):\n",
    "        Xt = X.copy()\n",
    "        cond = (X['device_brand'] != 'apple') & (X['device_category'] != 'desktop')\n",
    "        if cond.sum() > 0:\n",
    "            Xt.loc[cond, ['device_brand']] = self.device_brand_imp.transform(Xt.loc[cond, ['device_brand']])\n",
    "        Xt.loc[:, ['geo_city']] = self.geo_city_imp.transform(Xt.loc[:, ['geo_city']])\n",
    "        return Xt\n",
    "    \n",
    "    def get_feature_names_out(self, input_features=None):\n",
    "        return self.output_features_"
   ]
  },
  {
   "cell_type": "markdown",
   "id": "4e0347bb",
   "metadata": {},
   "source": [
    "### Моделирование"
   ]
  },
  {
   "cell_type": "code",
   "execution_count": 6,
   "id": "e598a320",
   "metadata": {},
   "outputs": [],
   "source": [
    "load_summaries = False\n",
    "\n",
    "if load_summaries:\n",
    "    summary_rf = pd.read_csv('summary_rf.csv', index_col=0)\n",
    "    summary_lr = pd.read_csv('summary_lr.csv', index_col=0)\n",
    "    summary_cb = pd.read_csv('summary_cb.csv', index_col=0)\n",
    "    summary_xgb = pd.read_csv('summary_xgb.csv', index_col=0)   \n",
    "else:\n",
    "    cols_summary = ['CV Train', 'CV Test', 'CV Overfit', 'Test', 'Time']\n",
    "    summary_rf = pd.DataFrame({}, columns=cols_summary)\n",
    "    summary_lr = pd.DataFrame({}, columns=cols_summary)\n",
    "    summary_cb = pd.DataFrame({}, columns=cols_summary)\n",
    "    summary_xgb = pd.DataFrame({}, columns=cols_summary)"
   ]
  },
  {
   "cell_type": "code",
   "execution_count": 7,
   "id": "d3ca46cc",
   "metadata": {},
   "outputs": [],
   "source": [
    "import pprint\n",
    "def agg_stats(summary, model, model_name):\n",
    "    print('')\n",
    "    pprint.pprint(model.best_params_)\n",
    "    print('')\n",
    "    \n",
    "    cv_train = model.cv_results_['mean_train_score'][model.best_index_]\n",
    "    cv_test = model.cv_results_['mean_test_score'][model.best_index_]\n",
    "    cv_overfit = (cv_train - cv_test) / cv_test\n",
    "    test = roc_auc_score(y_test, model.predict_proba(X_test)[:, 1])\n",
    "        \n",
    "    fit_time = model.cv_results_['mean_fit_time'][model.best_index_] / 60\n",
    "    score_time = model.cv_results_['mean_score_time'][model.best_index_] / 60\n",
    "    time = fit_time + score_time\n",
    "    \n",
    "    summary.loc[model_name] = np.round(np.array([cv_train, cv_test, cv_overfit, test, time]), 3)\n",
    "    display(summary.loc[model_name:model_name].transpose())"
   ]
  },
  {
   "cell_type": "code",
   "execution_count": 8,
   "id": "2a455db4",
   "metadata": {},
   "outputs": [],
   "source": [
    "data_dir = '../../Final_work_data'\n",
    "df = pre_split_filter(pd.read_csv(os.path.join(data_dir, 'ml_data.csv'), dtype=str), drop_outliers=True)\n",
    "df['target'] = df['target'].astype(int)\n",
    "\n",
    "X = df.drop(columns=['target'])\n",
    "y = df['target']\n",
    "del df\n",
    "X_train, X_test, y_train, y_test = train_test_split(X, y, test_size=0.2, stratify=y, random_state=11)\n",
    "\n",
    "cols_cat = [x for x in X.columns if not x.startswith('device_screen')]\n",
    "cv = StratifiedKFold(n_splits=3, shuffle=True, random_state=11)"
   ]
  },
  {
   "cell_type": "code",
   "execution_count": 9,
   "id": "8d42d401",
   "metadata": {},
   "outputs": [],
   "source": [
    "onehot = make_column_transformer((OneHotEncoder(drop='if_binary', \n",
    "                                                handle_unknown='infrequent_if_exist'),\n",
    "                                  cols_cat),\n",
    "                                 remainder='passthrough')\n",
    "\n",
    "target = make_column_transformer((TargetEncoder(), cols_cat), remainder='passthrough')"
   ]
  },
  {
   "cell_type": "code",
   "execution_count": 10,
   "id": "a1927d80",
   "metadata": {},
   "outputs": [],
   "source": [
    "import multiprocessing\n",
    "CPU_COUNT = multiprocessing.cpu_count()\n",
    "\n",
    "import warnings\n",
    "def ignore_warning(message):\n",
    "    warnings.filterwarnings('ignore', message=message)\n",
    "    try:\n",
    "        env_string = os.environ['PYTHONWARNINGS'] + ','\n",
    "    except KeyError:\n",
    "        env_string = ''\n",
    "    env_string += 'ignore:{}'.format(message)\n",
    "    os.environ['PYTHONWARNINGS'] = env_string\n",
    "\n",
    "ignore_warning('Found unknown categories')\n",
    "ignore_warning('Function delayed is deprecated')\n",
    "ignore_warning('`sklearn.utils.parallel.delayed` should be used with')\n",
    "ignore_warning('A worker stopped while some jobs were given to the executor')"
   ]
  },
  {
   "cell_type": "markdown",
   "id": "5feafd20",
   "metadata": {},
   "source": [
    "Попробуем использовать RandomForestClassifier."
   ]
  },
  {
   "cell_type": "code",
   "execution_count": 11,
   "id": "e091b363",
   "metadata": {},
   "outputs": [
    {
     "name": "stdout",
     "output_type": "stream",
     "text": [
      "CPU times: user 24min 14s, sys: 5.97 s, total: 24min 20s\n",
      "Wall time: 9min 42s\n",
      "\n",
      "{'clf__max_depth': 12,\n",
      " 'clf__max_features': 7,\n",
      " 'clf__min_samples_leaf': 6,\n",
      " 'clf__n_estimators': 50,\n",
      " 'enc__onehotencoder__min_frequency': 0.1}\n",
      "\n"
     ]
    },
    {
     "data": {
      "text/html": [
       "<div>\n",
       "<style scoped>\n",
       "    .dataframe tbody tr th:only-of-type {\n",
       "        vertical-align: middle;\n",
       "    }\n",
       "\n",
       "    .dataframe tbody tr th {\n",
       "        vertical-align: top;\n",
       "    }\n",
       "\n",
       "    .dataframe thead th {\n",
       "        text-align: right;\n",
       "    }\n",
       "</style>\n",
       "<table border=\"1\" class=\"dataframe\">\n",
       "  <thead>\n",
       "    <tr style=\"text-align: right;\">\n",
       "      <th></th>\n",
       "      <th>Random Forest</th>\n",
       "    </tr>\n",
       "  </thead>\n",
       "  <tbody>\n",
       "    <tr>\n",
       "      <th>CV Train</th>\n",
       "      <td>0.706</td>\n",
       "    </tr>\n",
       "    <tr>\n",
       "      <th>CV Test</th>\n",
       "      <td>0.675</td>\n",
       "    </tr>\n",
       "    <tr>\n",
       "      <th>CV Overfit</th>\n",
       "      <td>0.045</td>\n",
       "    </tr>\n",
       "    <tr>\n",
       "      <th>Test</th>\n",
       "      <td>0.681</td>\n",
       "    </tr>\n",
       "    <tr>\n",
       "      <th>Time</th>\n",
       "      <td>2.075</td>\n",
       "    </tr>\n",
       "  </tbody>\n",
       "</table>\n",
       "</div>"
      ],
      "text/plain": [
       "            Random Forest\n",
       "CV Train            0.706\n",
       "CV Test             0.675\n",
       "CV Overfit          0.045\n",
       "Test                0.681\n",
       "Time                2.075"
      ]
     },
     "metadata": {},
     "output_type": "display_data"
    }
   ],
   "source": [
    "pipe = Pipeline(steps=[\n",
    "    ('imp', Imputer()),\n",
    "    ('enc', onehot),\n",
    "    ('clf', RandomForestClassifier(random_state=11, n_jobs=CPU_COUNT))\n",
    "])\n",
    "\n",
    "param = [{'enc__onehotencoder__min_frequency': [0.1],\n",
    "          'clf__n_estimators': [50],\n",
    "          'clf__min_samples_leaf': [6],\n",
    "          'clf__max_depth': [12],\n",
    "          'clf__max_features': [7]}]\n",
    "\n",
    "rf = GridSearchCV(pipe, param, cv=cv, scoring='roc_auc', return_train_score=True)\n",
    "%time rf.fit(X_train, y_train)\n",
    "agg_stats(summary_rf, rf, 'Random Forest')"
   ]
  },
  {
   "cell_type": "code",
   "execution_count": 12,
   "id": "8770ff16",
   "metadata": {},
   "outputs": [
    {
     "name": "stdout",
     "output_type": "stream",
     "text": [
      "CPU times: user 23min 38s, sys: 4.68 s, total: 23min 43s\n",
      "Wall time: 9min 24s\n",
      "\n",
      "{'clf__class_weight': 'balanced',\n",
      " 'clf__max_depth': 12,\n",
      " 'clf__max_features': 7,\n",
      " 'clf__min_samples_leaf': 6,\n",
      " 'clf__n_estimators': 50,\n",
      " 'enc__onehotencoder__min_frequency': 0.1}\n",
      "\n"
     ]
    },
    {
     "data": {
      "text/html": [
       "<div>\n",
       "<style scoped>\n",
       "    .dataframe tbody tr th:only-of-type {\n",
       "        vertical-align: middle;\n",
       "    }\n",
       "\n",
       "    .dataframe tbody tr th {\n",
       "        vertical-align: top;\n",
       "    }\n",
       "\n",
       "    .dataframe thead th {\n",
       "        text-align: right;\n",
       "    }\n",
       "</style>\n",
       "<table border=\"1\" class=\"dataframe\">\n",
       "  <thead>\n",
       "    <tr style=\"text-align: right;\">\n",
       "      <th></th>\n",
       "      <th>Random Forest + class weights</th>\n",
       "    </tr>\n",
       "  </thead>\n",
       "  <tbody>\n",
       "    <tr>\n",
       "      <th>CV Train</th>\n",
       "      <td>0.701</td>\n",
       "    </tr>\n",
       "    <tr>\n",
       "      <th>CV Test</th>\n",
       "      <td>0.674</td>\n",
       "    </tr>\n",
       "    <tr>\n",
       "      <th>CV Overfit</th>\n",
       "      <td>0.040</td>\n",
       "    </tr>\n",
       "    <tr>\n",
       "      <th>Test</th>\n",
       "      <td>0.680</td>\n",
       "    </tr>\n",
       "    <tr>\n",
       "      <th>Time</th>\n",
       "      <td>2.008</td>\n",
       "    </tr>\n",
       "  </tbody>\n",
       "</table>\n",
       "</div>"
      ],
      "text/plain": [
       "            Random Forest + class weights\n",
       "CV Train                            0.701\n",
       "CV Test                             0.674\n",
       "CV Overfit                          0.040\n",
       "Test                                0.680\n",
       "Time                                2.008"
      ]
     },
     "metadata": {},
     "output_type": "display_data"
    }
   ],
   "source": [
    "pipe = Pipeline(steps=[\n",
    "    ('imp', Imputer()),\n",
    "    ('enc', onehot),\n",
    "    ('clf', RandomForestClassifier(random_state=11, n_jobs=CPU_COUNT))\n",
    "])\n",
    "\n",
    "param = [{'enc__onehotencoder__min_frequency': [0.1],\n",
    "          'clf__n_estimators': [50],\n",
    "          'clf__min_samples_leaf': [6],\n",
    "          'clf__max_depth': [12],\n",
    "          'clf__max_features': [7],\n",
    "          'clf__class_weight': ['balanced']}]\n",
    "\n",
    "rf = GridSearchCV(pipe, param, cv=cv, scoring='roc_auc', return_train_score=True)\n",
    "%time rf.fit(X_train, y_train)\n",
    "agg_stats(summary_rf, rf, 'Random Forest + class weights')"
   ]
  },
  {
   "cell_type": "code",
   "execution_count": 13,
   "id": "f815a8b9",
   "metadata": {},
   "outputs": [
    {
     "name": "stdout",
     "output_type": "stream",
     "text": [
      "CPU times: user 24min 4s, sys: 5.27 s, total: 24min 9s\n",
      "Wall time: 9min 35s\n",
      "\n",
      "{'clf__class_weight': 'balanced_subsample',\n",
      " 'clf__max_depth': 12,\n",
      " 'clf__max_features': 7,\n",
      " 'clf__min_samples_leaf': 6,\n",
      " 'clf__n_estimators': 50,\n",
      " 'enc__onehotencoder__min_frequency': 0.1}\n",
      "\n"
     ]
    },
    {
     "data": {
      "text/html": [
       "<div>\n",
       "<style scoped>\n",
       "    .dataframe tbody tr th:only-of-type {\n",
       "        vertical-align: middle;\n",
       "    }\n",
       "\n",
       "    .dataframe tbody tr th {\n",
       "        vertical-align: top;\n",
       "    }\n",
       "\n",
       "    .dataframe thead th {\n",
       "        text-align: right;\n",
       "    }\n",
       "</style>\n",
       "<table border=\"1\" class=\"dataframe\">\n",
       "  <thead>\n",
       "    <tr style=\"text-align: right;\">\n",
       "      <th></th>\n",
       "      <th>Random Forest + subsample class weights</th>\n",
       "    </tr>\n",
       "  </thead>\n",
       "  <tbody>\n",
       "    <tr>\n",
       "      <th>CV Train</th>\n",
       "      <td>0.701</td>\n",
       "    </tr>\n",
       "    <tr>\n",
       "      <th>CV Test</th>\n",
       "      <td>0.674</td>\n",
       "    </tr>\n",
       "    <tr>\n",
       "      <th>CV Overfit</th>\n",
       "      <td>0.040</td>\n",
       "    </tr>\n",
       "    <tr>\n",
       "      <th>Test</th>\n",
       "      <td>0.679</td>\n",
       "    </tr>\n",
       "    <tr>\n",
       "      <th>Time</th>\n",
       "      <td>2.047</td>\n",
       "    </tr>\n",
       "  </tbody>\n",
       "</table>\n",
       "</div>"
      ],
      "text/plain": [
       "            Random Forest + subsample class weights\n",
       "CV Train                                      0.701\n",
       "CV Test                                       0.674\n",
       "CV Overfit                                    0.040\n",
       "Test                                          0.679\n",
       "Time                                          2.047"
      ]
     },
     "metadata": {},
     "output_type": "display_data"
    }
   ],
   "source": [
    "pipe = Pipeline(steps=[\n",
    "    ('imp', Imputer()),\n",
    "    ('enc', onehot),\n",
    "    ('clf', RandomForestClassifier(random_state=11, n_jobs=CPU_COUNT))\n",
    "])\n",
    "\n",
    "param = [{'enc__onehotencoder__min_frequency': [0.1],\n",
    "          'clf__n_estimators': [50],\n",
    "          'clf__min_samples_leaf': [6],\n",
    "          'clf__max_depth': [12],\n",
    "          'clf__max_features': [7],\n",
    "          'clf__class_weight': ['balanced_subsample']}]\n",
    "\n",
    "rf = GridSearchCV(pipe, param, cv=cv, scoring='roc_auc', return_train_score=True)\n",
    "%time rf.fit(X_train, y_train)\n",
    "agg_stats(summary_rf, rf, 'Random Forest + subsample class weights')"
   ]
  },
  {
   "cell_type": "markdown",
   "id": "5a6f813d",
   "metadata": {},
   "source": [
    "Попробуем использовать Oversampling. Используем RandomOverSampler, т.к. SMOTENC работает долго (дольше самого классификатора), и метрика получается плохой."
   ]
  },
  {
   "cell_type": "code",
   "execution_count": 14,
   "id": "63e3d690",
   "metadata": {},
   "outputs": [
    {
     "name": "stdout",
     "output_type": "stream",
     "text": [
      "CPU times: user 14min 10s, sys: 8.39 s, total: 14min 19s\n",
      "Wall time: 6min 55s\n",
      "\n",
      "{'clf__max_depth': 11,\n",
      " 'clf__max_features': 7,\n",
      " 'clf__min_samples_leaf': 9,\n",
      " 'clf__n_estimators': 50,\n",
      " 'enc__onehotencoder__min_frequency': 0.1}\n",
      "\n"
     ]
    },
    {
     "data": {
      "text/html": [
       "<div>\n",
       "<style scoped>\n",
       "    .dataframe tbody tr th:only-of-type {\n",
       "        vertical-align: middle;\n",
       "    }\n",
       "\n",
       "    .dataframe tbody tr th {\n",
       "        vertical-align: top;\n",
       "    }\n",
       "\n",
       "    .dataframe thead th {\n",
       "        text-align: right;\n",
       "    }\n",
       "</style>\n",
       "<table border=\"1\" class=\"dataframe\">\n",
       "  <thead>\n",
       "    <tr style=\"text-align: right;\">\n",
       "      <th></th>\n",
       "      <th>Oversampling + Random Forest</th>\n",
       "    </tr>\n",
       "  </thead>\n",
       "  <tbody>\n",
       "    <tr>\n",
       "      <th>CV Train</th>\n",
       "      <td>0.699</td>\n",
       "    </tr>\n",
       "    <tr>\n",
       "      <th>CV Test</th>\n",
       "      <td>0.675</td>\n",
       "    </tr>\n",
       "    <tr>\n",
       "      <th>CV Overfit</th>\n",
       "      <td>0.035</td>\n",
       "    </tr>\n",
       "    <tr>\n",
       "      <th>Test</th>\n",
       "      <td>0.679</td>\n",
       "    </tr>\n",
       "    <tr>\n",
       "      <th>Time</th>\n",
       "      <td>1.531</td>\n",
       "    </tr>\n",
       "  </tbody>\n",
       "</table>\n",
       "</div>"
      ],
      "text/plain": [
       "            Oversampling + Random Forest\n",
       "CV Train                           0.699\n",
       "CV Test                            0.675\n",
       "CV Overfit                         0.035\n",
       "Test                               0.679\n",
       "Time                               1.531"
      ]
     },
     "metadata": {},
     "output_type": "display_data"
    }
   ],
   "source": [
    "pipe = ImbPipeline(steps=[\n",
    "    ('imp', Imputer()),\n",
    "    ('res', RandomOverSampler(random_state=11)),\n",
    "    ('enc', onehot),\n",
    "    ('clf', RandomForestClassifier(random_state=11, n_jobs=CPU_COUNT))\n",
    "])\n",
    "\n",
    "param = [{'enc__onehotencoder__min_frequency': [0.1],\n",
    "          'clf__n_estimators': [50],\n",
    "          'clf__min_samples_leaf': [9],\n",
    "          'clf__max_depth': [11], \n",
    "          'clf__max_features': [7]}]\n",
    "\n",
    "rf = GridSearchCV(pipe, param, cv=cv, scoring='roc_auc', return_train_score=True)\n",
    "%time rf.fit(X_train, y_train)\n",
    "agg_stats(summary_rf, rf, 'Oversampling + Random Forest')"
   ]
  },
  {
   "cell_type": "markdown",
   "id": "2397ae54",
   "metadata": {},
   "source": [
    "Попробуем использовать Undersampling. Аналогично, используем RandomUnderSampler."
   ]
  },
  {
   "cell_type": "code",
   "execution_count": 15,
   "id": "2b04c6b9",
   "metadata": {
    "scrolled": false
   },
   "outputs": [
    {
     "name": "stdout",
     "output_type": "stream",
     "text": [
      "CPU times: user 2min 50s, sys: 1.99 s, total: 2min 52s\n",
      "Wall time: 1min 28s\n",
      "\n",
      "{'clf__max_depth': 12,\n",
      " 'clf__max_features': 9,\n",
      " 'clf__min_samples_leaf': 6,\n",
      " 'enc__onehotencoder__min_frequency': 0.0125}\n",
      "\n"
     ]
    },
    {
     "data": {
      "text/html": [
       "<div>\n",
       "<style scoped>\n",
       "    .dataframe tbody tr th:only-of-type {\n",
       "        vertical-align: middle;\n",
       "    }\n",
       "\n",
       "    .dataframe tbody tr th {\n",
       "        vertical-align: top;\n",
       "    }\n",
       "\n",
       "    .dataframe thead th {\n",
       "        text-align: right;\n",
       "    }\n",
       "</style>\n",
       "<table border=\"1\" class=\"dataframe\">\n",
       "  <thead>\n",
       "    <tr style=\"text-align: right;\">\n",
       "      <th></th>\n",
       "      <th>Undersampling + Random Forest</th>\n",
       "    </tr>\n",
       "  </thead>\n",
       "  <tbody>\n",
       "    <tr>\n",
       "      <th>CV Train</th>\n",
       "      <td>0.690</td>\n",
       "    </tr>\n",
       "    <tr>\n",
       "      <th>CV Test</th>\n",
       "      <td>0.679</td>\n",
       "    </tr>\n",
       "    <tr>\n",
       "      <th>CV Overfit</th>\n",
       "      <td>0.017</td>\n",
       "    </tr>\n",
       "    <tr>\n",
       "      <th>Test</th>\n",
       "      <td>0.684</td>\n",
       "    </tr>\n",
       "    <tr>\n",
       "      <th>Time</th>\n",
       "      <td>0.269</td>\n",
       "    </tr>\n",
       "  </tbody>\n",
       "</table>\n",
       "</div>"
      ],
      "text/plain": [
       "            Undersampling + Random Forest\n",
       "CV Train                            0.690\n",
       "CV Test                             0.679\n",
       "CV Overfit                          0.017\n",
       "Test                                0.684\n",
       "Time                                0.269"
      ]
     },
     "metadata": {},
     "output_type": "display_data"
    }
   ],
   "source": [
    "pipe = ImbPipeline(steps=[\n",
    "    ('imp', Imputer()),\n",
    "    ('enc', onehot),\n",
    "    ('res', RandomUnderSampler(random_state=11)),\n",
    "    ('clf', RandomForestClassifier(random_state=11, n_jobs=CPU_COUNT))\n",
    "])\n",
    "\n",
    "#param = [{'enc__onehotencoder__min_frequency': [0.05],\n",
    "#          'clf__min_samples_leaf': [4, 5, 6],\n",
    "#          'clf__min_samples_split': [2, 3, 4],\n",
    "#          'clf__max_depth': [10, 11, 12], \n",
    "#          'clf__max_features': [8, 9, 10, 11, 12, 13]}]\n",
    "\n",
    "param = [{'enc__onehotencoder__min_frequency': [0.0125],\n",
    "          'clf__min_samples_leaf': [6],\n",
    "          'clf__max_depth': [12], \n",
    "          'clf__max_features': [9]}]\n",
    "\n",
    "rf = GridSearchCV(pipe, param, cv=cv, scoring='roc_auc', return_train_score=True)\n",
    "%time rf.fit(X_train, y_train)\n",
    "agg_stats(summary_rf, rf, 'Undersampling + Random Forest')"
   ]
  },
  {
   "cell_type": "markdown",
   "id": "ef3b6011",
   "metadata": {},
   "source": [
    "Попробуем BalancedRandomForestClassifier из библиотеки Imblearn, причем выберем режим oversampling."
   ]
  },
  {
   "cell_type": "code",
   "execution_count": 16,
   "id": "04d77a73",
   "metadata": {},
   "outputs": [
    {
     "name": "stdout",
     "output_type": "stream",
     "text": [
      "CPU times: user 33min 51s, sys: 8.08 s, total: 33min 59s\n",
      "Wall time: 13min 16s\n",
      "\n",
      "{'clf__max_depth': 12,\n",
      " 'clf__max_features': 13,\n",
      " 'clf__min_samples_leaf': 4,\n",
      " 'clf__n_estimators': 50,\n",
      " 'clf__sampling_strategy': 'not majority',\n",
      " 'enc__onehotencoder__min_frequency': 0.05}\n",
      "\n"
     ]
    },
    {
     "data": {
      "text/html": [
       "<div>\n",
       "<style scoped>\n",
       "    .dataframe tbody tr th:only-of-type {\n",
       "        vertical-align: middle;\n",
       "    }\n",
       "\n",
       "    .dataframe tbody tr th {\n",
       "        vertical-align: top;\n",
       "    }\n",
       "\n",
       "    .dataframe thead th {\n",
       "        text-align: right;\n",
       "    }\n",
       "</style>\n",
       "<table border=\"1\" class=\"dataframe\">\n",
       "  <thead>\n",
       "    <tr style=\"text-align: right;\">\n",
       "      <th></th>\n",
       "      <th>Balanced Random Forest oversampling mode</th>\n",
       "    </tr>\n",
       "  </thead>\n",
       "  <tbody>\n",
       "    <tr>\n",
       "      <th>CV Train</th>\n",
       "      <td>0.715</td>\n",
       "    </tr>\n",
       "    <tr>\n",
       "      <th>CV Test</th>\n",
       "      <td>0.681</td>\n",
       "    </tr>\n",
       "    <tr>\n",
       "      <th>CV Overfit</th>\n",
       "      <td>0.050</td>\n",
       "    </tr>\n",
       "    <tr>\n",
       "      <th>Test</th>\n",
       "      <td>0.686</td>\n",
       "    </tr>\n",
       "    <tr>\n",
       "      <th>Time</th>\n",
       "      <td>2.853</td>\n",
       "    </tr>\n",
       "  </tbody>\n",
       "</table>\n",
       "</div>"
      ],
      "text/plain": [
       "            Balanced Random Forest oversampling mode\n",
       "CV Train                                       0.715\n",
       "CV Test                                        0.681\n",
       "CV Overfit                                     0.050\n",
       "Test                                           0.686\n",
       "Time                                           2.853"
      ]
     },
     "metadata": {},
     "output_type": "display_data"
    }
   ],
   "source": [
    "pipe = Pipeline(steps=[\n",
    "    ('imp', Imputer()),\n",
    "    ('enc', onehot),\n",
    "    ('clf', BalancedRandomForestClassifier(random_state=11, n_jobs=CPU_COUNT))\n",
    "])\n",
    "\n",
    "param = [{'enc__onehotencoder__min_frequency': [0.05],\n",
    "          'clf__n_estimators': [50],\n",
    "          'clf__sampling_strategy': ['not majority'],\n",
    "          'clf__min_samples_leaf': [4],\n",
    "          'clf__max_depth': [12], \n",
    "          'clf__max_features': [13]}]\n",
    "\n",
    "rf = GridSearchCV(pipe, param, cv=cv, scoring='roc_auc', return_train_score=True)\n",
    "%time rf.fit(X_train, y_train)\n",
    "agg_stats(summary_rf, rf, 'Balanced Random Forest oversampling mode')"
   ]
  },
  {
   "cell_type": "markdown",
   "id": "a364473f",
   "metadata": {},
   "source": [
    "То же самое с undersampling."
   ]
  },
  {
   "cell_type": "code",
   "execution_count": 17,
   "id": "4f0ba32c",
   "metadata": {
    "scrolled": false
   },
   "outputs": [
    {
     "name": "stdout",
     "output_type": "stream",
     "text": [
      "CPU times: user 4min 38s, sys: 3.21 s, total: 4min 41s\n",
      "Wall time: 2min 25s\n",
      "\n",
      "{'clf__max_depth': 12,\n",
      " 'clf__max_features': 13,\n",
      " 'clf__min_samples_leaf': 4,\n",
      " 'enc__onehotencoder__min_frequency': 0.0125}\n",
      "\n"
     ]
    },
    {
     "data": {
      "text/html": [
       "<div>\n",
       "<style scoped>\n",
       "    .dataframe tbody tr th:only-of-type {\n",
       "        vertical-align: middle;\n",
       "    }\n",
       "\n",
       "    .dataframe tbody tr th {\n",
       "        vertical-align: top;\n",
       "    }\n",
       "\n",
       "    .dataframe thead th {\n",
       "        text-align: right;\n",
       "    }\n",
       "</style>\n",
       "<table border=\"1\" class=\"dataframe\">\n",
       "  <thead>\n",
       "    <tr style=\"text-align: right;\">\n",
       "      <th></th>\n",
       "      <th>Balanced Random Forest undersampling mode</th>\n",
       "    </tr>\n",
       "  </thead>\n",
       "  <tbody>\n",
       "    <tr>\n",
       "      <th>CV Train</th>\n",
       "      <td>0.698</td>\n",
       "    </tr>\n",
       "    <tr>\n",
       "      <th>CV Test</th>\n",
       "      <td>0.682</td>\n",
       "    </tr>\n",
       "    <tr>\n",
       "      <th>CV Overfit</th>\n",
       "      <td>0.023</td>\n",
       "    </tr>\n",
       "    <tr>\n",
       "      <th>Test</th>\n",
       "      <td>0.687</td>\n",
       "    </tr>\n",
       "    <tr>\n",
       "      <th>Time</th>\n",
       "      <td>0.455</td>\n",
       "    </tr>\n",
       "  </tbody>\n",
       "</table>\n",
       "</div>"
      ],
      "text/plain": [
       "            Balanced Random Forest undersampling mode\n",
       "CV Train                                        0.698\n",
       "CV Test                                         0.682\n",
       "CV Overfit                                      0.023\n",
       "Test                                            0.687\n",
       "Time                                            0.455"
      ]
     },
     "metadata": {},
     "output_type": "display_data"
    }
   ],
   "source": [
    "pipe = Pipeline(steps=[\n",
    "    ('imp', Imputer()),\n",
    "    ('enc', onehot),\n",
    "    ('clf', BalancedRandomForestClassifier(random_state=11, n_jobs=CPU_COUNT))\n",
    "])\n",
    "\n",
    "#param = [{'enc__onehotencoder__min_frequency': [0.05],\n",
    "#          'clf__min_samples_leaf': [4, 5, 6, 7],\n",
    "#          'clf__max_depth': [9, 10, 11, 12], \n",
    "#          'clf__max_features': [8, 9, 10, 11, 12, 13]}]\n",
    "\n",
    "param = [{'enc__onehotencoder__min_frequency': [0.0125],\n",
    "          'clf__min_samples_leaf': [4],\n",
    "          'clf__max_depth': [12], \n",
    "          'clf__max_features': [13]}]\n",
    "\n",
    "rf = GridSearchCV(pipe, param, cv=cv, scoring='roc_auc', return_train_score=True)\n",
    "%time rf.fit(X_train, y_train)\n",
    "agg_stats(summary_rf, rf, 'Balanced Random Forest undersampling mode')"
   ]
  },
  {
   "cell_type": "code",
   "execution_count": 18,
   "id": "87463b5f",
   "metadata": {},
   "outputs": [
    {
     "data": {
      "image/png": "[encoded data removed]",
      "text/plain": [
       "<Figure size 800x700 with 1 Axes>"
      ]
     },
     "metadata": {},
     "output_type": "display_data"
    }
   ],
   "source": [
    "from matplotlib.colors import ListedColormap\n",
    "cmap = ListedColormap(['#3c78d8', '#8ec400'])\n",
    "\n",
    "def plot_summary(summary, summary_name):\n",
    "    fig = plt.figure(figsize=(8, 7))\n",
    "    ax = plt.gca()\n",
    "    summary[['CV Test', 'Test']].plot(ax=ax, kind='barh', colormap=cmap)\n",
    "    ax.set_xlim([0.65, 0.7])\n",
    "    ax.invert_yaxis()\n",
    "    plt.show()\n",
    "    fig.savefig('../presentation/{}.png'.format(summary_name), bbox_inches='tight')\n",
    "    \n",
    "    \n",
    "plot_summary(summary_rf, 'summary_rf')"
   ]
  },
  {
   "cell_type": "markdown",
   "id": "a4a71733",
   "metadata": {},
   "source": [
    "Лучшая модель из случайных деревьев - BalancedRandomForestClassifier из библиотеки Imblearn. Режимы oversampling и undersampling дают схожие метрики.\n",
    "\n",
    "Построим график важности признаков."
   ]
  },
  {
   "cell_type": "code",
   "execution_count": 19,
   "id": "a0ba01e6",
   "metadata": {},
   "outputs": [],
   "source": [
    "from sklearn.inspection import permutation_importance\n",
    "\n",
    "def plot_permutation_importances(model, title):\n",
    "    perm_imp = permutation_importance(\n",
    "        model.best_estimator_, X_test, y_test, scoring='roc_auc',\n",
    "        n_repeats=5, random_state=42, n_jobs=CPU_COUNT\n",
    "    )\n",
    "    \n",
    "    features = X.columns\n",
    "    importances = perm_imp.importances_mean\n",
    "    indices = np.argsort(importances)\n",
    "\n",
    "    fig = plt.figure(figsize=(8, 6))\n",
    "    title += ' permutation importances'\n",
    "    plt.title(title)\n",
    "    plt.barh(range(len(indices)), importances[indices], height=0.7, color='#3c78d8', align='center')\n",
    "    plt.yticks(range(len(indices)), [features[i] for i in indices])\n",
    "    plt.xlabel('Decrease in ROC-AUC')\n",
    "    plt.show()\n",
    "\n",
    "    fig.savefig('../presentation/{}.png'.format(title), bbox_inches='tight')"
   ]
  },
  {
   "cell_type": "code",
   "execution_count": 20,
   "id": "dbad15f5",
   "metadata": {},
   "outputs": [
    {
     "data": {
      "image/png": "[encoded data removed]",
      "text/plain": [
       "<Figure size 800x600 with 1 Axes>"
      ]
     },
     "metadata": {},
     "output_type": "display_data"
    }
   ],
   "source": [
    "plot_permutation_importances(rf, 'Random Forest')"
   ]
  },
  {
   "cell_type": "markdown",
   "id": "c9d0cf82",
   "metadata": {},
   "source": [
    "Попробуем LogisticRegression в комбинации с OneHotEncoder-ом."
   ]
  },
  {
   "cell_type": "code",
   "execution_count": 21,
   "id": "76b4ad4a",
   "metadata": {
    "scrolled": false
   },
   "outputs": [
    {
     "name": "stdout",
     "output_type": "stream",
     "text": [
      "CPU times: user 1min 11s, sys: 5.64 s, total: 1min 17s\n",
      "Wall time: 1min 49s\n",
      "\n",
      "{'clf__class_weight': 'balanced',\n",
      " 'enc__onehotencoder__drop': 'first',\n",
      " 'enc__onehotencoder__min_frequency': 0.05,\n",
      " 'enc__onehotencoder__sparse_output': False}\n",
      "\n"
     ]
    },
    {
     "data": {
      "text/html": [
       "<div>\n",
       "<style scoped>\n",
       "    .dataframe tbody tr th:only-of-type {\n",
       "        vertical-align: middle;\n",
       "    }\n",
       "\n",
       "    .dataframe tbody tr th {\n",
       "        vertical-align: top;\n",
       "    }\n",
       "\n",
       "    .dataframe thead th {\n",
       "        text-align: right;\n",
       "    }\n",
       "</style>\n",
       "<table border=\"1\" class=\"dataframe\">\n",
       "  <thead>\n",
       "    <tr style=\"text-align: right;\">\n",
       "      <th></th>\n",
       "      <th>One-hot Encoder + Logistic Regression</th>\n",
       "    </tr>\n",
       "  </thead>\n",
       "  <tbody>\n",
       "    <tr>\n",
       "      <th>CV Train</th>\n",
       "      <td>0.654</td>\n",
       "    </tr>\n",
       "    <tr>\n",
       "      <th>CV Test</th>\n",
       "      <td>0.653</td>\n",
       "    </tr>\n",
       "    <tr>\n",
       "      <th>CV Overfit</th>\n",
       "      <td>0.001</td>\n",
       "    </tr>\n",
       "    <tr>\n",
       "      <th>Test</th>\n",
       "      <td>0.658</td>\n",
       "    </tr>\n",
       "    <tr>\n",
       "      <th>Time</th>\n",
       "      <td>0.368</td>\n",
       "    </tr>\n",
       "  </tbody>\n",
       "</table>\n",
       "</div>"
      ],
      "text/plain": [
       "            One-hot Encoder + Logistic Regression\n",
       "CV Train                                    0.654\n",
       "CV Test                                     0.653\n",
       "CV Overfit                                  0.001\n",
       "Test                                        0.658\n",
       "Time                                        0.368"
      ]
     },
     "metadata": {},
     "output_type": "display_data"
    }
   ],
   "source": [
    "pipe = ImbPipeline(steps=[\n",
    "    ('imp', Imputer()),\n",
    "    ('enc', onehot),\n",
    "    ('scl', StandardScaler()),\n",
    "    ('clf', LogisticRegression(max_iter=10000, random_state=11, n_jobs=CPU_COUNT))\n",
    "])\n",
    "\n",
    "param = [{'enc__onehotencoder__drop': ['first'],\n",
    "          'enc__onehotencoder__min_frequency': [0.05],\n",
    "          'enc__onehotencoder__sparse_output': [False],\n",
    "          'clf__class_weight': ['balanced']}]\n",
    "\n",
    "lr = GridSearchCV(pipe, param, cv=cv, scoring='roc_auc', return_train_score=True)\n",
    "%time lr.fit(X_train, y_train)\n",
    "agg_stats(summary_lr, lr, 'One-hot Encoder + Logistic Regression')"
   ]
  },
  {
   "cell_type": "markdown",
   "id": "24f20175",
   "metadata": {},
   "source": [
    "Небольшое значение CV Train говорит о том, что модель недообучилась. Попробуем закодировать категориальные признаки TargetEncoder-ом."
   ]
  },
  {
   "cell_type": "code",
   "execution_count": 22,
   "id": "8d2fdf79",
   "metadata": {},
   "outputs": [
    {
     "name": "stdout",
     "output_type": "stream",
     "text": [
      "CPU times: user 1min 48s, sys: 5.91 s, total: 1min 54s\n",
      "Wall time: 1min 57s\n",
      "\n",
      "{'clf__class_weight': 'balanced'}\n",
      "\n"
     ]
    },
    {
     "data": {
      "text/html": [
       "<div>\n",
       "<style scoped>\n",
       "    .dataframe tbody tr th:only-of-type {\n",
       "        vertical-align: middle;\n",
       "    }\n",
       "\n",
       "    .dataframe tbody tr th {\n",
       "        vertical-align: top;\n",
       "    }\n",
       "\n",
       "    .dataframe thead th {\n",
       "        text-align: right;\n",
       "    }\n",
       "</style>\n",
       "<table border=\"1\" class=\"dataframe\">\n",
       "  <thead>\n",
       "    <tr style=\"text-align: right;\">\n",
       "      <th></th>\n",
       "      <th>Target Encoder + Logistic Regression</th>\n",
       "    </tr>\n",
       "  </thead>\n",
       "  <tbody>\n",
       "    <tr>\n",
       "      <th>CV Train</th>\n",
       "      <td>0.672</td>\n",
       "    </tr>\n",
       "    <tr>\n",
       "      <th>CV Test</th>\n",
       "      <td>0.660</td>\n",
       "    </tr>\n",
       "    <tr>\n",
       "      <th>CV Overfit</th>\n",
       "      <td>0.019</td>\n",
       "    </tr>\n",
       "    <tr>\n",
       "      <th>Test</th>\n",
       "      <td>0.661</td>\n",
       "    </tr>\n",
       "    <tr>\n",
       "      <th>Time</th>\n",
       "      <td>0.385</td>\n",
       "    </tr>\n",
       "  </tbody>\n",
       "</table>\n",
       "</div>"
      ],
      "text/plain": [
       "            Target Encoder + Logistic Regression\n",
       "CV Train                                   0.672\n",
       "CV Test                                    0.660\n",
       "CV Overfit                                 0.019\n",
       "Test                                       0.661\n",
       "Time                                       0.385"
      ]
     },
     "metadata": {},
     "output_type": "display_data"
    }
   ],
   "source": [
    "pipe = Pipeline(steps=[\n",
    "    ('imp', Imputer()),\n",
    "    ('enc', target),\n",
    "    ('scl', StandardScaler()),\n",
    "    ('clf', LogisticRegression(max_iter=10000, random_state=11, n_jobs=CPU_COUNT))\n",
    "])\n",
    "\n",
    "param = [{'clf__class_weight': ['balanced']}]\n",
    "\n",
    "lr = GridSearchCV(pipe, param, cv=cv, scoring='roc_auc', return_train_score=True)\n",
    "%time lr.fit(X_train, y_train)\n",
    "agg_stats(summary_lr, lr, 'Target Encoder + Logistic Regression')"
   ]
  },
  {
   "cell_type": "markdown",
   "id": "b7d6f65c",
   "metadata": {},
   "source": [
    "Попробуем еще улучшить метрику и сгенерируем полиномиальные признаки."
   ]
  },
  {
   "cell_type": "code",
   "execution_count": 23,
   "id": "f890c810",
   "metadata": {},
   "outputs": [
    {
     "name": "stdout",
     "output_type": "stream",
     "text": [
      "CPU times: user 2min, sys: 8.37 s, total: 2min 8s\n",
      "Wall time: 12min 5s\n",
      "\n",
      "{}\n",
      "\n"
     ]
    },
    {
     "data": {
      "text/html": [
       "<div>\n",
       "<style scoped>\n",
       "    .dataframe tbody tr th:only-of-type {\n",
       "        vertical-align: middle;\n",
       "    }\n",
       "\n",
       "    .dataframe tbody tr th {\n",
       "        vertical-align: top;\n",
       "    }\n",
       "\n",
       "    .dataframe thead th {\n",
       "        text-align: right;\n",
       "    }\n",
       "</style>\n",
       "<table border=\"1\" class=\"dataframe\">\n",
       "  <thead>\n",
       "    <tr style=\"text-align: right;\">\n",
       "      <th></th>\n",
       "      <th>Target + Poly Features + Logistic Regression</th>\n",
       "    </tr>\n",
       "  </thead>\n",
       "  <tbody>\n",
       "    <tr>\n",
       "      <th>CV Train</th>\n",
       "      <td>0.683</td>\n",
       "    </tr>\n",
       "    <tr>\n",
       "      <th>CV Test</th>\n",
       "      <td>0.670</td>\n",
       "    </tr>\n",
       "    <tr>\n",
       "      <th>CV Overfit</th>\n",
       "      <td>0.019</td>\n",
       "    </tr>\n",
       "    <tr>\n",
       "      <th>Test</th>\n",
       "      <td>0.671</td>\n",
       "    </tr>\n",
       "    <tr>\n",
       "      <th>Time</th>\n",
       "      <td>2.385</td>\n",
       "    </tr>\n",
       "  </tbody>\n",
       "</table>\n",
       "</div>"
      ],
      "text/plain": [
       "            Target + Poly Features + Logistic Regression\n",
       "CV Train                                           0.683\n",
       "CV Test                                            0.670\n",
       "CV Overfit                                         0.019\n",
       "Test                                               0.671\n",
       "Time                                               2.385"
      ]
     },
     "metadata": {},
     "output_type": "display_data"
    }
   ],
   "source": [
    "pipe = Pipeline(steps=[\n",
    "    ('imp', Imputer()),\n",
    "    ('enc', target),\n",
    "    ('feat', PolynomialFeatures(degree=2, include_bias=False)),\n",
    "    ('scl', StandardScaler()),\n",
    "    ('clf', LogisticRegression(max_iter=10000, random_state=11, n_jobs=CPU_COUNT))\n",
    "])\n",
    "\n",
    "param = [{}]\n",
    "\n",
    "lr = GridSearchCV(pipe, param, cv=cv, scoring='roc_auc', return_train_score=True)\n",
    "%time lr.fit(X_train, y_train)\n",
    "agg_stats(summary_lr, lr, 'Target + Poly Features + Logistic Regression')"
   ]
  },
  {
   "cell_type": "code",
   "execution_count": 24,
   "id": "7070099b",
   "metadata": {},
   "outputs": [
    {
     "name": "stdout",
     "output_type": "stream",
     "text": [
      "CPU times: user 2min, sys: 8.58 s, total: 2min 9s\n",
      "Wall time: 14min 14s\n",
      "\n",
      "{'clf__class_weight': 'balanced'}\n",
      "\n"
     ]
    },
    {
     "data": {
      "text/html": [
       "<div>\n",
       "<style scoped>\n",
       "    .dataframe tbody tr th:only-of-type {\n",
       "        vertical-align: middle;\n",
       "    }\n",
       "\n",
       "    .dataframe tbody tr th {\n",
       "        vertical-align: top;\n",
       "    }\n",
       "\n",
       "    .dataframe thead th {\n",
       "        text-align: right;\n",
       "    }\n",
       "</style>\n",
       "<table border=\"1\" class=\"dataframe\">\n",
       "  <thead>\n",
       "    <tr style=\"text-align: right;\">\n",
       "      <th></th>\n",
       "      <th>Target + Poly Features + Logistic Regression + class weights</th>\n",
       "    </tr>\n",
       "  </thead>\n",
       "  <tbody>\n",
       "    <tr>\n",
       "      <th>CV Train</th>\n",
       "      <td>0.683</td>\n",
       "    </tr>\n",
       "    <tr>\n",
       "      <th>CV Test</th>\n",
       "      <td>0.670</td>\n",
       "    </tr>\n",
       "    <tr>\n",
       "      <th>CV Overfit</th>\n",
       "      <td>0.020</td>\n",
       "    </tr>\n",
       "    <tr>\n",
       "      <th>Test</th>\n",
       "      <td>0.671</td>\n",
       "    </tr>\n",
       "    <tr>\n",
       "      <th>Time</th>\n",
       "      <td>3.076</td>\n",
       "    </tr>\n",
       "  </tbody>\n",
       "</table>\n",
       "</div>"
      ],
      "text/plain": [
       "            Target + Poly Features + Logistic Regression + class weights\n",
       "CV Train                                                0.683           \n",
       "CV Test                                                 0.670           \n",
       "CV Overfit                                              0.020           \n",
       "Test                                                    0.671           \n",
       "Time                                                    3.076           "
      ]
     },
     "metadata": {},
     "output_type": "display_data"
    }
   ],
   "source": [
    "pipe = Pipeline(steps=[\n",
    "    ('imp', Imputer()),\n",
    "    ('enc', target),\n",
    "    ('feat', PolynomialFeatures(degree=2, include_bias=False)),\n",
    "    ('scl', StandardScaler()),\n",
    "    ('clf', LogisticRegression(max_iter=10000, random_state=11, n_jobs=CPU_COUNT))\n",
    "])\n",
    "\n",
    "param = [{'clf__class_weight': ['balanced']}]\n",
    "\n",
    "lr = GridSearchCV(pipe, param, cv=cv, scoring='roc_auc', return_train_score=True)\n",
    "%time lr.fit(X_train, y_train)\n",
    "agg_stats(summary_lr, lr, 'Target + Poly Features + Logistic Regression + class weights')"
   ]
  },
  {
   "cell_type": "markdown",
   "id": "82683021",
   "metadata": {},
   "source": [
    "Вариант с Oversampling для LogisticRegression пропустим, т.к. работает слишком долго (~30 мин)."
   ]
  },
  {
   "cell_type": "code",
   "execution_count": 25,
   "id": "a1bd8198",
   "metadata": {},
   "outputs": [
    {
     "name": "stdout",
     "output_type": "stream",
     "text": [
      "CPU times: user 1min 59s, sys: 7.47 s, total: 2min 7s\n",
      "Wall time: 2min 31s\n",
      "\n",
      "{}\n",
      "\n"
     ]
    },
    {
     "data": {
      "text/html": [
       "<div>\n",
       "<style scoped>\n",
       "    .dataframe tbody tr th:only-of-type {\n",
       "        vertical-align: middle;\n",
       "    }\n",
       "\n",
       "    .dataframe tbody tr th {\n",
       "        vertical-align: top;\n",
       "    }\n",
       "\n",
       "    .dataframe thead th {\n",
       "        text-align: right;\n",
       "    }\n",
       "</style>\n",
       "<table border=\"1\" class=\"dataframe\">\n",
       "  <thead>\n",
       "    <tr style=\"text-align: right;\">\n",
       "      <th></th>\n",
       "      <th>Target + Poly Features + Undersampling + Logistic Regression</th>\n",
       "    </tr>\n",
       "  </thead>\n",
       "  <tbody>\n",
       "    <tr>\n",
       "      <th>CV Train</th>\n",
       "      <td>0.683</td>\n",
       "    </tr>\n",
       "    <tr>\n",
       "      <th>CV Test</th>\n",
       "      <td>0.670</td>\n",
       "    </tr>\n",
       "    <tr>\n",
       "      <th>CV Overfit</th>\n",
       "      <td>0.019</td>\n",
       "    </tr>\n",
       "    <tr>\n",
       "      <th>Test</th>\n",
       "      <td>0.671</td>\n",
       "    </tr>\n",
       "    <tr>\n",
       "      <th>Time</th>\n",
       "      <td>0.506</td>\n",
       "    </tr>\n",
       "  </tbody>\n",
       "</table>\n",
       "</div>"
      ],
      "text/plain": [
       "            Target + Poly Features + Undersampling + Logistic Regression\n",
       "CV Train                                                0.683           \n",
       "CV Test                                                 0.670           \n",
       "CV Overfit                                              0.019           \n",
       "Test                                                    0.671           \n",
       "Time                                                    0.506           "
      ]
     },
     "metadata": {},
     "output_type": "display_data"
    }
   ],
   "source": [
    "pipe = ImbPipeline(steps=[\n",
    "    ('imp', Imputer()),\n",
    "    ('enc', target),\n",
    "    ('feat', PolynomialFeatures(degree=2, include_bias=False)),\n",
    "    ('scl', StandardScaler()),\n",
    "    ('res', RandomUnderSampler(random_state=11)),\n",
    "    ('clf', LogisticRegression(max_iter=10000, random_state=11, n_jobs=CPU_COUNT))\n",
    "])\n",
    "\n",
    "param = [{}]\n",
    "\n",
    "lr = GridSearchCV(pipe, param, cv=cv, scoring='roc_auc', return_train_score=True)\n",
    "%time lr.fit(X_train, y_train)\n",
    "agg_stats(summary_lr, lr, 'Target + Poly Features + Undersampling + Logistic Regression')"
   ]
  },
  {
   "cell_type": "code",
   "execution_count": 26,
   "id": "68845ad8",
   "metadata": {},
   "outputs": [
    {
     "data": {
      "image/png": "[encoded data removed]",
      "text/plain": [
       "<Figure size 800x700 with 1 Axes>"
      ]
     },
     "metadata": {},
     "output_type": "display_data"
    }
   ],
   "source": [
    "plot_summary(summary_lr, 'summary_lr')"
   ]
  },
  {
   "cell_type": "code",
   "execution_count": 27,
   "id": "6b6e0c16",
   "metadata": {},
   "outputs": [
    {
     "data": {
      "image/png": "[encoded data removed]",
      "text/plain": [
       "<Figure size 800x600 with 1 Axes>"
      ]
     },
     "metadata": {},
     "output_type": "display_data"
    }
   ],
   "source": [
    "plot_permutation_importances(lr, 'Logistic Regression')"
   ]
  },
  {
   "cell_type": "markdown",
   "id": "a070d9f4",
   "metadata": {},
   "source": [
    "Попробуем использовать Catboost."
   ]
  },
  {
   "cell_type": "code",
   "execution_count": 28,
   "id": "4e07fb13",
   "metadata": {},
   "outputs": [
    {
     "name": "stdout",
     "output_type": "stream",
     "text": [
      "CPU times: user 1h 26min 27s, sys: 27.4 s, total: 1h 26min 55s\n",
      "Wall time: 11min 59s\n",
      "\n",
      "{'clf__iterations': 200}\n",
      "\n"
     ]
    },
    {
     "data": {
      "text/html": [
       "<div>\n",
       "<style scoped>\n",
       "    .dataframe tbody tr th:only-of-type {\n",
       "        vertical-align: middle;\n",
       "    }\n",
       "\n",
       "    .dataframe tbody tr th {\n",
       "        vertical-align: top;\n",
       "    }\n",
       "\n",
       "    .dataframe thead th {\n",
       "        text-align: right;\n",
       "    }\n",
       "</style>\n",
       "<table border=\"1\" class=\"dataframe\">\n",
       "  <thead>\n",
       "    <tr style=\"text-align: right;\">\n",
       "      <th></th>\n",
       "      <th>CatBoost</th>\n",
       "    </tr>\n",
       "  </thead>\n",
       "  <tbody>\n",
       "    <tr>\n",
       "      <th>CV Train</th>\n",
       "      <td>0.706</td>\n",
       "    </tr>\n",
       "    <tr>\n",
       "      <th>CV Test</th>\n",
       "      <td>0.684</td>\n",
       "    </tr>\n",
       "    <tr>\n",
       "      <th>CV Overfit</th>\n",
       "      <td>0.033</td>\n",
       "    </tr>\n",
       "    <tr>\n",
       "      <th>Test</th>\n",
       "      <td>0.689</td>\n",
       "    </tr>\n",
       "    <tr>\n",
       "      <th>Time</th>\n",
       "      <td>2.597</td>\n",
       "    </tr>\n",
       "  </tbody>\n",
       "</table>\n",
       "</div>"
      ],
      "text/plain": [
       "            CatBoost\n",
       "CV Train       0.706\n",
       "CV Test        0.684\n",
       "CV Overfit     0.033\n",
       "Test           0.689\n",
       "Time           2.597"
      ]
     },
     "metadata": {},
     "output_type": "display_data"
    }
   ],
   "source": [
    "pipe = Pipeline(steps=[\n",
    "    ('imp', Imputer()),\n",
    "    ('clf', CatBoostClassifier(cat_features=cols_cat, random_seed=11, verbose=False))\n",
    "])\n",
    "\n",
    "param = [{'clf__iterations': [200]}]\n",
    "\n",
    "cb = GridSearchCV(pipe, param, cv=cv, scoring='roc_auc', return_train_score=True)\n",
    "%time cb.fit(X_train, y_train)\n",
    "agg_stats(summary_cb, cb, 'CatBoost')"
   ]
  },
  {
   "cell_type": "code",
   "execution_count": 29,
   "id": "c2d88cf1",
   "metadata": {},
   "outputs": [
    {
     "name": "stdout",
     "output_type": "stream",
     "text": [
      "CPU times: user 1h 31min 26s, sys: 28.6 s, total: 1h 31min 55s\n",
      "Wall time: 12min 44s\n",
      "\n",
      "{'clf__auto_class_weights': 'Balanced', 'clf__iterations': 200}\n",
      "\n"
     ]
    },
    {
     "data": {
      "text/html": [
       "<div>\n",
       "<style scoped>\n",
       "    .dataframe tbody tr th:only-of-type {\n",
       "        vertical-align: middle;\n",
       "    }\n",
       "\n",
       "    .dataframe tbody tr th {\n",
       "        vertical-align: top;\n",
       "    }\n",
       "\n",
       "    .dataframe thead th {\n",
       "        text-align: right;\n",
       "    }\n",
       "</style>\n",
       "<table border=\"1\" class=\"dataframe\">\n",
       "  <thead>\n",
       "    <tr style=\"text-align: right;\">\n",
       "      <th></th>\n",
       "      <th>CatBoost + class weights</th>\n",
       "    </tr>\n",
       "  </thead>\n",
       "  <tbody>\n",
       "    <tr>\n",
       "      <th>CV Train</th>\n",
       "      <td>0.710</td>\n",
       "    </tr>\n",
       "    <tr>\n",
       "      <th>CV Test</th>\n",
       "      <td>0.682</td>\n",
       "    </tr>\n",
       "    <tr>\n",
       "      <th>CV Overfit</th>\n",
       "      <td>0.042</td>\n",
       "    </tr>\n",
       "    <tr>\n",
       "      <th>Test</th>\n",
       "      <td>0.692</td>\n",
       "    </tr>\n",
       "    <tr>\n",
       "      <th>Time</th>\n",
       "      <td>2.715</td>\n",
       "    </tr>\n",
       "  </tbody>\n",
       "</table>\n",
       "</div>"
      ],
      "text/plain": [
       "            CatBoost + class weights\n",
       "CV Train                       0.710\n",
       "CV Test                        0.682\n",
       "CV Overfit                     0.042\n",
       "Test                           0.692\n",
       "Time                           2.715"
      ]
     },
     "metadata": {},
     "output_type": "display_data"
    }
   ],
   "source": [
    "pipe = Pipeline(steps=[\n",
    "    ('imp', Imputer()),\n",
    "    ('clf', CatBoostClassifier(cat_features=cols_cat, random_seed=11, verbose=False))\n",
    "])\n",
    "\n",
    "param = [{'clf__iterations': [200],\n",
    "          'clf__auto_class_weights': ['Balanced']}]\n",
    "\n",
    "cb = GridSearchCV(pipe, param, cv=cv, scoring='roc_auc', return_train_score=True)\n",
    "%time cb.fit(X_train, y_train)\n",
    "agg_stats(summary_cb, cb, 'CatBoost + class weights')"
   ]
  },
  {
   "cell_type": "code",
   "execution_count": 30,
   "id": "948188ee",
   "metadata": {},
   "outputs": [
    {
     "name": "stdout",
     "output_type": "stream",
     "text": [
      "CPU times: user 26min 6s, sys: 9.7 s, total: 26min 16s\n",
      "Wall time: 4min 19s\n",
      "\n",
      "{'clf__iterations': 150}\n",
      "\n"
     ]
    },
    {
     "data": {
      "text/html": [
       "<div>\n",
       "<style scoped>\n",
       "    .dataframe tbody tr th:only-of-type {\n",
       "        vertical-align: middle;\n",
       "    }\n",
       "\n",
       "    .dataframe tbody tr th {\n",
       "        vertical-align: top;\n",
       "    }\n",
       "\n",
       "    .dataframe thead th {\n",
       "        text-align: right;\n",
       "    }\n",
       "</style>\n",
       "<table border=\"1\" class=\"dataframe\">\n",
       "  <thead>\n",
       "    <tr style=\"text-align: right;\">\n",
       "      <th></th>\n",
       "      <th>Oversampling + CatBoost</th>\n",
       "    </tr>\n",
       "  </thead>\n",
       "  <tbody>\n",
       "    <tr>\n",
       "      <th>CV Train</th>\n",
       "      <td>0.725</td>\n",
       "    </tr>\n",
       "    <tr>\n",
       "      <th>CV Test</th>\n",
       "      <td>0.684</td>\n",
       "    </tr>\n",
       "    <tr>\n",
       "      <th>CV Overfit</th>\n",
       "      <td>0.060</td>\n",
       "    </tr>\n",
       "    <tr>\n",
       "      <th>Test</th>\n",
       "      <td>0.691</td>\n",
       "    </tr>\n",
       "    <tr>\n",
       "      <th>Time</th>\n",
       "      <td>0.928</td>\n",
       "    </tr>\n",
       "  </tbody>\n",
       "</table>\n",
       "</div>"
      ],
      "text/plain": [
       "            Oversampling + CatBoost\n",
       "CV Train                      0.725\n",
       "CV Test                       0.684\n",
       "CV Overfit                    0.060\n",
       "Test                          0.691\n",
       "Time                          0.928"
      ]
     },
     "metadata": {},
     "output_type": "display_data"
    }
   ],
   "source": [
    "pipe = ImbPipeline(steps=[\n",
    "    ('imp', Imputer()),\n",
    "    ('res', RandomOverSampler(random_state=11)),\n",
    "    ('clf', CatBoostClassifier(cat_features=cols_cat, random_seed=11, verbose=False))\n",
    "])\n",
    "\n",
    "param = [{'clf__iterations': [150]}]\n",
    "\n",
    "cb = GridSearchCV(pipe, param, cv=cv, scoring='roc_auc', return_train_score=True)\n",
    "%time cb.fit(X_train, y_train)\n",
    "agg_stats(summary_cb, cb, 'Oversampling + CatBoost')"
   ]
  },
  {
   "cell_type": "code",
   "execution_count": 31,
   "id": "c73f5baf",
   "metadata": {
    "scrolled": false
   },
   "outputs": [
    {
     "name": "stdout",
     "output_type": "stream",
     "text": [
      "CPU times: user 22min 45s, sys: 57 s, total: 23min 42s\n",
      "Wall time: 3min 34s\n",
      "\n",
      "{}\n",
      "\n"
     ]
    },
    {
     "data": {
      "text/html": [
       "<div>\n",
       "<style scoped>\n",
       "    .dataframe tbody tr th:only-of-type {\n",
       "        vertical-align: middle;\n",
       "    }\n",
       "\n",
       "    .dataframe tbody tr th {\n",
       "        vertical-align: top;\n",
       "    }\n",
       "\n",
       "    .dataframe thead th {\n",
       "        text-align: right;\n",
       "    }\n",
       "</style>\n",
       "<table border=\"1\" class=\"dataframe\">\n",
       "  <thead>\n",
       "    <tr style=\"text-align: right;\">\n",
       "      <th></th>\n",
       "      <th>Undersampling + CatBoost</th>\n",
       "    </tr>\n",
       "  </thead>\n",
       "  <tbody>\n",
       "    <tr>\n",
       "      <th>CV Train</th>\n",
       "      <td>0.707</td>\n",
       "    </tr>\n",
       "    <tr>\n",
       "      <th>CV Test</th>\n",
       "      <td>0.688</td>\n",
       "    </tr>\n",
       "    <tr>\n",
       "      <th>CV Overfit</th>\n",
       "      <td>0.027</td>\n",
       "    </tr>\n",
       "    <tr>\n",
       "      <th>Test</th>\n",
       "      <td>0.695</td>\n",
       "    </tr>\n",
       "    <tr>\n",
       "      <th>Time</th>\n",
       "      <td>0.745</td>\n",
       "    </tr>\n",
       "  </tbody>\n",
       "</table>\n",
       "</div>"
      ],
      "text/plain": [
       "            Undersampling + CatBoost\n",
       "CV Train                       0.707\n",
       "CV Test                        0.688\n",
       "CV Overfit                     0.027\n",
       "Test                           0.695\n",
       "Time                           0.745"
      ]
     },
     "metadata": {},
     "output_type": "display_data"
    }
   ],
   "source": [
    "pipe = ImbPipeline(steps=[\n",
    "    ('imp', Imputer()),\n",
    "    ('res', RandomUnderSampler(random_state=11)),\n",
    "    ('clf', CatBoostClassifier(cat_features=cols_cat, random_seed=11, verbose=False))\n",
    "])\n",
    "\n",
    "param = [{}]\n",
    "\n",
    "cb = GridSearchCV(pipe, param, cv=cv, scoring='roc_auc', return_train_score=True)\n",
    "%time cb.fit(X_train, y_train)\n",
    "agg_stats(summary_cb, cb, 'Undersampling + CatBoost')"
   ]
  },
  {
   "cell_type": "code",
   "execution_count": 32,
   "id": "a2dc004a",
   "metadata": {},
   "outputs": [
    {
     "data": {
      "image/png": "[encoded data removed]",
      "text/plain": [
       "<Figure size 800x700 with 1 Axes>"
      ]
     },
     "metadata": {},
     "output_type": "display_data"
    }
   ],
   "source": [
    "plot_summary(summary_cb, 'summary_cb')"
   ]
  },
  {
   "cell_type": "code",
   "execution_count": 33,
   "id": "d7bffea6",
   "metadata": {},
   "outputs": [
    {
     "data": {
      "image/png": "[encoded data removed]",
      "text/plain": [
       "<Figure size 800x600 with 1 Axes>"
      ]
     },
     "metadata": {},
     "output_type": "display_data"
    }
   ],
   "source": [
    "plot_permutation_importances(cb, 'CatBoost')"
   ]
  },
  {
   "cell_type": "markdown",
   "id": "2d371898",
   "metadata": {},
   "source": [
    "Попробуем использовать XGBoost. \n",
    "\n",
    "Вариант XGBoost для CPU требует предварительно закодировать категориальные признаки, вариант для GPU моя видеокарта не тянет."
   ]
  },
  {
   "cell_type": "code",
   "execution_count": 34,
   "id": "69b1eac7",
   "metadata": {},
   "outputs": [
    {
     "name": "stdout",
     "output_type": "stream",
     "text": [
      "CPU times: user 42min 58s, sys: 2.81 s, total: 43min 1s\n",
      "Wall time: 6min 34s\n",
      "\n",
      "{'clf__max_depth': 3,\n",
      " 'clf__n_estimators': 500,\n",
      " 'enc__onehotencoder__min_frequency': 0.0125}\n",
      "\n"
     ]
    },
    {
     "data": {
      "text/html": [
       "<div>\n",
       "<style scoped>\n",
       "    .dataframe tbody tr th:only-of-type {\n",
       "        vertical-align: middle;\n",
       "    }\n",
       "\n",
       "    .dataframe tbody tr th {\n",
       "        vertical-align: top;\n",
       "    }\n",
       "\n",
       "    .dataframe thead th {\n",
       "        text-align: right;\n",
       "    }\n",
       "</style>\n",
       "<table border=\"1\" class=\"dataframe\">\n",
       "  <thead>\n",
       "    <tr style=\"text-align: right;\">\n",
       "      <th></th>\n",
       "      <th>XGBoost</th>\n",
       "    </tr>\n",
       "  </thead>\n",
       "  <tbody>\n",
       "    <tr>\n",
       "      <th>CV Train</th>\n",
       "      <td>0.700</td>\n",
       "    </tr>\n",
       "    <tr>\n",
       "      <th>CV Test</th>\n",
       "      <td>0.681</td>\n",
       "    </tr>\n",
       "    <tr>\n",
       "      <th>CV Overfit</th>\n",
       "      <td>0.028</td>\n",
       "    </tr>\n",
       "    <tr>\n",
       "      <th>Test</th>\n",
       "      <td>0.689</td>\n",
       "    </tr>\n",
       "    <tr>\n",
       "      <th>Time</th>\n",
       "      <td>1.306</td>\n",
       "    </tr>\n",
       "  </tbody>\n",
       "</table>\n",
       "</div>"
      ],
      "text/plain": [
       "            XGBoost\n",
       "CV Train      0.700\n",
       "CV Test       0.681\n",
       "CV Overfit    0.028\n",
       "Test          0.689\n",
       "Time          1.306"
      ]
     },
     "metadata": {},
     "output_type": "display_data"
    }
   ],
   "source": [
    "pipe = Pipeline(steps=[\n",
    "    ('imp', Imputer()),\n",
    "    ('enc', onehot),\n",
    "    ('clf', XGBClassifier(random_state=11, n_jobs=CPU_COUNT))\n",
    "])\n",
    "\n",
    "param = [{'enc__onehotencoder__min_frequency': [0.0125],\n",
    "          'clf__n_estimators': [500], \n",
    "          'clf__max_depth': [3]}]\n",
    "\n",
    "xgb = GridSearchCV(pipe, param, cv=cv, scoring='roc_auc', return_train_score=True)\n",
    "%time xgb.fit(X_train, y_train)\n",
    "agg_stats(summary_xgb, xgb, 'XGBoost')"
   ]
  },
  {
   "cell_type": "code",
   "execution_count": 35,
   "id": "f7f5544d",
   "metadata": {},
   "outputs": [
    {
     "name": "stdout",
     "output_type": "stream",
     "text": [
      "CPU times: user 43min 2s, sys: 2.89 s, total: 43min 5s\n",
      "Wall time: 6min 35s\n",
      "\n",
      "{'clf__max_depth': 3,\n",
      " 'clf__n_estimators': 500,\n",
      " 'clf__scale_pos_weight': 33.428151210398696,\n",
      " 'enc__onehotencoder__min_frequency': 0.0125}\n",
      "\n"
     ]
    },
    {
     "data": {
      "text/html": [
       "<div>\n",
       "<style scoped>\n",
       "    .dataframe tbody tr th:only-of-type {\n",
       "        vertical-align: middle;\n",
       "    }\n",
       "\n",
       "    .dataframe tbody tr th {\n",
       "        vertical-align: top;\n",
       "    }\n",
       "\n",
       "    .dataframe thead th {\n",
       "        text-align: right;\n",
       "    }\n",
       "</style>\n",
       "<table border=\"1\" class=\"dataframe\">\n",
       "  <thead>\n",
       "    <tr style=\"text-align: right;\">\n",
       "      <th></th>\n",
       "      <th>XGBoost + class weights</th>\n",
       "    </tr>\n",
       "  </thead>\n",
       "  <tbody>\n",
       "    <tr>\n",
       "      <th>CV Train</th>\n",
       "      <td>0.702</td>\n",
       "    </tr>\n",
       "    <tr>\n",
       "      <th>CV Test</th>\n",
       "      <td>0.681</td>\n",
       "    </tr>\n",
       "    <tr>\n",
       "      <th>CV Overfit</th>\n",
       "      <td>0.032</td>\n",
       "    </tr>\n",
       "    <tr>\n",
       "      <th>Test</th>\n",
       "      <td>0.689</td>\n",
       "    </tr>\n",
       "    <tr>\n",
       "      <th>Time</th>\n",
       "      <td>1.323</td>\n",
       "    </tr>\n",
       "  </tbody>\n",
       "</table>\n",
       "</div>"
      ],
      "text/plain": [
       "            XGBoost + class weights\n",
       "CV Train                      0.702\n",
       "CV Test                       0.681\n",
       "CV Overfit                    0.032\n",
       "Test                          0.689\n",
       "Time                          1.323"
      ]
     },
     "metadata": {},
     "output_type": "display_data"
    }
   ],
   "source": [
    "pipe = Pipeline(steps=[\n",
    "    ('imp', Imputer()),\n",
    "    ('enc', onehot),\n",
    "    ('clf', XGBClassifier(random_state=11, n_jobs=CPU_COUNT))\n",
    "])\n",
    "\n",
    "param = [{'enc__onehotencoder__min_frequency': [0.0125],\n",
    "          'clf__scale_pos_weight': [(y == 0).sum() / (y == 1).sum()],\n",
    "          'clf__n_estimators': [500], \n",
    "          'clf__max_depth': [3]}]\n",
    "\n",
    "xgb_weighted = GridSearchCV(pipe, param, cv=cv, scoring='roc_auc', return_train_score=True)\n",
    "%time xgb_weighted.fit(X_train, y_train)\n",
    "agg_stats(summary_xgb, xgb_weighted, 'XGBoost + class weights')"
   ]
  },
  {
   "cell_type": "code",
   "execution_count": 36,
   "id": "9992f0da",
   "metadata": {},
   "outputs": [
    {
     "name": "stdout",
     "output_type": "stream",
     "text": [
      "CPU times: user 26min 3s, sys: 5.12 s, total: 26min 8s\n",
      "Wall time: 5min 21s\n",
      "\n",
      "{'clf__max_depth': 4,\n",
      " 'clf__n_estimators': 100,\n",
      " 'enc__onehotencoder__min_frequency': 0.0125}\n",
      "\n"
     ]
    },
    {
     "data": {
      "text/html": [
       "<div>\n",
       "<style scoped>\n",
       "    .dataframe tbody tr th:only-of-type {\n",
       "        vertical-align: middle;\n",
       "    }\n",
       "\n",
       "    .dataframe tbody tr th {\n",
       "        vertical-align: top;\n",
       "    }\n",
       "\n",
       "    .dataframe thead th {\n",
       "        text-align: right;\n",
       "    }\n",
       "</style>\n",
       "<table border=\"1\" class=\"dataframe\">\n",
       "  <thead>\n",
       "    <tr style=\"text-align: right;\">\n",
       "      <th></th>\n",
       "      <th>Oversampling + XGBoost</th>\n",
       "    </tr>\n",
       "  </thead>\n",
       "  <tbody>\n",
       "    <tr>\n",
       "      <th>CV Train</th>\n",
       "      <td>0.694</td>\n",
       "    </tr>\n",
       "    <tr>\n",
       "      <th>CV Test</th>\n",
       "      <td>0.680</td>\n",
       "    </tr>\n",
       "    <tr>\n",
       "      <th>CV Overfit</th>\n",
       "      <td>0.021</td>\n",
       "    </tr>\n",
       "    <tr>\n",
       "      <th>Test</th>\n",
       "      <td>0.687</td>\n",
       "    </tr>\n",
       "    <tr>\n",
       "      <th>Time</th>\n",
       "      <td>1.124</td>\n",
       "    </tr>\n",
       "  </tbody>\n",
       "</table>\n",
       "</div>"
      ],
      "text/plain": [
       "            Oversampling + XGBoost\n",
       "CV Train                     0.694\n",
       "CV Test                      0.680\n",
       "CV Overfit                   0.021\n",
       "Test                         0.687\n",
       "Time                         1.124"
      ]
     },
     "metadata": {},
     "output_type": "display_data"
    }
   ],
   "source": [
    "pipe = ImbPipeline(steps=[\n",
    "    ('imp', Imputer()),\n",
    "    ('res', RandomOverSampler(random_state=11)),\n",
    "    ('enc', onehot),\n",
    "    ('clf', XGBClassifier(random_state=11, n_jobs=CPU_COUNT))\n",
    "])\n",
    "\n",
    "param = [{'enc__onehotencoder__min_frequency': [0.0125],\n",
    "          'clf__n_estimators': [100], \n",
    "          'clf__max_depth': [4]}]\n",
    "\n",
    "xgb = GridSearchCV(pipe, param, cv=cv, scoring='roc_auc', return_train_score=True)\n",
    "%time xgb.fit(X_train, y_train)\n",
    "agg_stats(summary_xgb, xgb, 'Oversampling + XGBoost')"
   ]
  },
  {
   "cell_type": "code",
   "execution_count": 37,
   "id": "6c56e015",
   "metadata": {},
   "outputs": [
    {
     "name": "stdout",
     "output_type": "stream",
     "text": [
      "CPU times: user 3min 50s, sys: 2.07 s, total: 3min 52s\n",
      "Wall time: 1min 28s\n",
      "\n",
      "{'clf__max_depth': 3,\n",
      " 'clf__n_estimators': 500,\n",
      " 'enc__onehotencoder__min_frequency': 0.0125}\n",
      "\n"
     ]
    },
    {
     "data": {
      "text/html": [
       "<div>\n",
       "<style scoped>\n",
       "    .dataframe tbody tr th:only-of-type {\n",
       "        vertical-align: middle;\n",
       "    }\n",
       "\n",
       "    .dataframe tbody tr th {\n",
       "        vertical-align: top;\n",
       "    }\n",
       "\n",
       "    .dataframe thead th {\n",
       "        text-align: right;\n",
       "    }\n",
       "</style>\n",
       "<table border=\"1\" class=\"dataframe\">\n",
       "  <thead>\n",
       "    <tr style=\"text-align: right;\">\n",
       "      <th></th>\n",
       "      <th>Undersampling + XGBoost</th>\n",
       "    </tr>\n",
       "  </thead>\n",
       "  <tbody>\n",
       "    <tr>\n",
       "      <th>CV Train</th>\n",
       "      <td>0.694</td>\n",
       "    </tr>\n",
       "    <tr>\n",
       "      <th>CV Test</th>\n",
       "      <td>0.676</td>\n",
       "    </tr>\n",
       "    <tr>\n",
       "      <th>CV Overfit</th>\n",
       "      <td>0.027</td>\n",
       "    </tr>\n",
       "    <tr>\n",
       "      <th>Test</th>\n",
       "      <td>0.685</td>\n",
       "    </tr>\n",
       "    <tr>\n",
       "      <th>Time</th>\n",
       "      <td>0.274</td>\n",
       "    </tr>\n",
       "  </tbody>\n",
       "</table>\n",
       "</div>"
      ],
      "text/plain": [
       "            Undersampling + XGBoost\n",
       "CV Train                      0.694\n",
       "CV Test                       0.676\n",
       "CV Overfit                    0.027\n",
       "Test                          0.685\n",
       "Time                          0.274"
      ]
     },
     "metadata": {},
     "output_type": "display_data"
    }
   ],
   "source": [
    "pipe = ImbPipeline(steps=[\n",
    "    ('imp', Imputer()),\n",
    "    ('enc', onehot),\n",
    "    ('res', RandomUnderSampler(random_state=11)),\n",
    "    ('clf', XGBClassifier(random_state=11, n_jobs=CPU_COUNT))\n",
    "])\n",
    "\n",
    "param = [{'enc__onehotencoder__min_frequency': [0.0125],\n",
    "          'clf__n_estimators': [500], \n",
    "          'clf__max_depth': [3]}]\n",
    "\n",
    "xgb = GridSearchCV(pipe, param, cv=cv, scoring='roc_auc', return_train_score=True)\n",
    "%time xgb.fit(X_train, y_train)\n",
    "agg_stats(summary_xgb, xgb, 'Undersampling + XGBoost')"
   ]
  },
  {
   "cell_type": "code",
   "execution_count": 38,
   "id": "fc2ea9a3",
   "metadata": {},
   "outputs": [
    {
     "data": {
      "image/png": "[encoded data removed]",
      "text/plain": [
       "<Figure size 800x700 with 1 Axes>"
      ]
     },
     "metadata": {},
     "output_type": "display_data"
    }
   ],
   "source": [
    "plot_summary(summary_xgb, 'summary_xgb')"
   ]
  },
  {
   "cell_type": "code",
   "execution_count": 39,
   "id": "9abd56e3",
   "metadata": {},
   "outputs": [
    {
     "data": {
      "image/png": "[encoded data removed]",
      "text/plain": [
       "<Figure size 800x600 with 1 Axes>"
      ]
     },
     "metadata": {},
     "output_type": "display_data"
    }
   ],
   "source": [
    "plot_permutation_importances(xgb_weighted, 'XGBoost')"
   ]
  },
  {
   "cell_type": "code",
   "execution_count": 40,
   "id": "ee8c65a3",
   "metadata": {},
   "outputs": [
    {
     "data": {
      "image/png": "[encoded data removed]",
      "text/plain": [
       "<Figure size 800x700 with 1 Axes>"
      ]
     },
     "metadata": {},
     "output_type": "display_data"
    }
   ],
   "source": [
    "def create_total_summary(summaries):\n",
    "    total_summary = pd.DataFrame({}, columns = summaries[0].columns)\n",
    "    for summary in summaries:\n",
    "        best_model = summary['CV Test'].idxmax()\n",
    "        total_summary.loc[best_model] = summary.loc[best_model]\n",
    "    return total_summary\n",
    "\n",
    "plot_summary(create_total_summary([summary_rf, summary_lr, summary_cb, summary_xgb]), 'summary_total')"
   ]
  },
  {
   "cell_type": "code",
   "execution_count": 41,
   "id": "3d104861",
   "metadata": {},
   "outputs": [],
   "source": [
    "summary_rf.to_csv('summary_rf.csv')\n",
    "summary_lr.to_csv('summary_lr.csv')\n",
    "summary_cb.to_csv('summary_cb.csv')\n",
    "summary_xgb.to_csv('summary_xgb.csv')"
   ]
  },
  {
   "cell_type": "markdown",
   "id": "599701e3",
   "metadata": {},
   "source": [
    "Лучшая модель - Catboost, RandomUnderSampler"
   ]
  },
  {
   "cell_type": "code",
   "execution_count": 42,
   "id": "9e400408",
   "metadata": {},
   "outputs": [
    {
     "name": "stdout",
     "output_type": "stream",
     "text": [
      "Complete\n"
     ]
    }
   ],
   "source": [
    "from sklearn.base import clone\n",
    "from functools import partial\n",
    "import dill\n",
    "\n",
    "est = clone(cb.best_estimator_)\n",
    "est.fit(X, y)\n",
    "\n",
    "model = Pipeline(steps=[\n",
    "    ('pre_split_filter', FunctionTransformer(partial(pre_split_filter, drop_outliers=False))),\n",
    "    ('estimator', est)\n",
    "])\n",
    "\n",
    "os.makedirs('../data', exist_ok=True)\n",
    "with open('../data/model.pkl', 'wb') as file:\n",
    "    dill.dump(model, file)\n",
    "    \n",
    "print('Complete')"
   ]
  }
 ],
 "metadata": {
  "kernelspec": {
   "display_name": "Python 3 (ipykernel)",
   "language": "python",
   "name": "python3"
  },
  "language_info": {
   "codemirror_mode": {
    "name": "ipython",
    "version": 3
   },
   "file_extension": ".py",
   "mimetype": "text/x-python",
   "name": "python",
   "nbconvert_exporter": "python",
   "pygments_lexer": "ipython3",
   "version": "3.9.13"
  }
 },
 "nbformat": 4,
 "nbformat_minor": 5
}

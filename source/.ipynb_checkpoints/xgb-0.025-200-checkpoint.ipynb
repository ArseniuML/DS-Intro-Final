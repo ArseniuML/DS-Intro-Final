{
 "cells": [
  {
   "cell_type": "code",
   "execution_count": 1,
   "id": "0f6c2b07",
   "metadata": {},
   "outputs": [
    {
     "data": {
      "text/html": [
       "\n",
       "<style>\n",
       ".container {width: 90% !important;}\n",
       "div.prompt {min-width: 12ex;}\n",
       "div.output_area {overflow-y: scroll;}\n",
       "div.output_area img {max-width: unset;}\n",
       "div.output_subarea {max-width: unset;}\n",
       "</style>\n"
      ],
      "text/plain": [
       "<IPython.core.display.HTML object>"
      ]
     },
     "execution_count": 1,
     "metadata": {},
     "output_type": "execute_result"
    }
   ],
   "source": [
    "from IPython.core.display import HTML\n",
    "style = \"\"\"\n",
    "<style>\n",
    ".container {width: 90% !important;}\n",
    "div.prompt {min-width: 12ex;}\n",
    "div.output_area {overflow-y: scroll;}\n",
    "div.output_area img {max-width: unset;}\n",
    "div.output_subarea {max-width: unset;}\n",
    "</style>\n",
    "\"\"\"\n",
    "HTML(style)"
   ]
  },
  {
   "cell_type": "code",
   "execution_count": 11,
   "id": "c0d23ea3",
   "metadata": {},
   "outputs": [],
   "source": [
    "import pandas as pd\n",
    "import numpy as np\n",
    "import matplotlib.pyplot as plt\n",
    "import os\n",
    "\n",
    "from sklearn.model_selection import train_test_split\n",
    "from sklearn.model_selection import GridSearchCV\n",
    "from sklearn.model_selection import StratifiedKFold\n",
    "\n",
    "from sklearn.impute import SimpleImputer\n",
    "from category_encoders import TargetEncoder\n",
    "\n",
    "from sklearn.preprocessing import OneHotEncoder\n",
    "from sklearn.preprocessing import FunctionTransformer\n",
    "from sklearn.preprocessing import StandardScaler\n",
    "from sklearn.preprocessing import PolynomialFeatures\n",
    "\n",
    "from sklearn.compose import ColumnTransformer\n",
    "from sklearn.compose import make_column_transformer\n",
    "\n",
    "from sklearn.pipeline import Pipeline\n",
    "from sklearn.pipeline import make_pipeline\n",
    "\n",
    "from imblearn.pipeline import Pipeline as ImbPipeline\n",
    "from imblearn.over_sampling import SMOTENC\n",
    "from imblearn.under_sampling import RandomUnderSampler\n",
    "\n",
    "from sklearn.ensemble import RandomForestClassifier\n",
    "from imblearn.ensemble import BalancedRandomForestClassifier\n",
    "from sklearn.linear_model import LogisticRegression\n",
    "from catboost import CatBoostClassifier\n",
    "from xgboost import XGBClassifier\n",
    "\n",
    "from sklearn.metrics import roc_auc_score"
   ]
  },
  {
   "cell_type": "code",
   "execution_count": 3,
   "id": "31347485",
   "metadata": {},
   "outputs": [],
   "source": [
    "import matplotlib as mpl\n",
    "for k, v in mpl.rcParams.items():\n",
    "    if v == 'black':\n",
    "        mpl.rcParams[k] = '#28324a'"
   ]
  },
  {
   "cell_type": "markdown",
   "id": "a8aafdda",
   "metadata": {},
   "source": [
    "### Подготовка данных"
   ]
  },
  {
   "cell_type": "markdown",
   "id": "7337f5db",
   "metadata": {},
   "source": [
    "Оформим результаты разведочного анализа в виде функции pre_split_filter."
   ]
  },
  {
   "cell_type": "code",
   "execution_count": 4,
   "id": "357a002a",
   "metadata": {},
   "outputs": [],
   "source": [
    "def pre_split_filter(df, drop_outliers):\n",
    "    df = df.copy()\n",
    "    \n",
    "    df.drop(columns=['device_model', 'geo_country'], inplace=True)\n",
    "    \n",
    "    cols_to_lower = ['device_category', 'device_os', 'device_brand', 'device_browser', 'geo_city']\n",
    "    df.loc[:, cols_to_lower] = df.loc[:, cols_to_lower].apply(lambda x: x.str.lower())\n",
    "\n",
    "    df.fillna('(none)', inplace=True)\n",
    "    df.replace('(not set)', '(none)', inplace=True)\n",
    "    \n",
    "    \n",
    "    #device categorical columns\n",
    "    \n",
    "    df = df[df['device_browser'] != '(none)']\n",
    "\n",
    "    def browser_filter(s):\n",
    "        return ''.join([c for c in s if c.isalpha()])\n",
    "    \n",
    "    df.loc[:, 'device_browser'] = df.loc[:, 'device_browser'].apply(browser_filter)\n",
    "    \n",
    "    def fillna(cond, field, value): \n",
    "        df.loc[cond & (df[field] == '(none)'), field] = value\n",
    "    \n",
    "    fillna((df['device_os'] == 'macintosh') | (df['device_os'] == 'ios'), 'device_brand', 'apple')\n",
    "    fillna((df['device_brand'] == 'apple') & (df['device_category'] == 'desktop'), 'device_os', 'macintosh')\n",
    "    fillna(df['device_brand'] == 'apple', 'device_os', 'ios')\n",
    "    \n",
    "    df.drop(columns=['device_os'], inplace=True)\n",
    "    \n",
    "    \n",
    "    #device numerical columns\n",
    "    \n",
    "    df[['device_screen_width', 'device_screen_height']] = df['device_screen_resolution'].str.split('x', expand=True).astype(int)\n",
    "    df = df[(df['device_screen_width'] > 0) & (df['device_screen_height'] > 0)]\n",
    "    \n",
    "    df_screen_size = df[['device_screen_width', 'device_screen_height']]\n",
    "    df['device_screen_width'], df['device_screen_height'] = df_screen_size.max(axis=1), df_screen_size.min(axis=1)\n",
    "    \n",
    "    df['device_screen_area'] = df['device_screen_width'] * df['device_screen_height']\n",
    "    df['device_screen_aspect'] = df['device_screen_width'] / df['device_screen_height']\n",
    "\n",
    "    if drop_outliers:\n",
    "        df = df[df['device_screen_width'] <= 19000]\n",
    "        \n",
    "    df.drop(columns=['device_screen_resolution', 'device_screen_width', 'device_screen_height'], inplace=True)\n",
    "    \n",
    "    return df"
   ]
  },
  {
   "cell_type": "markdown",
   "id": "1004484b",
   "metadata": {},
   "source": [
    "Заполнение пропусков в поле device_brand условной модой у мобильных устройств и планшетов. Apple исключаем из рассмотрения, т.к. пропуски у Apple-устройств заполняются детерминированно перед разбиением на train/test."
   ]
  },
  {
   "cell_type": "code",
   "execution_count": 5,
   "id": "43161052",
   "metadata": {},
   "outputs": [],
   "source": [
    "from sklearn.base import BaseEstimator, TransformerMixin\n",
    "\n",
    "class Imputer(BaseEstimator, TransformerMixin):\n",
    "    def __init__(self):\n",
    "        self.device_brand_imp = SimpleImputer(missing_values='(none)', strategy='most_frequent')\n",
    "        self.geo_city_imp = SimpleImputer(missing_values='(none)', strategy='most_frequent')\n",
    "        \n",
    "    def fit(self, X, y=None):\n",
    "        cond = (X['device_brand'] != 'apple') & (X['device_category'] != 'desktop')\n",
    "        self.device_brand_imp.fit(X.loc[cond, ['device_brand']])\n",
    "        self.geo_city_imp.fit(X.loc[:, ['geo_city']])\n",
    "        self.output_features_ = X.columns\n",
    "        return self\n",
    "        \n",
    "    def transform(self, X, y=None):\n",
    "        Xt = X.copy()\n",
    "        cond = (X['device_brand'] != 'apple') & (X['device_category'] != 'desktop')\n",
    "        if cond.sum() > 0:\n",
    "            Xt.loc[cond, ['device_brand']] = self.device_brand_imp.transform(Xt.loc[cond, ['device_brand']])\n",
    "        Xt.loc[:, ['geo_city']] = self.geo_city_imp.transform(Xt.loc[:, ['geo_city']])\n",
    "        return Xt\n",
    "    \n",
    "    def get_feature_names_out(self, input_features=None):\n",
    "        return self.output_features_"
   ]
  },
  {
   "cell_type": "markdown",
   "id": "4e0347bb",
   "metadata": {},
   "source": [
    "### Моделирование"
   ]
  },
  {
   "cell_type": "code",
   "execution_count": 53,
   "id": "2a455db4",
   "metadata": {},
   "outputs": [],
   "source": [
    "data_dir = '../../Final_work_data'\n",
    "df = pre_split_filter(pd.read_csv(os.path.join(data_dir, 'ml_data.csv'), dtype=str), drop_outliers=True)\n",
    "df['target'] = df['target'].astype(int)\n",
    "\n",
    "X = df.drop(columns=['target'])\n",
    "y = df['target']\n",
    "del df\n",
    "\n",
    "cols_cat = [x for x in X.columns if not x.startswith('device_screen')]\n",
    "\n",
    "X_train, X_test, y_train, y_test = train_test_split(X, y, test_size=0.2, stratify=y, random_state=11)\n",
    "scale_pos_weight = (y == 0).sum() / (y == 1).sum()\n",
    "\n",
    "cv = StratifiedKFold(n_splits=3, shuffle=True, random_state=11)\n",
    "len_cv_train = (cv.n_splits - 1)  * len(X_train) / cv.n_splits"
   ]
  },
  {
   "cell_type": "code",
   "execution_count": 57,
   "id": "559e04c6",
   "metadata": {},
   "outputs": [],
   "source": [
    "import pprint\n",
    "\n",
    "summary = pd.DataFrame(\n",
    "    {}, \n",
    "    index=['CV Train', 'CV Test', 'CV Overfit', 'Test', 'Fit Time', 'Score Time', 'Sum Time'])\n",
    "\n",
    "def print_stats(model, model_name):\n",
    "    print('')\n",
    "    pprint.pprint(model.best_params_)\n",
    "    print('')\n",
    "    \n",
    "    cv_train = model.cv_results_['mean_train_score'][model.best_index_]\n",
    "    cv_test = model.cv_results_['mean_test_score'][model.best_index_]\n",
    "    cv_overfit = (cv_train - cv_test) / cv_test\n",
    "    test = roc_auc_score(y_test, model.predict_proba(X_test)[:, 1])\n",
    "        \n",
    "    fit_time = model.cv_results_['mean_fit_time'][model.best_index_] / 60\n",
    "    score_time = model.cv_results_['mean_score_time'][model.best_index_] / 60\n",
    "    sum_time = fit_time + score_time\n",
    "    \n",
    "    global summary\n",
    "    model_summary = pd.DataFrame(\n",
    "        {model_name: [cv_train, cv_test, cv_overfit, test, fit_time, score_time, sum_time]},\n",
    "        index=summary.index\n",
    "    ).round(3)\n",
    "    display(model_summary)\n",
    "    \n",
    "    summary = model_summary.combine_first(summary)"
   ]
  },
  {
   "cell_type": "markdown",
   "id": "8603f3eb",
   "metadata": {},
   "source": [
    "Попробуем использовать RandomForestClassifier. Для балансирования выборки используем веса классов."
   ]
  },
  {
   "cell_type": "code",
   "execution_count": 8,
   "id": "102bd071",
   "metadata": {},
   "outputs": [],
   "source": [
    "encoder = make_column_transformer((OneHotEncoder(drop='if_binary', \n",
    "                                                 handle_unknown='infrequent_if_exist'), \n",
    "                                   cols_cat), \n",
    "                                  remainder='passthrough')\n",
    "\n",
    "# Несмотря на handle_unknown = 'infrequent_if_exist' появляются такие warning-и\n",
    "# Категории при этом кодируются правильно\n",
    "import warnings\n",
    "warnings.filterwarnings('ignore', message='Found unknown categories')\n",
    "os.environ['PYTHONWARNINGS'] = 'ignore:Found unknown categories'"
   ]
  },
  {
   "cell_type": "code",
   "execution_count": 60,
   "id": "1342f066",
   "metadata": {},
   "outputs": [
    {
     "name": "stdout",
     "output_type": "stream",
     "text": [
      "CPU times: user 56min 39s, sys: 56.5 s, total: 57min 36s\n",
      "Wall time: 10min 4s\n",
      "\n",
      "{'clf__max_depth': 4,\n",
      " 'clf__n_estimators': 200,\n",
      " 'clf__scale_pos_weight': 33.428151210398696,\n",
      " 'enc__onehotencoder__min_frequency': 0.025}\n",
      "\n"
     ]
    },
    {
     "data": {
      "text/html": [
       "<div>\n",
       "<style scoped>\n",
       "    .dataframe tbody tr th:only-of-type {\n",
       "        vertical-align: middle;\n",
       "    }\n",
       "\n",
       "    .dataframe tbody tr th {\n",
       "        vertical-align: top;\n",
       "    }\n",
       "\n",
       "    .dataframe thead th {\n",
       "        text-align: right;\n",
       "    }\n",
       "</style>\n",
       "<table border=\"1\" class=\"dataframe\">\n",
       "  <thead>\n",
       "    <tr style=\"text-align: right;\">\n",
       "      <th></th>\n",
       "      <th>XGB</th>\n",
       "    </tr>\n",
       "  </thead>\n",
       "  <tbody>\n",
       "    <tr>\n",
       "      <th>CV Train</th>\n",
       "      <td>0.702</td>\n",
       "    </tr>\n",
       "    <tr>\n",
       "      <th>CV Test</th>\n",
       "      <td>0.680</td>\n",
       "    </tr>\n",
       "    <tr>\n",
       "      <th>CV Overfit</th>\n",
       "      <td>0.032</td>\n",
       "    </tr>\n",
       "    <tr>\n",
       "      <th>Test</th>\n",
       "      <td>0.687</td>\n",
       "    </tr>\n",
       "    <tr>\n",
       "      <th>Fit Time</th>\n",
       "      <td>0.939</td>\n",
       "    </tr>\n",
       "    <tr>\n",
       "      <th>Score Time</th>\n",
       "      <td>0.066</td>\n",
       "    </tr>\n",
       "    <tr>\n",
       "      <th>Sum Time</th>\n",
       "      <td>1.005</td>\n",
       "    </tr>\n",
       "  </tbody>\n",
       "</table>\n",
       "</div>"
      ],
      "text/plain": [
       "              XGB\n",
       "CV Train    0.702\n",
       "CV Test     0.680\n",
       "CV Overfit  0.032\n",
       "Test        0.687\n",
       "Fit Time    0.939\n",
       "Score Time  0.066\n",
       "Sum Time    1.005"
      ]
     },
     "metadata": {},
     "output_type": "display_data"
    }
   ],
   "source": [
    "pipe = Pipeline(steps=[\n",
    "    ('imp', Imputer()),\n",
    "    ('enc', encoder),\n",
    "    ('clf', XGBClassifier(random_state=11, n_jobs=8))\n",
    "])\n",
    "\n",
    "param = [{'enc__onehotencoder__min_frequency': [0.025],\n",
    "          'clf__scale_pos_weight': [scale_pos_weight],\n",
    "          'clf__n_estimators': [200],\n",
    "          'clf__max_depth': [3, 4, 5]}]\n",
    "\n",
    "xgb = GridSearchCV(pipe, param, cv=cv, scoring='roc_auc', return_train_score=True)\n",
    "%time xgb.fit(X_train, y_train)\n",
    "print_stats(xgb, 'XGB')"
   ]
  },
  {
   "cell_type": "code",
   "execution_count": 65,
   "id": "c87e330d",
   "metadata": {},
   "outputs": [
    {
     "name": "stdout",
     "output_type": "stream",
     "text": [
      "CPU times: user 23min 9s, sys: 21.4 s, total: 23min 30s\n",
      "Wall time: 3min 56s\n",
      "\n",
      "{'clf__max_depth': 4,\n",
      " 'clf__n_estimators': 200,\n",
      " 'clf__reg_lambda': 9238.493333333334,\n",
      " 'clf__scale_pos_weight': 33.428151210398696,\n",
      " 'enc__onehotencoder__min_frequency': 0.025}\n",
      "\n"
     ]
    },
    {
     "data": {
      "text/html": [
       "<div>\n",
       "<style scoped>\n",
       "    .dataframe tbody tr th:only-of-type {\n",
       "        vertical-align: middle;\n",
       "    }\n",
       "\n",
       "    .dataframe tbody tr th {\n",
       "        vertical-align: top;\n",
       "    }\n",
       "\n",
       "    .dataframe thead th {\n",
       "        text-align: right;\n",
       "    }\n",
       "</style>\n",
       "<table border=\"1\" class=\"dataframe\">\n",
       "  <thead>\n",
       "    <tr style=\"text-align: right;\">\n",
       "      <th></th>\n",
       "      <th>XGB</th>\n",
       "    </tr>\n",
       "  </thead>\n",
       "  <tbody>\n",
       "    <tr>\n",
       "      <th>CV Train</th>\n",
       "      <td>0.683</td>\n",
       "    </tr>\n",
       "    <tr>\n",
       "      <th>CV Test</th>\n",
       "      <td>0.678</td>\n",
       "    </tr>\n",
       "    <tr>\n",
       "      <th>CV Overfit</th>\n",
       "      <td>0.008</td>\n",
       "    </tr>\n",
       "    <tr>\n",
       "      <th>Test</th>\n",
       "      <td>0.684</td>\n",
       "    </tr>\n",
       "    <tr>\n",
       "      <th>Fit Time</th>\n",
       "      <td>0.725</td>\n",
       "    </tr>\n",
       "    <tr>\n",
       "      <th>Score Time</th>\n",
       "      <td>0.061</td>\n",
       "    </tr>\n",
       "    <tr>\n",
       "      <th>Sum Time</th>\n",
       "      <td>0.787</td>\n",
       "    </tr>\n",
       "  </tbody>\n",
       "</table>\n",
       "</div>"
      ],
      "text/plain": [
       "              XGB\n",
       "CV Train    0.683\n",
       "CV Test     0.678\n",
       "CV Overfit  0.008\n",
       "Test        0.684\n",
       "Fit Time    0.725\n",
       "Score Time  0.061\n",
       "Sum Time    0.787"
      ]
     },
     "metadata": {},
     "output_type": "display_data"
    }
   ],
   "source": [
    "pipe = Pipeline(steps=[\n",
    "    ('imp', Imputer()),\n",
    "    ('enc', encoder),\n",
    "    ('clf', XGBClassifier(random_state=11, n_jobs=8))\n",
    "])\n",
    "\n",
    "param = [{'enc__onehotencoder__min_frequency': [0.025],\n",
    "          'clf__scale_pos_weight': [scale_pos_weight],\n",
    "          'clf__n_estimators': [200],\n",
    "          'clf__max_depth': [4], \n",
    "          'clf__reg_lambda': [0.01 * len_cv_train]}]\n",
    "\n",
    "xgb = GridSearchCV(pipe, param, cv=cv, scoring='roc_auc', return_train_score=True)\n",
    "%time xgb.fit(X_train, y_train)\n",
    "print_stats(xgb, 'XGB')"
   ]
  }
 ],
 "metadata": {
  "kernelspec": {
   "display_name": "Python 3 (ipykernel)",
   "language": "python",
   "name": "python3"
  },
  "language_info": {
   "codemirror_mode": {
    "name": "ipython",
    "version": 3
   },
   "file_extension": ".py",
   "mimetype": "text/x-python",
   "name": "python",
   "nbconvert_exporter": "python",
   "pygments_lexer": "ipython3",
   "version": "3.9.13"
  }
 },
 "nbformat": 4,
 "nbformat_minor": 5
}

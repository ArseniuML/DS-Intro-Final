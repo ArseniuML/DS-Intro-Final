{
 "cells": [
  {
   "cell_type": "code",
   "execution_count": 1,
   "id": "0f6c2b07",
   "metadata": {},
   "outputs": [
    {
     "data": {
      "text/html": [
       "\n",
       "<style>\n",
       ".container {width: 90% !important;}\n",
       "div.prompt {min-width: 12ex;}\n",
       "div.output_area {overflow-y: scroll;}\n",
       "div.output_area img {max-width: unset;}\n",
       "div.output_subarea {max-width: unset;}\n",
       "</style>\n"
      ],
      "text/plain": [
       "<IPython.core.display.HTML object>"
      ]
     },
     "execution_count": 1,
     "metadata": {},
     "output_type": "execute_result"
    }
   ],
   "source": [
    "from IPython.core.display import HTML\n",
    "style = \"\"\"\n",
    "<style>\n",
    ".container {width: 90% !important;}\n",
    "div.prompt {min-width: 12ex;}\n",
    "div.output_area {overflow-y: scroll;}\n",
    "div.output_area img {max-width: unset;}\n",
    "div.output_subarea {max-width: unset;}\n",
    "</style>\n",
    "\"\"\"\n",
    "HTML(style)"
   ]
  },
  {
   "cell_type": "code",
   "execution_count": 2,
   "id": "c0d23ea3",
   "metadata": {},
   "outputs": [],
   "source": [
    "import pandas as pd\n",
    "import numpy as np\n",
    "import matplotlib.pyplot as plt\n",
    "import os\n",
    "\n",
    "from sklearn.model_selection import train_test_split\n",
    "from sklearn.model_selection import GridSearchCV\n",
    "from sklearn.model_selection import StratifiedKFold\n",
    "\n",
    "from sklearn.impute import SimpleImputer\n",
    "from category_encoders import TargetEncoder\n",
    "\n",
    "from sklearn.preprocessing import OneHotEncoder\n",
    "from sklearn.preprocessing import FunctionTransformer\n",
    "from sklearn.preprocessing import StandardScaler\n",
    "from sklearn.preprocessing import PolynomialFeatures\n",
    "\n",
    "from sklearn.compose import ColumnTransformer\n",
    "from sklearn.compose import make_column_transformer\n",
    "\n",
    "from sklearn.pipeline import Pipeline\n",
    "from sklearn.pipeline import make_pipeline\n",
    "\n",
    "from imblearn.pipeline import Pipeline as ImbPipeline\n",
    "from imblearn.under_sampling import RandomUnderSampler\n",
    "\n",
    "from sklearn.ensemble import RandomForestClassifier\n",
    "from imblearn.ensemble import BalancedRandomForestClassifier\n",
    "from sklearn.linear_model import LogisticRegression\n",
    "from catboost import CatBoostClassifier\n",
    "\n",
    "from sklearn.metrics import roc_auc_score"
   ]
  },
  {
   "cell_type": "code",
   "execution_count": 3,
   "id": "31347485",
   "metadata": {},
   "outputs": [],
   "source": [
    "import matplotlib as mpl\n",
    "for k, v in mpl.rcParams.items():\n",
    "    if v == 'black':\n",
    "        mpl.rcParams[k] = '#28324a'"
   ]
  },
  {
   "cell_type": "markdown",
   "id": "a8aafdda",
   "metadata": {},
   "source": [
    "### Подготовка данных"
   ]
  },
  {
   "cell_type": "markdown",
   "id": "7337f5db",
   "metadata": {},
   "source": [
    "Оформим результаты разведочного анализа в виде функции pre_split_filter."
   ]
  },
  {
   "cell_type": "code",
   "execution_count": 4,
   "id": "357a002a",
   "metadata": {},
   "outputs": [],
   "source": [
    "def pre_split_filter(df, drop_outliers):\n",
    "    df = df.copy()\n",
    "    \n",
    "    df.drop(columns=['device_model', 'geo_country'], inplace=True)\n",
    "    \n",
    "    cols_to_lower = ['device_category', 'device_os', 'device_brand', 'device_browser', 'geo_city']\n",
    "    df.loc[:, cols_to_lower] = df.loc[:, cols_to_lower].apply(lambda x: x.str.lower())\n",
    "\n",
    "    df.fillna('(none)', inplace=True)\n",
    "    df.replace('(not set)', '(none)', inplace=True)\n",
    "    \n",
    "    \n",
    "    #device categorical columns\n",
    "    \n",
    "    df = df[df['device_browser'] != '(none)']\n",
    "\n",
    "    def browser_filter(s):\n",
    "        return ''.join([c for c in s if c.isalpha()])\n",
    "    \n",
    "    df.loc[:, 'device_browser'] = df.loc[:, 'device_browser'].apply(browser_filter)\n",
    "    \n",
    "    def fillna(cond, field, value): \n",
    "        df.loc[cond & (df[field] == '(none)'), field] = value\n",
    "    \n",
    "    fillna((df['device_os'] == 'macintosh') | (df['device_os'] == 'ios'), 'device_brand', 'apple')\n",
    "    fillna((df['device_brand'] == 'apple') & (df['device_category'] == 'desktop'), 'device_os', 'macintosh')\n",
    "    fillna(df['device_brand'] == 'apple', 'device_os', 'ios')\n",
    "    \n",
    "    df.drop(columns=['device_os'], inplace=True)\n",
    "    \n",
    "    \n",
    "    #device numerical columns\n",
    "    \n",
    "    df[['device_screen_width', 'device_screen_height']] = df['device_screen_resolution'].str.split('x', expand=True).astype(int)\n",
    "    df = df[(df['device_screen_width'] > 0) & (df['device_screen_height'] > 0)]\n",
    "    \n",
    "    df_screen_size = df[['device_screen_width', 'device_screen_height']]\n",
    "    df['device_screen_width'], df['device_screen_height'] = df_screen_size.max(axis=1), df_screen_size.min(axis=1)\n",
    "    \n",
    "    df['device_screen_area'] = df['device_screen_width'] * df['device_screen_height']\n",
    "    df['device_screen_aspect'] = df['device_screen_width'] / df['device_screen_height']\n",
    "\n",
    "    if drop_outliers:\n",
    "        df = df[df['device_screen_width'] <= 19000]\n",
    "        \n",
    "    df.drop(columns=['device_screen_resolution', 'device_screen_width', 'device_screen_height'], inplace=True)\n",
    "    \n",
    "    return df"
   ]
  },
  {
   "cell_type": "markdown",
   "id": "1004484b",
   "metadata": {},
   "source": [
    "Заполнение пропусков в поле device_brand условной модой у мобильных устройств и планшетов. Apple исключаем из рассмотрения, т.к. пропуски у Apple-устройств заполняются детерминированно перед разбиением на train/test."
   ]
  },
  {
   "cell_type": "code",
   "execution_count": 5,
   "id": "43161052",
   "metadata": {},
   "outputs": [],
   "source": [
    "from sklearn.base import BaseEstimator, TransformerMixin\n",
    "\n",
    "class Imputer(BaseEstimator, TransformerMixin):\n",
    "    def __init__(self):\n",
    "        self.device_brand_imp = SimpleImputer(missing_values='(none)', strategy='most_frequent')\n",
    "        self.geo_city_imp = SimpleImputer(missing_values='(none)', strategy='most_frequent')\n",
    "        \n",
    "    def fit(self, X, y=None):\n",
    "        cond = (X['device_brand'] != 'apple') & (X['device_category'] != 'desktop')\n",
    "        self.device_brand_imp.fit(X.loc[cond, ['device_brand']])\n",
    "        self.geo_city_imp.fit(X.loc[:, ['geo_city']])\n",
    "        self.output_features_ = X.columns\n",
    "        return self\n",
    "        \n",
    "    def transform(self, X, y=None):\n",
    "        Xt = X.copy()\n",
    "        cond = (X['device_brand'] != 'apple') & (X['device_category'] != 'desktop')\n",
    "        if cond.sum() > 0:\n",
    "            Xt.loc[cond, ['device_brand']] = self.device_brand_imp.transform(Xt.loc[cond, ['device_brand']])\n",
    "        Xt.loc[:, ['geo_city']] = self.geo_city_imp.transform(Xt.loc[:, ['geo_city']])\n",
    "        return Xt\n",
    "    \n",
    "    def get_feature_names_out(self, input_features=None):\n",
    "        return self.output_features_"
   ]
  },
  {
   "cell_type": "markdown",
   "id": "4e0347bb",
   "metadata": {},
   "source": [
    "### Моделирование"
   ]
  },
  {
   "cell_type": "code",
   "execution_count": 6,
   "id": "2a455db4",
   "metadata": {},
   "outputs": [],
   "source": [
    "data_dir = '../../Final_work_data'\n",
    "df = pre_split_filter(pd.read_csv(os.path.join(data_dir, 'ml_data.csv'), dtype=str), drop_outliers=True)\n",
    "df['target'] = df['target'].astype(int)\n",
    "\n",
    "X = df.drop(columns=['target'])\n",
    "y = df['target']\n",
    "cols_cat = [x for x in X.columns if not x.startswith('device_screen')]\n",
    "\n",
    "X_train, X_test, y_train, y_test = train_test_split(X, y, test_size=0.2, stratify=y, random_state=11)\n",
    "cv = StratifiedKFold(n_splits=3, shuffle=True, random_state=11)"
   ]
  },
  {
   "cell_type": "code",
   "execution_count": 7,
   "id": "559e04c6",
   "metadata": {},
   "outputs": [],
   "source": [
    "import pprint\n",
    "\n",
    "summary = pd.DataFrame(\n",
    "    {}, \n",
    "    index=['CV Train', 'CV Test', 'CV Overfit', 'Test', 'Fit Time', 'Score Time', 'Sum Time'])\n",
    "\n",
    "def print_stats(model, model_name):\n",
    "    print('')\n",
    "    pprint.pprint(model.best_params_)\n",
    "    print('')\n",
    "    \n",
    "    cv_train = model.cv_results_['mean_train_score'][model.best_index_]\n",
    "    cv_test = model.cv_results_['mean_test_score'][model.best_index_]\n",
    "    cv_overfit = (cv_train - cv_test) / cv_test\n",
    "\n",
    "    try:\n",
    "        test = roc_auc_score(y_test, model.predict_proba(X_test)[:, 1])\n",
    "    except AttributeError:\n",
    "        test = roc_auc_score(y_test, model.decision_function(X_test))\n",
    "        \n",
    "    fit_time = model.cv_results_['mean_fit_time'][model.best_index_] / 60\n",
    "    score_time = model.cv_results_['mean_score_time'][model.best_index_] / 60\n",
    "    sum_time = fit_time + score_time\n",
    "    \n",
    "    global summary\n",
    "    model_summary = pd.DataFrame(\n",
    "        {model_name: [cv_train, cv_test, cv_overfit, test, fit_time, score_time, sum_time]},\n",
    "        index=summary.index\n",
    "    ).round(3)\n",
    "    display(model_summary)\n",
    "    \n",
    "    summary = model_summary.combine_first(summary)"
   ]
  },
  {
   "cell_type": "markdown",
   "id": "8603f3eb",
   "metadata": {},
   "source": [
    "Попробуем использовать RandomForestClassifier. Для балансирования выборки используем веса классов."
   ]
  },
  {
   "cell_type": "code",
   "execution_count": 8,
   "id": "102bd071",
   "metadata": {},
   "outputs": [],
   "source": [
    "encoder = make_column_transformer((OneHotEncoder(drop='if_binary', \n",
    "                                                 handle_unknown='infrequent_if_exist'), \n",
    "                                   cols_cat), \n",
    "                                  remainder='passthrough')\n",
    "\n",
    "# Несмотря на handle_unknown = 'infrequent_if_exist' появляются такие warning-и\n",
    "# Категории при этом кодируются правильно\n",
    "import warnings\n",
    "warnings.filterwarnings('ignore', message='Found unknown categories')\n",
    "os.environ['PYTHONWARNINGS'] = 'ignore:Found unknown categories'"
   ]
  },
  {
   "cell_type": "code",
   "execution_count": 9,
   "id": "9108d4ca",
   "metadata": {},
   "outputs": [
    {
     "name": "stdout",
     "output_type": "stream",
     "text": [
      "CPU times: user 46min 4s, sys: 7.34 s, total: 46min 12s\n",
      "Wall time: 17min 51s\n",
      "\n",
      "{'clf__class_weight': None,\n",
      " 'clf__max_depth': 12,\n",
      " 'clf__max_features': 7,\n",
      " 'clf__min_samples_leaf': 6,\n",
      " 'enc__onehotencoder__min_frequency': 0.1}\n",
      "\n"
     ]
    },
    {
     "data": {
      "text/html": [
       "<div>\n",
       "<style scoped>\n",
       "    .dataframe tbody tr th:only-of-type {\n",
       "        vertical-align: middle;\n",
       "    }\n",
       "\n",
       "    .dataframe tbody tr th {\n",
       "        vertical-align: top;\n",
       "    }\n",
       "\n",
       "    .dataframe thead th {\n",
       "        text-align: right;\n",
       "    }\n",
       "</style>\n",
       "<table border=\"1\" class=\"dataframe\">\n",
       "  <thead>\n",
       "    <tr style=\"text-align: right;\">\n",
       "      <th></th>\n",
       "      <th>RF</th>\n",
       "    </tr>\n",
       "  </thead>\n",
       "  <tbody>\n",
       "    <tr>\n",
       "      <th>CV Train</th>\n",
       "      <td>0.706</td>\n",
       "    </tr>\n",
       "    <tr>\n",
       "      <th>CV Test</th>\n",
       "      <td>0.676</td>\n",
       "    </tr>\n",
       "    <tr>\n",
       "      <th>CV Overfit</th>\n",
       "      <td>0.045</td>\n",
       "    </tr>\n",
       "    <tr>\n",
       "      <th>Test</th>\n",
       "      <td>0.681</td>\n",
       "    </tr>\n",
       "    <tr>\n",
       "      <th>Fit Time</th>\n",
       "      <td>11.303</td>\n",
       "    </tr>\n",
       "    <tr>\n",
       "      <th>Score Time</th>\n",
       "      <td>0.162</td>\n",
       "    </tr>\n",
       "    <tr>\n",
       "      <th>Sum Time</th>\n",
       "      <td>11.464</td>\n",
       "    </tr>\n",
       "  </tbody>\n",
       "</table>\n",
       "</div>"
      ],
      "text/plain": [
       "                RF\n",
       "CV Train     0.706\n",
       "CV Test      0.676\n",
       "CV Overfit   0.045\n",
       "Test         0.681\n",
       "Fit Time    11.303\n",
       "Score Time   0.162\n",
       "Sum Time    11.464"
      ]
     },
     "metadata": {},
     "output_type": "display_data"
    }
   ],
   "source": [
    "pipe = Pipeline(steps=[\n",
    "    ('imp', Imputer()),\n",
    "    ('enc', encoder),\n",
    "    ('clf', RandomForestClassifier(random_state=11, n_jobs=-1))\n",
    "])\n",
    "\n",
    "#param = [{'enc__onehotencoder__min_frequency': [0.1],\n",
    "#          'clf__min_samples_leaf': [4, 5, 6],\n",
    "#          'clf__max_depth': [9, 10, 11, 12],\n",
    "#          'clf__max_features': [5, 6, 7],\n",
    "#          'clf__class_weight': ['balanced']}]\n",
    "\n",
    "param = [{'enc__onehotencoder__min_frequency': [0.1],\n",
    "          'clf__min_samples_leaf': [6],\n",
    "          'clf__max_depth': [12],\n",
    "          'clf__max_features': [7],\n",
    "          'clf__class_weight': [None]}]\n",
    "\n",
    "rf = GridSearchCV(pipe, param, cv=cv, scoring='roc_auc', return_train_score=True, n_jobs=-1)\n",
    "%time rf.fit(X_train, y_train)\n",
    "print_stats(rf, 'RF')"
   ]
  },
  {
   "cell_type": "code",
   "execution_count": 9,
   "id": "8770ff16",
   "metadata": {},
   "outputs": [
    {
     "name": "stdout",
     "output_type": "stream",
     "text": [
      "CPU times: user 44min 53s, sys: 7.58 s, total: 45min 1s\n",
      "Wall time: 17min 30s\n",
      "\n",
      "{'clf__class_weight': 'balanced',\n",
      " 'clf__max_depth': 12,\n",
      " 'clf__max_features': 7,\n",
      " 'clf__min_samples_leaf': 6,\n",
      " 'enc__onehotencoder__min_frequency': 0.1}\n",
      "\n"
     ]
    },
    {
     "data": {
      "text/html": [
       "<div>\n",
       "<style scoped>\n",
       "    .dataframe tbody tr th:only-of-type {\n",
       "        vertical-align: middle;\n",
       "    }\n",
       "\n",
       "    .dataframe tbody tr th {\n",
       "        vertical-align: top;\n",
       "    }\n",
       "\n",
       "    .dataframe thead th {\n",
       "        text-align: right;\n",
       "    }\n",
       "</style>\n",
       "<table border=\"1\" class=\"dataframe\">\n",
       "  <thead>\n",
       "    <tr style=\"text-align: right;\">\n",
       "      <th></th>\n",
       "      <th>RF weighted</th>\n",
       "    </tr>\n",
       "  </thead>\n",
       "  <tbody>\n",
       "    <tr>\n",
       "      <th>CV Train</th>\n",
       "      <td>0.702</td>\n",
       "    </tr>\n",
       "    <tr>\n",
       "      <th>CV Test</th>\n",
       "      <td>0.674</td>\n",
       "    </tr>\n",
       "    <tr>\n",
       "      <th>CV Overfit</th>\n",
       "      <td>0.041</td>\n",
       "    </tr>\n",
       "    <tr>\n",
       "      <th>Test</th>\n",
       "      <td>0.680</td>\n",
       "    </tr>\n",
       "    <tr>\n",
       "      <th>Fit Time</th>\n",
       "      <td>11.095</td>\n",
       "    </tr>\n",
       "    <tr>\n",
       "      <th>Score Time</th>\n",
       "      <td>0.148</td>\n",
       "    </tr>\n",
       "    <tr>\n",
       "      <th>Sum Time</th>\n",
       "      <td>11.243</td>\n",
       "    </tr>\n",
       "  </tbody>\n",
       "</table>\n",
       "</div>"
      ],
      "text/plain": [
       "            RF weighted\n",
       "CV Train          0.702\n",
       "CV Test           0.674\n",
       "CV Overfit        0.041\n",
       "Test              0.680\n",
       "Fit Time         11.095\n",
       "Score Time        0.148\n",
       "Sum Time         11.243"
      ]
     },
     "metadata": {},
     "output_type": "display_data"
    }
   ],
   "source": [
    "pipe = Pipeline(steps=[\n",
    "    ('imp', Imputer()),\n",
    "    ('enc', encoder),\n",
    "    ('clf', RandomForestClassifier(random_state=11, n_jobs=-1))\n",
    "])\n",
    "\n",
    "#param = [{'enc__onehotencoder__min_frequency': [0.1],\n",
    "#          'clf__min_samples_leaf': [4, 5, 6],\n",
    "#          'clf__max_depth': [9, 10, 11, 12],\n",
    "#          'clf__max_features': [5, 6, 7],\n",
    "#          'clf__class_weight': ['balanced']}]\n",
    "\n",
    "param = [{'enc__onehotencoder__min_frequency': [0.1],\n",
    "          'clf__min_samples_leaf': [6],\n",
    "          'clf__max_depth': [12],\n",
    "          'clf__max_features': [7],\n",
    "          'clf__class_weight': ['balanced']}]\n",
    "\n",
    "rf_weighted = GridSearchCV(pipe, param, cv=cv, scoring='roc_auc', return_train_score=True, n_jobs=-1)\n",
    "%time rf_weighted.fit(X_train, y_train)\n",
    "print_stats(rf_weighted, 'RF weighted')"
   ]
  },
  {
   "cell_type": "markdown",
   "id": "81948a57",
   "metadata": {},
   "source": [
    "Метрика больше, чем 0.65, но большое время обучения модели не позволяет эффективно подбирать параметры."
   ]
  },
  {
   "cell_type": "markdown",
   "id": "9d4db3a5",
   "metadata": {},
   "source": [
    "Попробуем использовать Undersampling."
   ]
  },
  {
   "cell_type": "code",
   "execution_count": 12,
   "id": "2b04c6b9",
   "metadata": {
    "scrolled": false
   },
   "outputs": [
    {
     "name": "stdout",
     "output_type": "stream",
     "text": [
      "CPU times: user 56.1 s, sys: 1.25 s, total: 57.4 s\n",
      "Wall time: 55.9 s\n",
      "\n",
      "{'clf__max_depth': 12,\n",
      " 'clf__max_features': 9,\n",
      " 'clf__min_samples_leaf': 6,\n",
      " 'enc__onehotencoder__min_frequency': 0.0125}\n",
      "\n"
     ]
    },
    {
     "data": {
      "text/html": [
       "<div>\n",
       "<style scoped>\n",
       "    .dataframe tbody tr th:only-of-type {\n",
       "        vertical-align: middle;\n",
       "    }\n",
       "\n",
       "    .dataframe tbody tr th {\n",
       "        vertical-align: top;\n",
       "    }\n",
       "\n",
       "    .dataframe thead th {\n",
       "        text-align: right;\n",
       "    }\n",
       "</style>\n",
       "<table border=\"1\" class=\"dataframe\">\n",
       "  <thead>\n",
       "    <tr style=\"text-align: right;\">\n",
       "      <th></th>\n",
       "      <th>RF undsampl</th>\n",
       "    </tr>\n",
       "  </thead>\n",
       "  <tbody>\n",
       "    <tr>\n",
       "      <th>CV Train</th>\n",
       "      <td>0.690</td>\n",
       "    </tr>\n",
       "    <tr>\n",
       "      <th>CV Test</th>\n",
       "      <td>0.679</td>\n",
       "    </tr>\n",
       "    <tr>\n",
       "      <th>CV Overfit</th>\n",
       "      <td>0.017</td>\n",
       "    </tr>\n",
       "    <tr>\n",
       "      <th>Test</th>\n",
       "      <td>0.684</td>\n",
       "    </tr>\n",
       "    <tr>\n",
       "      <th>Fit Time</th>\n",
       "      <td>0.200</td>\n",
       "    </tr>\n",
       "    <tr>\n",
       "      <th>Score Time</th>\n",
       "      <td>0.104</td>\n",
       "    </tr>\n",
       "    <tr>\n",
       "      <th>Sum Time</th>\n",
       "      <td>0.304</td>\n",
       "    </tr>\n",
       "  </tbody>\n",
       "</table>\n",
       "</div>"
      ],
      "text/plain": [
       "            RF undsampl\n",
       "CV Train          0.690\n",
       "CV Test           0.679\n",
       "CV Overfit        0.017\n",
       "Test              0.684\n",
       "Fit Time          0.200\n",
       "Score Time        0.104\n",
       "Sum Time          0.304"
      ]
     },
     "metadata": {},
     "output_type": "display_data"
    }
   ],
   "source": [
    "pipe = ImbPipeline(steps=[\n",
    "    ('imp', Imputer()),\n",
    "    ('enc', encoder),\n",
    "    ('res', RandomUnderSampler(random_state=11)),\n",
    "    ('clf', RandomForestClassifier(random_state=11, n_jobs=-1))\n",
    "])\n",
    "\n",
    "#param = [{'enc__onehotencoder__min_frequency': [0.05],\n",
    "#          'clf__min_samples_leaf': [4, 5, 6],\n",
    "#          'clf__min_samples_split': [2, 3, 4],\n",
    "#          'clf__max_depth': [10, 11, 12], \n",
    "#          'clf__max_features': [8, 9, 10, 11, 12, 13]}]\n",
    "\n",
    "param = [{'enc__onehotencoder__min_frequency': [0.0125],\n",
    "          'clf__min_samples_leaf': [6],\n",
    "          'clf__max_depth': [12], \n",
    "          'clf__max_features': [9]}]\n",
    "\n",
    "rf_undsampl = GridSearchCV(pipe, param, cv=cv, scoring='roc_auc', return_train_score=True, n_jobs=-1)\n",
    "%time rf_undsampl.fit(X_train, y_train)\n",
    "print_stats(rf_undsampl, 'RF undsampl')"
   ]
  },
  {
   "cell_type": "markdown",
   "id": "ef3b6011",
   "metadata": {},
   "source": [
    "Попробуем BalancedRandomForestClassifier из библиотеки Imblearn."
   ]
  },
  {
   "cell_type": "code",
   "execution_count": 13,
   "id": "4f0ba32c",
   "metadata": {
    "scrolled": false
   },
   "outputs": [
    {
     "name": "stdout",
     "output_type": "stream",
     "text": [
      "CPU times: user 2min 48s, sys: 2.08 s, total: 2min 50s\n",
      "Wall time: 1min 55s\n",
      "\n",
      "{'clf__max_depth': 12,\n",
      " 'clf__max_features': 13,\n",
      " 'clf__min_samples_leaf': 4,\n",
      " 'enc__onehotencoder__min_frequency': 0.0125}\n",
      "\n"
     ]
    },
    {
     "data": {
      "text/html": [
       "<div>\n",
       "<style scoped>\n",
       "    .dataframe tbody tr th:only-of-type {\n",
       "        vertical-align: middle;\n",
       "    }\n",
       "\n",
       "    .dataframe tbody tr th {\n",
       "        vertical-align: top;\n",
       "    }\n",
       "\n",
       "    .dataframe thead th {\n",
       "        text-align: right;\n",
       "    }\n",
       "</style>\n",
       "<table border=\"1\" class=\"dataframe\">\n",
       "  <thead>\n",
       "    <tr style=\"text-align: right;\">\n",
       "      <th></th>\n",
       "      <th>RF imblearn</th>\n",
       "    </tr>\n",
       "  </thead>\n",
       "  <tbody>\n",
       "    <tr>\n",
       "      <th>CV Train</th>\n",
       "      <td>0.698</td>\n",
       "    </tr>\n",
       "    <tr>\n",
       "      <th>CV Test</th>\n",
       "      <td>0.682</td>\n",
       "    </tr>\n",
       "    <tr>\n",
       "      <th>CV Overfit</th>\n",
       "      <td>0.023</td>\n",
       "    </tr>\n",
       "    <tr>\n",
       "      <th>Test</th>\n",
       "      <td>0.687</td>\n",
       "    </tr>\n",
       "    <tr>\n",
       "      <th>Fit Time</th>\n",
       "      <td>0.779</td>\n",
       "    </tr>\n",
       "    <tr>\n",
       "      <th>Score Time</th>\n",
       "      <td>0.107</td>\n",
       "    </tr>\n",
       "    <tr>\n",
       "      <th>Sum Time</th>\n",
       "      <td>0.886</td>\n",
       "    </tr>\n",
       "  </tbody>\n",
       "</table>\n",
       "</div>"
      ],
      "text/plain": [
       "            RF imblearn\n",
       "CV Train          0.698\n",
       "CV Test           0.682\n",
       "CV Overfit        0.023\n",
       "Test              0.687\n",
       "Fit Time          0.779\n",
       "Score Time        0.107\n",
       "Sum Time          0.886"
      ]
     },
     "metadata": {},
     "output_type": "display_data"
    }
   ],
   "source": [
    "pipe = Pipeline(steps=[\n",
    "    ('imp', Imputer()),\n",
    "    ('enc', encoder),\n",
    "    ('clf', BalancedRandomForestClassifier(random_state=11, n_jobs=-1))\n",
    "])\n",
    "\n",
    "#param = [{'enc__onehotencoder__min_frequency': [0.05],\n",
    "#          'clf__min_samples_leaf': [4, 5, 6, 7],\n",
    "#          'clf__max_depth': [9, 10, 11, 12], \n",
    "#          'clf__max_features': [8, 9, 10, 11, 12, 13]}]\n",
    "\n",
    "param = [{'enc__onehotencoder__min_frequency': [0.0125],\n",
    "          'clf__min_samples_leaf': [4],\n",
    "          'clf__max_depth': [12], \n",
    "          'clf__max_features': [13]}]\n",
    "\n",
    "rf_imblearn = GridSearchCV(pipe, param, cv=cv, scoring='roc_auc', return_train_score=True, n_jobs=-1)\n",
    "%time rf_imblearn.fit(X_train, y_train)\n",
    "print_stats(rf_imblearn, 'RF imblearn')"
   ]
  },
  {
   "cell_type": "markdown",
   "id": "a4a71733",
   "metadata": {},
   "source": [
    "Лучшая модель из случайных деревьев - BalancedRandomForestClassifier из библиотеки Imblearn. Построим график важности признаков."
   ]
  },
  {
   "cell_type": "code",
   "execution_count": 14,
   "id": "a0ba01e6",
   "metadata": {},
   "outputs": [],
   "source": [
    "from sklearn.inspection import permutation_importance\n",
    "\n",
    "def plot_permutation_importances(model, title):\n",
    "    perm_imp = permutation_importance(\n",
    "        model.best_estimator_, X_test, y_test, scoring='roc_auc',\n",
    "        n_repeats=5, random_state=42, n_jobs=-1\n",
    "    )\n",
    "    \n",
    "    features = X.columns\n",
    "    importances = perm_imp.importances_mean\n",
    "    indices = np.argsort(importances)\n",
    "\n",
    "    fig = plt.figure(figsize=(8, 6))\n",
    "    title += ' permutation importances'\n",
    "    plt.title(title)\n",
    "    plt.barh(range(len(indices)), importances[indices], height=0.7, color='#3c78d8', align='center')\n",
    "    plt.yticks(range(len(indices)), [features[i] for i in indices])\n",
    "    plt.xlabel('Decrease in ROC-AUC')\n",
    "    plt.show()\n",
    "\n",
    "    fig.savefig('../presentation/{}.png'.format(title), bbox_inches='tight')"
   ]
  },
  {
   "cell_type": "code",
   "execution_count": 15,
   "id": "dbad15f5",
   "metadata": {},
   "outputs": [
    {
     "name": "stderr",
     "output_type": "stream",
     "text": [
      "/home/irbis/anaconda3/lib/python3.9/site-packages/joblib/externals/loky/process_executor.py:700: UserWarning: A worker stopped while some jobs were given to the executor. This can be caused by a too short worker timeout or by a memory leak.\n",
      "  warnings.warn(\n"
     ]
    },
    {
     "data": {
      "image/png": "[encoded data removed]",
      "text/plain": [
       "<Figure size 800x600 with 1 Axes>"
      ]
     },
     "metadata": {},
     "output_type": "display_data"
    }
   ],
   "source": [
    "plot_permutation_importances(rf_imblearn, 'Random Forest')"
   ]
  },
  {
   "cell_type": "markdown",
   "id": "c9d0cf82",
   "metadata": {},
   "source": [
    "Попробуем LogisticRegression в комбинации с OneHotEncoder-ом."
   ]
  },
  {
   "cell_type": "code",
   "execution_count": 16,
   "id": "76b4ad4a",
   "metadata": {
    "scrolled": false
   },
   "outputs": [
    {
     "name": "stderr",
     "output_type": "stream",
     "text": [
      "/home/irbis/anaconda3/lib/python3.9/site-packages/joblib/externals/loky/process_executor.py:700: UserWarning: A worker stopped while some jobs were given to the executor. This can be caused by a too short worker timeout or by a memory leak.\n",
      "  warnings.warn(\n"
     ]
    },
    {
     "name": "stdout",
     "output_type": "stream",
     "text": [
      "CPU times: user 2min 50s, sys: 16 s, total: 3min 6s\n",
      "Wall time: 4min 22s\n",
      "\n",
      "{'clf__C': 1, 'clf__class_weight': None, 'res': None}\n",
      "\n"
     ]
    },
    {
     "data": {
      "text/html": [
       "<div>\n",
       "<style scoped>\n",
       "    .dataframe tbody tr th:only-of-type {\n",
       "        vertical-align: middle;\n",
       "    }\n",
       "\n",
       "    .dataframe tbody tr th {\n",
       "        vertical-align: top;\n",
       "    }\n",
       "\n",
       "    .dataframe thead th {\n",
       "        text-align: right;\n",
       "    }\n",
       "</style>\n",
       "<table border=\"1\" class=\"dataframe\">\n",
       "  <thead>\n",
       "    <tr style=\"text-align: right;\">\n",
       "      <th></th>\n",
       "      <th>LR one-hot</th>\n",
       "    </tr>\n",
       "  </thead>\n",
       "  <tbody>\n",
       "    <tr>\n",
       "      <th>CV Train</th>\n",
       "      <td>0.654</td>\n",
       "    </tr>\n",
       "    <tr>\n",
       "      <th>CV Test</th>\n",
       "      <td>0.654</td>\n",
       "    </tr>\n",
       "    <tr>\n",
       "      <th>CV Overfit</th>\n",
       "      <td>0.001</td>\n",
       "    </tr>\n",
       "    <tr>\n",
       "      <th>Test</th>\n",
       "      <td>0.659</td>\n",
       "    </tr>\n",
       "    <tr>\n",
       "      <th>Fit Time</th>\n",
       "      <td>0.862</td>\n",
       "    </tr>\n",
       "    <tr>\n",
       "      <th>Score Time</th>\n",
       "      <td>0.142</td>\n",
       "    </tr>\n",
       "    <tr>\n",
       "      <th>Sum Time</th>\n",
       "      <td>1.004</td>\n",
       "    </tr>\n",
       "  </tbody>\n",
       "</table>\n",
       "</div>"
      ],
      "text/plain": [
       "            LR one-hot\n",
       "CV Train         0.654\n",
       "CV Test          0.654\n",
       "CV Overfit       0.001\n",
       "Test             0.659\n",
       "Fit Time         0.862\n",
       "Score Time       0.142\n",
       "Sum Time         1.004"
      ]
     },
     "metadata": {},
     "output_type": "display_data"
    }
   ],
   "source": [
    "encoder = make_column_transformer((OneHotEncoder(drop='first', \n",
    "                                                 handle_unknown='infrequent_if_exist', \n",
    "                                                 min_frequency=0.05, \n",
    "                                                 sparse_output=False), \n",
    "                                   cols_cat), \n",
    "                                  remainder='passthrough')\n",
    "\n",
    "import warnings\n",
    "warnings.filterwarnings('ignore', message='Found unknown categories')\n",
    "os.environ['PYTHONWARNINGS'] = 'ignore:Found unknown categories'\n",
    "\n",
    "pipe = ImbPipeline(steps=[\n",
    "    ('imp', Imputer()),\n",
    "    ('enc', encoder),\n",
    "    ('scl', StandardScaler()),\n",
    "    ('res', RandomUnderSampler(random_state=11)),\n",
    "    ('clf', LogisticRegression(max_iter=10000, random_state=11, n_jobs=-1))\n",
    "])\n",
    "\n",
    "param = [{'clf__C': [0.1, 1, 10], 'res': [None], 'clf__class_weight': [None, 'balanced']},\n",
    "         {'clf__C': [0.1, 1, 10], 'res': [RandomUnderSampler(random_state=11)], 'clf__class_weight': [None]}]\n",
    "\n",
    "lr_one_hot = GridSearchCV(pipe, param, cv=cv, scoring='roc_auc', return_train_score=True, n_jobs=-1)\n",
    "%time lr_one_hot.fit(X_train, y_train)\n",
    "print_stats(lr_one_hot, 'LR one-hot')"
   ]
  },
  {
   "cell_type": "markdown",
   "id": "24f20175",
   "metadata": {},
   "source": [
    "Небольшое значение CV Train говорит о том, что модель недообучилась. Попробуем закодировать категориальные признаки TargetEncoder-ом."
   ]
  },
  {
   "cell_type": "code",
   "execution_count": 8,
   "id": "06fdf34d",
   "metadata": {},
   "outputs": [],
   "source": [
    "encoder = make_column_transformer((TargetEncoder(), cols_cat), remainder='passthrough')"
   ]
  },
  {
   "cell_type": "code",
   "execution_count": 9,
   "id": "8d2fdf79",
   "metadata": {},
   "outputs": [
    {
     "name": "stdout",
     "output_type": "stream",
     "text": [
      "CPU times: user 4min 13s, sys: 23.5 s, total: 4min 37s\n",
      "Wall time: 6min 52s\n",
      "\n",
      "{'clf__C': 0.0001, 'clf__class_weight': None}\n",
      "\n"
     ]
    },
    {
     "data": {
      "text/html": [
       "<div>\n",
       "<style scoped>\n",
       "    .dataframe tbody tr th:only-of-type {\n",
       "        vertical-align: middle;\n",
       "    }\n",
       "\n",
       "    .dataframe tbody tr th {\n",
       "        vertical-align: top;\n",
       "    }\n",
       "\n",
       "    .dataframe thead th {\n",
       "        text-align: right;\n",
       "    }\n",
       "</style>\n",
       "<table border=\"1\" class=\"dataframe\">\n",
       "  <thead>\n",
       "    <tr style=\"text-align: right;\">\n",
       "      <th></th>\n",
       "      <th>LR</th>\n",
       "    </tr>\n",
       "  </thead>\n",
       "  <tbody>\n",
       "    <tr>\n",
       "      <th>CV Train</th>\n",
       "      <td>0.671</td>\n",
       "    </tr>\n",
       "    <tr>\n",
       "      <th>CV Test</th>\n",
       "      <td>0.660</td>\n",
       "    </tr>\n",
       "    <tr>\n",
       "      <th>CV Overfit</th>\n",
       "      <td>0.018</td>\n",
       "    </tr>\n",
       "    <tr>\n",
       "      <th>Test</th>\n",
       "      <td>0.661</td>\n",
       "    </tr>\n",
       "    <tr>\n",
       "      <th>Fit Time</th>\n",
       "      <td>1.027</td>\n",
       "    </tr>\n",
       "    <tr>\n",
       "      <th>Score Time</th>\n",
       "      <td>0.180</td>\n",
       "    </tr>\n",
       "    <tr>\n",
       "      <th>Sum Time</th>\n",
       "      <td>1.207</td>\n",
       "    </tr>\n",
       "  </tbody>\n",
       "</table>\n",
       "</div>"
      ],
      "text/plain": [
       "               LR\n",
       "CV Train    0.671\n",
       "CV Test     0.660\n",
       "CV Overfit  0.018\n",
       "Test        0.661\n",
       "Fit Time    1.027\n",
       "Score Time  0.180\n",
       "Sum Time    1.207"
      ]
     },
     "metadata": {},
     "output_type": "display_data"
    }
   ],
   "source": [
    "pipe = Pipeline(steps=[\n",
    "    ('imp', Imputer()),\n",
    "    ('enc', encoder),\n",
    "    ('scl', StandardScaler()),\n",
    "    ('clf', LogisticRegression(max_iter=10000, random_state=11, n_jobs=-1))\n",
    "])\n",
    "\n",
    "param = [{'clf__C': 10.0 ** np.arange(-6, 1),\n",
    "          'clf__class_weight': [None]}]\n",
    "\n",
    "lr = GridSearchCV(pipe, param, cv=cv, scoring='roc_auc', return_train_score=True, n_jobs=-1)\n",
    "%time lr.fit(X_train, y_train)\n",
    "print_stats(lr, 'LR')"
   ]
  },
  {
   "cell_type": "code",
   "execution_count": 10,
   "id": "3d968801",
   "metadata": {},
   "outputs": [
    {
     "name": "stderr",
     "output_type": "stream",
     "text": [
      "/home/irbis/anaconda3/lib/python3.9/site-packages/joblib/externals/loky/process_executor.py:700: UserWarning: A worker stopped while some jobs were given to the executor. This can be caused by a too short worker timeout or by a memory leak.\n",
      "  warnings.warn(\n"
     ]
    },
    {
     "name": "stdout",
     "output_type": "stream",
     "text": [
      "CPU times: user 4min 19s, sys: 24.2 s, total: 4min 43s\n",
      "Wall time: 6min 51s\n",
      "\n",
      "{'clf__C': 1e-05, 'clf__class_weight': 'balanced'}\n",
      "\n"
     ]
    },
    {
     "data": {
      "text/html": [
       "<div>\n",
       "<style scoped>\n",
       "    .dataframe tbody tr th:only-of-type {\n",
       "        vertical-align: middle;\n",
       "    }\n",
       "\n",
       "    .dataframe tbody tr th {\n",
       "        vertical-align: top;\n",
       "    }\n",
       "\n",
       "    .dataframe thead th {\n",
       "        text-align: right;\n",
       "    }\n",
       "</style>\n",
       "<table border=\"1\" class=\"dataframe\">\n",
       "  <thead>\n",
       "    <tr style=\"text-align: right;\">\n",
       "      <th></th>\n",
       "      <th>LR weighted</th>\n",
       "    </tr>\n",
       "  </thead>\n",
       "  <tbody>\n",
       "    <tr>\n",
       "      <th>CV Train</th>\n",
       "      <td>0.671</td>\n",
       "    </tr>\n",
       "    <tr>\n",
       "      <th>CV Test</th>\n",
       "      <td>0.660</td>\n",
       "    </tr>\n",
       "    <tr>\n",
       "      <th>CV Overfit</th>\n",
       "      <td>0.017</td>\n",
       "    </tr>\n",
       "    <tr>\n",
       "      <th>Test</th>\n",
       "      <td>0.662</td>\n",
       "    </tr>\n",
       "    <tr>\n",
       "      <th>Fit Time</th>\n",
       "      <td>0.932</td>\n",
       "    </tr>\n",
       "    <tr>\n",
       "      <th>Score Time</th>\n",
       "      <td>0.186</td>\n",
       "    </tr>\n",
       "    <tr>\n",
       "      <th>Sum Time</th>\n",
       "      <td>1.118</td>\n",
       "    </tr>\n",
       "  </tbody>\n",
       "</table>\n",
       "</div>"
      ],
      "text/plain": [
       "            LR weighted\n",
       "CV Train          0.671\n",
       "CV Test           0.660\n",
       "CV Overfit        0.017\n",
       "Test              0.662\n",
       "Fit Time          0.932\n",
       "Score Time        0.186\n",
       "Sum Time          1.118"
      ]
     },
     "metadata": {},
     "output_type": "display_data"
    }
   ],
   "source": [
    "pipe = Pipeline(steps=[\n",
    "    ('imp', Imputer()),\n",
    "    ('enc', encoder),\n",
    "    ('scl', StandardScaler()),\n",
    "    ('clf', LogisticRegression(max_iter=10000, random_state=11, n_jobs=-1))\n",
    "])\n",
    "\n",
    "param = [{'clf__C': 10.0 ** np.arange(-6, 1),\n",
    "          'clf__class_weight': ['balanced']}]\n",
    "\n",
    "lr_weighted = GridSearchCV(pipe, param, cv=cv, scoring='roc_auc', return_train_score=True, n_jobs=-1)\n",
    "%time lr_weighted.fit(X_train, y_train)\n",
    "print_stats(lr_weighted, 'LR weighted')"
   ]
  },
  {
   "cell_type": "code",
   "execution_count": 11,
   "id": "dee6c9f1",
   "metadata": {},
   "outputs": [
    {
     "name": "stderr",
     "output_type": "stream",
     "text": [
      "/home/irbis/anaconda3/lib/python3.9/site-packages/joblib/externals/loky/process_executor.py:700: UserWarning: A worker stopped while some jobs were given to the executor. This can be caused by a too short worker timeout or by a memory leak.\n",
      "  warnings.warn(\n"
     ]
    },
    {
     "name": "stdout",
     "output_type": "stream",
     "text": [
      "CPU times: user 4min 20s, sys: 24.2 s, total: 4min 44s\n",
      "Wall time: 6min 41s\n",
      "\n",
      "{'clf__C': 0.001, 'clf__class_weight': None}\n",
      "\n"
     ]
    },
    {
     "data": {
      "text/html": [
       "<div>\n",
       "<style scoped>\n",
       "    .dataframe tbody tr th:only-of-type {\n",
       "        vertical-align: middle;\n",
       "    }\n",
       "\n",
       "    .dataframe tbody tr th {\n",
       "        vertical-align: top;\n",
       "    }\n",
       "\n",
       "    .dataframe thead th {\n",
       "        text-align: right;\n",
       "    }\n",
       "</style>\n",
       "<table border=\"1\" class=\"dataframe\">\n",
       "  <thead>\n",
       "    <tr style=\"text-align: right;\">\n",
       "      <th></th>\n",
       "      <th>LR undsampl</th>\n",
       "    </tr>\n",
       "  </thead>\n",
       "  <tbody>\n",
       "    <tr>\n",
       "      <th>CV Train</th>\n",
       "      <td>0.672</td>\n",
       "    </tr>\n",
       "    <tr>\n",
       "      <th>CV Test</th>\n",
       "      <td>0.660</td>\n",
       "    </tr>\n",
       "    <tr>\n",
       "      <th>CV Overfit</th>\n",
       "      <td>0.018</td>\n",
       "    </tr>\n",
       "    <tr>\n",
       "      <th>Test</th>\n",
       "      <td>0.661</td>\n",
       "    </tr>\n",
       "    <tr>\n",
       "      <th>Fit Time</th>\n",
       "      <td>1.023</td>\n",
       "    </tr>\n",
       "    <tr>\n",
       "      <th>Score Time</th>\n",
       "      <td>0.186</td>\n",
       "    </tr>\n",
       "    <tr>\n",
       "      <th>Sum Time</th>\n",
       "      <td>1.209</td>\n",
       "    </tr>\n",
       "  </tbody>\n",
       "</table>\n",
       "</div>"
      ],
      "text/plain": [
       "            LR undsampl\n",
       "CV Train          0.672\n",
       "CV Test           0.660\n",
       "CV Overfit        0.018\n",
       "Test              0.661\n",
       "Fit Time          1.023\n",
       "Score Time        0.186\n",
       "Sum Time          1.209"
      ]
     },
     "metadata": {},
     "output_type": "display_data"
    }
   ],
   "source": [
    "pipe = ImbPipeline(steps=[\n",
    "    ('imp', Imputer()),\n",
    "    ('enc', encoder),\n",
    "    ('scl', StandardScaler()),\n",
    "    ('res', RandomUnderSampler(random_state=11)),\n",
    "    ('clf', LogisticRegression(max_iter=10000, random_state=11, n_jobs=-1))\n",
    "])\n",
    "\n",
    "param = [{'clf__C': 10.0 ** np.arange(-6, 1),\n",
    "          'clf__class_weight': [None]}]\n",
    "\n",
    "lr_undsampl = GridSearchCV(pipe, param, cv=cv, scoring='roc_auc', return_train_score=True, n_jobs=-1)\n",
    "%time lr_undsampl.fit(X_train, y_train)\n",
    "print_stats(lr_undsampl, 'LR undsampl')"
   ]
  },
  {
   "cell_type": "markdown",
   "id": "b7d6f65c",
   "metadata": {},
   "source": [
    "Попробуем сгенерировать полиномиальные признаки."
   ]
  },
  {
   "cell_type": "code",
   "execution_count": 9,
   "id": "9a7c719f",
   "metadata": {},
   "outputs": [],
   "source": [
    "pipe = Pipeline(steps=[\n",
    "    ('imp', Imputer()),\n",
    "    ('enc', encoder),\n",
    "    ('feat', PolynomialFeatures(degree=2, include_bias=False)),\n",
    "    ('scl', StandardScaler())\n",
    "])\n",
    "\n",
    "pipe.fit(X_train, y_train)\n",
    "\n",
    "X_train_p = pipe.transform(X_train)\n",
    "X_test_p = pipe.transform(X_test)"
   ]
  },
  {
   "cell_type": "code",
   "execution_count": 10,
   "id": "2c077ea8",
   "metadata": {},
   "outputs": [],
   "source": [
    "def unique_entries(X, y):\n",
    "    X = np.atleast_1d(X)\n",
    "    if X.ndim == 1: \n",
    "        X = np.reshape(X, (-1, 1))\n",
    "\n",
    "    y = np.atleast_1d(y)\n",
    "    if y.ndim > 1:\n",
    "        raise ValueError('Only 1d y is supported')                   \n",
    "    y = np.reshape(y, (-1, 1))\n",
    "\n",
    "    Xy = np.hstack([X, y])\n",
    "    Xy, dup_count = np.unique(Xy, axis=0, return_counts=True)\n",
    "    X, y = Xy[:, :-1], Xy[:, -1]\n",
    "    return X, y, dup_count"
   ]
  },
  {
   "cell_type": "code",
   "execution_count": 11,
   "id": "5c01af0a",
   "metadata": {},
   "outputs": [],
   "source": [
    "X_train_unique, y_train_unique, dup_count = unique_entries(X_train_p, y_train)"
   ]
  },
  {
   "cell_type": "code",
   "execution_count": 18,
   "id": "0d122c59",
   "metadata": {},
   "outputs": [
    {
     "name": "stdout",
     "output_type": "stream",
     "text": [
      "CPU times: user 113 ms, sys: 72.1 ms, total: 185 ms\n",
      "Wall time: 34.9 s\n",
      "0.6731476983514446\n",
      "0.6639355060966562\n"
     ]
    }
   ],
   "source": [
    "clf = LogisticRegression(max_iter=10000, random_state=11, n_jobs=-1)\n",
    "%time clf.fit(X_train_unique, y_train_unique)\n",
    "\n",
    "print(roc_auc_score(y_train, clf.predict_proba(X_train_p)[:, 1]))\n",
    "print(roc_auc_score(y_test, clf.predict_proba(X_test_p)[:, 1]))"
   ]
  },
  {
   "cell_type": "code",
   "execution_count": 17,
   "id": "e61cc142",
   "metadata": {},
   "outputs": [
    {
     "name": "stdout",
     "output_type": "stream",
     "text": [
      "CPU times: user 128 ms, sys: 218 ms, total: 347 ms\n",
      "Wall time: 39.3 s\n",
      "0.6809225224095917\n",
      "0.6711701623770059\n"
     ]
    }
   ],
   "source": [
    "clf = LogisticRegression(max_iter=10000, random_state=11, n_jobs=-1)\n",
    "%time clf.fit(X_train_unique, y_train_unique, sample_weight=dup_count)\n",
    "\n",
    "print(roc_auc_score(y_train, clf.predict_proba(X_train_p)[:, 1]))\n",
    "print(roc_auc_score(y_test, clf.predict_proba(X_test_p)[:, 1]))"
   ]
  },
  {
   "cell_type": "code",
   "execution_count": 20,
   "id": "29c15933",
   "metadata": {},
   "outputs": [
    {
     "name": "stdout",
     "output_type": "stream",
     "text": [
      "CPU times: user 95.3 ms, sys: 89.6 ms, total: 185 ms\n",
      "Wall time: 48.9 s\n",
      "0.681596884187689\n",
      "0.6717032589596373\n"
     ]
    }
   ],
   "source": [
    "clf = LogisticRegression(class_weight='balanced', max_iter=10000, random_state=11, n_jobs=-1)\n",
    "%time clf.fit(X_train_unique, y_train_unique, sample_weight=dup_count)\n",
    "\n",
    "print(roc_auc_score(y_train, clf.predict_proba(X_train_p)[:, 1]))\n",
    "print(roc_auc_score(y_test, clf.predict_proba(X_test_p)[:, 1]))"
   ]
  },
  {
   "cell_type": "code",
   "execution_count": 28,
   "id": "0be617a8",
   "metadata": {},
   "outputs": [],
   "source": [
    "pclass0 = (df['target'] == 0).sum() ** 3\n",
    "pclass1 = (df['target'] == 1).sum() ** 3\n",
    "\n",
    "pclass00 = pclass0\n",
    "pclass11 = pclass1"
   ]
  },
  {
   "cell_type": "code",
   "execution_count": 29,
   "id": "efb78992",
   "metadata": {},
   "outputs": [
    {
     "name": "stdout",
     "output_type": "stream",
     "text": [
      "CPU times: user 102 ms, sys: 96.3 ms, total: 198 ms\n",
      "Wall time: 43.5 s\n",
      "0.6765041359566923\n",
      "0.6655200528695226\n"
     ]
    }
   ],
   "source": [
    "clf = LogisticRegression(class_weight={0: pclass11, 1: pclass00}, max_iter=10000, random_state=11, n_jobs=-1)\n",
    "%time clf.fit(X_train_unique, y_train_unique, sample_weight=dup_count)\n",
    "\n",
    "print(roc_auc_score(y_train, clf.predict_proba(X_train_p)[:, 1]))\n",
    "print(roc_auc_score(y_test, clf.predict_proba(X_test_p)[:, 1]))"
   ]
  },
  {
   "cell_type": "code",
   "execution_count": 27,
   "id": "58f051f0",
   "metadata": {},
   "outputs": [
    {
     "name": "stdout",
     "output_type": "stream",
     "text": [
      "CPU times: user 111 ms, sys: 72.4 ms, total: 183 ms\n",
      "Wall time: 5.03 s\n",
      "0.6744221545047996\n",
      "0.6640584173976336\n"
     ]
    }
   ],
   "source": [
    "clf = LogisticRegression(class_weight={0: pclass11, 1: pclass00}, max_iter=10000, random_state=11, n_jobs=-1)\n",
    "%time clf.fit(X_train_unique, y_train_unique, sample_weight=dup_count)\n",
    "\n",
    "print(roc_auc_score(y_train, clf.predict_proba(X_train_p)[:, 1]))\n",
    "print(roc_auc_score(y_test, clf.predict_proba(X_test_p)[:, 1]))"
   ]
  },
  {
   "cell_type": "code",
   "execution_count": 12,
   "id": "2204d4f4",
   "metadata": {},
   "outputs": [
    {
     "name": "stderr",
     "output_type": "stream",
     "text": [
      "/home/irbis/anaconda3/lib/python3.9/site-packages/joblib/externals/loky/process_executor.py:700: UserWarning: A worker stopped while some jobs were given to the executor. This can be caused by a too short worker timeout or by a memory leak.\n",
      "  warnings.warn(\n"
     ]
    },
    {
     "name": "stdout",
     "output_type": "stream",
     "text": [
      "CPU times: user 4min 19s, sys: 27.6 s, total: 4min 47s\n",
      "Wall time: 31min 28s\n",
      "\n",
      "{'clf__C': 100.0, 'clf__class_weight': None}\n",
      "\n"
     ]
    },
    {
     "data": {
      "text/html": [
       "<div>\n",
       "<style scoped>\n",
       "    .dataframe tbody tr th:only-of-type {\n",
       "        vertical-align: middle;\n",
       "    }\n",
       "\n",
       "    .dataframe tbody tr th {\n",
       "        vertical-align: top;\n",
       "    }\n",
       "\n",
       "    .dataframe thead th {\n",
       "        text-align: right;\n",
       "    }\n",
       "</style>\n",
       "<table border=\"1\" class=\"dataframe\">\n",
       "  <thead>\n",
       "    <tr style=\"text-align: right;\">\n",
       "      <th></th>\n",
       "      <th>LR poly</th>\n",
       "    </tr>\n",
       "  </thead>\n",
       "  <tbody>\n",
       "    <tr>\n",
       "      <th>CV Train</th>\n",
       "      <td>0.683</td>\n",
       "    </tr>\n",
       "    <tr>\n",
       "      <th>CV Test</th>\n",
       "      <td>0.670</td>\n",
       "    </tr>\n",
       "    <tr>\n",
       "      <th>CV Overfit</th>\n",
       "      <td>0.019</td>\n",
       "    </tr>\n",
       "    <tr>\n",
       "      <th>Test</th>\n",
       "      <td>0.671</td>\n",
       "    </tr>\n",
       "    <tr>\n",
       "      <th>Fit Time</th>\n",
       "      <td>11.767</td>\n",
       "    </tr>\n",
       "    <tr>\n",
       "      <th>Score Time</th>\n",
       "      <td>0.178</td>\n",
       "    </tr>\n",
       "    <tr>\n",
       "      <th>Sum Time</th>\n",
       "      <td>11.945</td>\n",
       "    </tr>\n",
       "  </tbody>\n",
       "</table>\n",
       "</div>"
      ],
      "text/plain": [
       "            LR poly\n",
       "CV Train      0.683\n",
       "CV Test       0.670\n",
       "CV Overfit    0.019\n",
       "Test          0.671\n",
       "Fit Time     11.767\n",
       "Score Time    0.178\n",
       "Sum Time     11.945"
      ]
     },
     "metadata": {},
     "output_type": "display_data"
    }
   ],
   "source": [
    "pipe = Pipeline(steps=[\n",
    "    ('imp', Imputer()),\n",
    "    ('enc', encoder),\n",
    "    ('feat', PolynomialFeatures(degree=2, include_bias=False)),\n",
    "    ('scl', StandardScaler()),\n",
    "    ('clf', LogisticRegression(max_iter=10000, random_state=11, n_jobs=-1))\n",
    "])\n",
    "\n",
    "param = [{'clf__C': 10.0 ** np.arange(0, 3),\n",
    "          'clf__class_weight': [None]}]\n",
    "\n",
    "lr_poly = GridSearchCV(pipe, param, cv=cv, scoring='roc_auc', return_train_score=True, n_jobs=-1)\n",
    "%time lr_poly.fit(X_train, y_train)\n",
    "print_stats(lr_poly, 'LR poly')"
   ]
  },
  {
   "cell_type": "code",
   "execution_count": 13,
   "id": "7070099b",
   "metadata": {},
   "outputs": [
    {
     "name": "stderr",
     "output_type": "stream",
     "text": [
      "/home/irbis/anaconda3/lib/python3.9/site-packages/joblib/externals/loky/process_executor.py:700: UserWarning: A worker stopped while some jobs were given to the executor. This can be caused by a too short worker timeout or by a memory leak.\n",
      "  warnings.warn(\n"
     ]
    },
    {
     "name": "stdout",
     "output_type": "stream",
     "text": [
      "CPU times: user 4min 18s, sys: 27 s, total: 4min 45s\n",
      "Wall time: 35min 22s\n",
      "\n",
      "{'clf__C': 10.0, 'clf__class_weight': 'balanced'}\n",
      "\n"
     ]
    },
    {
     "data": {
      "text/html": [
       "<div>\n",
       "<style scoped>\n",
       "    .dataframe tbody tr th:only-of-type {\n",
       "        vertical-align: middle;\n",
       "    }\n",
       "\n",
       "    .dataframe tbody tr th {\n",
       "        vertical-align: top;\n",
       "    }\n",
       "\n",
       "    .dataframe thead th {\n",
       "        text-align: right;\n",
       "    }\n",
       "</style>\n",
       "<table border=\"1\" class=\"dataframe\">\n",
       "  <thead>\n",
       "    <tr style=\"text-align: right;\">\n",
       "      <th></th>\n",
       "      <th>LR poly weighted</th>\n",
       "    </tr>\n",
       "  </thead>\n",
       "  <tbody>\n",
       "    <tr>\n",
       "      <th>CV Train</th>\n",
       "      <td>0.683</td>\n",
       "    </tr>\n",
       "    <tr>\n",
       "      <th>CV Test</th>\n",
       "      <td>0.670</td>\n",
       "    </tr>\n",
       "    <tr>\n",
       "      <th>CV Overfit</th>\n",
       "      <td>0.020</td>\n",
       "    </tr>\n",
       "    <tr>\n",
       "      <th>Test</th>\n",
       "      <td>0.671</td>\n",
       "    </tr>\n",
       "    <tr>\n",
       "      <th>Fit Time</th>\n",
       "      <td>13.037</td>\n",
       "    </tr>\n",
       "    <tr>\n",
       "      <th>Score Time</th>\n",
       "      <td>0.209</td>\n",
       "    </tr>\n",
       "    <tr>\n",
       "      <th>Sum Time</th>\n",
       "      <td>13.246</td>\n",
       "    </tr>\n",
       "  </tbody>\n",
       "</table>\n",
       "</div>"
      ],
      "text/plain": [
       "            LR poly weighted\n",
       "CV Train               0.683\n",
       "CV Test                0.670\n",
       "CV Overfit             0.020\n",
       "Test                   0.671\n",
       "Fit Time              13.037\n",
       "Score Time             0.209\n",
       "Sum Time              13.246"
      ]
     },
     "metadata": {},
     "output_type": "display_data"
    }
   ],
   "source": [
    "pipe = Pipeline(steps=[\n",
    "    ('imp', Imputer()),\n",
    "    ('enc', encoder),\n",
    "    ('feat', PolynomialFeatures(degree=2, include_bias=False)),\n",
    "    ('scl', StandardScaler()),\n",
    "    ('clf', LogisticRegression(max_iter=10000, random_state=11, n_jobs=-1))\n",
    "])\n",
    "\n",
    "param = [{'clf__C': 10.0 ** np.arange(0, 3),\n",
    "          'clf__class_weight': ['balanced']}]\n",
    "\n",
    "lr_poly_weighted = GridSearchCV(pipe, param, cv=cv, scoring='roc_auc', return_train_score=True, n_jobs=-1)\n",
    "%time lr_poly_weighted.fit(X_train, y_train)\n",
    "print_stats(lr_poly_weighted, 'LR poly weighted')"
   ]
  },
  {
   "cell_type": "code",
   "execution_count": 14,
   "id": "3b955036",
   "metadata": {},
   "outputs": [
    {
     "name": "stderr",
     "output_type": "stream",
     "text": [
      "/home/irbis/anaconda3/lib/python3.9/site-packages/joblib/externals/loky/process_executor.py:700: UserWarning: A worker stopped while some jobs were given to the executor. This can be caused by a too short worker timeout or by a memory leak.\n",
      "  warnings.warn(\n"
     ]
    },
    {
     "name": "stdout",
     "output_type": "stream",
     "text": [
      "CPU times: user 4min 21s, sys: 24.9 s, total: 4min 46s\n",
      "Wall time: 9min\n",
      "\n",
      "{'clf__C': 10.0, 'clf__class_weight': None}\n",
      "\n"
     ]
    },
    {
     "data": {
      "text/html": [
       "<div>\n",
       "<style scoped>\n",
       "    .dataframe tbody tr th:only-of-type {\n",
       "        vertical-align: middle;\n",
       "    }\n",
       "\n",
       "    .dataframe tbody tr th {\n",
       "        vertical-align: top;\n",
       "    }\n",
       "\n",
       "    .dataframe thead th {\n",
       "        text-align: right;\n",
       "    }\n",
       "</style>\n",
       "<table border=\"1\" class=\"dataframe\">\n",
       "  <thead>\n",
       "    <tr style=\"text-align: right;\">\n",
       "      <th></th>\n",
       "      <th>LR poly undsampl</th>\n",
       "    </tr>\n",
       "  </thead>\n",
       "  <tbody>\n",
       "    <tr>\n",
       "      <th>CV Train</th>\n",
       "      <td>0.683</td>\n",
       "    </tr>\n",
       "    <tr>\n",
       "      <th>CV Test</th>\n",
       "      <td>0.670</td>\n",
       "    </tr>\n",
       "    <tr>\n",
       "      <th>CV Overfit</th>\n",
       "      <td>0.019</td>\n",
       "    </tr>\n",
       "    <tr>\n",
       "      <th>Test</th>\n",
       "      <td>0.671</td>\n",
       "    </tr>\n",
       "    <tr>\n",
       "      <th>Fit Time</th>\n",
       "      <td>1.842</td>\n",
       "    </tr>\n",
       "    <tr>\n",
       "      <th>Score Time</th>\n",
       "      <td>0.213</td>\n",
       "    </tr>\n",
       "    <tr>\n",
       "      <th>Sum Time</th>\n",
       "      <td>2.055</td>\n",
       "    </tr>\n",
       "  </tbody>\n",
       "</table>\n",
       "</div>"
      ],
      "text/plain": [
       "            LR poly undsampl\n",
       "CV Train               0.683\n",
       "CV Test                0.670\n",
       "CV Overfit             0.019\n",
       "Test                   0.671\n",
       "Fit Time               1.842\n",
       "Score Time             0.213\n",
       "Sum Time               2.055"
      ]
     },
     "metadata": {},
     "output_type": "display_data"
    }
   ],
   "source": [
    "pipe = ImbPipeline(steps=[\n",
    "    ('imp', Imputer()),\n",
    "    ('enc', encoder),\n",
    "    ('feat', PolynomialFeatures(degree=2, include_bias=False)),\n",
    "    ('scl', StandardScaler()),\n",
    "    ('res', RandomUnderSampler(random_state=11)),\n",
    "    ('clf', LogisticRegression(max_iter=10000, random_state=11, n_jobs=-1))\n",
    "])\n",
    "\n",
    "param = [{'clf__C': 10.0 ** np.arange(0, 3),\n",
    "          'clf__class_weight': [None]}]\n",
    "\n",
    "lr_poly_undsampl = GridSearchCV(pipe, param, cv=cv, scoring='roc_auc', return_train_score=True, n_jobs=-1)\n",
    "%time lr_poly_undsampl.fit(X_train, y_train)\n",
    "print_stats(lr_poly_undsampl, 'LR poly undsampl')"
   ]
  },
  {
   "cell_type": "code",
   "execution_count": 15,
   "id": "6b6e0c16",
   "metadata": {},
   "outputs": [
    {
     "ename": "NameError",
     "evalue": "name 'plot_permutation_importances' is not defined",
     "output_type": "error",
     "traceback": [
      "\u001b[0;31m---------------------------------------------------------------------------\u001b[0m",
      "\u001b[0;31mNameError\u001b[0m                                 Traceback (most recent call last)",
      "\u001b[0;32m/tmp/ipykernel_17966/2956178599.py\u001b[0m in \u001b[0;36m<module>\u001b[0;34m\u001b[0m\n\u001b[0;32m----> 1\u001b[0;31m \u001b[0mplot_permutation_importances\u001b[0m\u001b[0;34m(\u001b[0m\u001b[0mlr_poly_undsampl\u001b[0m\u001b[0;34m,\u001b[0m \u001b[0;34m'Logistic Regression'\u001b[0m\u001b[0;34m)\u001b[0m\u001b[0;34m\u001b[0m\u001b[0;34m\u001b[0m\u001b[0m\n\u001b[0m",
      "\u001b[0;31mNameError\u001b[0m: name 'plot_permutation_importances' is not defined"
     ]
    }
   ],
   "source": [
    "plot_permutation_importances(lr_poly_undsampl, 'Logistic Regression')"
   ]
  },
  {
   "cell_type": "markdown",
   "id": "a070d9f4",
   "metadata": {},
   "source": [
    "Попробуем использовать Catboost."
   ]
  },
  {
   "cell_type": "code",
   "execution_count": 11,
   "id": "3dab74e4",
   "metadata": {},
   "outputs": [
    {
     "name": "stdout",
     "output_type": "stream",
     "text": [
      "CPU times: user 1h 16min 2s, sys: 22.4 s, total: 1h 16min 25s\n",
      "Wall time: 33min 18s\n",
      "\n",
      "{'clf__iterations': 500}\n",
      "\n"
     ]
    },
    {
     "data": {
      "text/html": [
       "<div>\n",
       "<style scoped>\n",
       "    .dataframe tbody tr th:only-of-type {\n",
       "        vertical-align: middle;\n",
       "    }\n",
       "\n",
       "    .dataframe tbody tr th {\n",
       "        vertical-align: top;\n",
       "    }\n",
       "\n",
       "    .dataframe thead th {\n",
       "        text-align: right;\n",
       "    }\n",
       "</style>\n",
       "<table border=\"1\" class=\"dataframe\">\n",
       "  <thead>\n",
       "    <tr style=\"text-align: right;\">\n",
       "      <th></th>\n",
       "      <th>CB</th>\n",
       "    </tr>\n",
       "  </thead>\n",
       "  <tbody>\n",
       "    <tr>\n",
       "      <th>CV Train</th>\n",
       "      <td>0.710</td>\n",
       "    </tr>\n",
       "    <tr>\n",
       "      <th>CV Test</th>\n",
       "      <td>0.684</td>\n",
       "    </tr>\n",
       "    <tr>\n",
       "      <th>CV Overfit</th>\n",
       "      <td>0.037</td>\n",
       "    </tr>\n",
       "    <tr>\n",
       "      <th>Test</th>\n",
       "      <td>0.691</td>\n",
       "    </tr>\n",
       "    <tr>\n",
       "      <th>Fit Time</th>\n",
       "      <td>22.687</td>\n",
       "    </tr>\n",
       "    <tr>\n",
       "      <th>Score Time</th>\n",
       "      <td>0.103</td>\n",
       "    </tr>\n",
       "    <tr>\n",
       "      <th>Sum Time</th>\n",
       "      <td>22.790</td>\n",
       "    </tr>\n",
       "  </tbody>\n",
       "</table>\n",
       "</div>"
      ],
      "text/plain": [
       "                CB\n",
       "CV Train     0.710\n",
       "CV Test      0.684\n",
       "CV Overfit   0.037\n",
       "Test         0.691\n",
       "Fit Time    22.687\n",
       "Score Time   0.103\n",
       "Sum Time    22.790"
      ]
     },
     "metadata": {},
     "output_type": "display_data"
    }
   ],
   "source": [
    "pipe = Pipeline(steps=[\n",
    "    ('imp', Imputer()),\n",
    "    ('clf', CatBoostClassifier(cat_features=cols_cat, random_seed=11, verbose=False))\n",
    "])\n",
    "\n",
    "param = [{'clf__iterations': [500]}]\n",
    "\n",
    "cb = GridSearchCV(pipe, param, cv=cv, scoring='roc_auc', return_train_score=True, n_jobs=-1)\n",
    "%time cb.fit(X_train, y_train)\n",
    "print_stats(cb, 'CB')"
   ]
  },
  {
   "cell_type": "code",
   "execution_count": null,
   "id": "de47a2f2",
   "metadata": {
    "scrolled": false
   },
   "outputs": [],
   "source": [
    "pipe = Pipeline(steps=[\n",
    "    ('imp', Imputer()),\n",
    "    ('clf', CatBoostClassifier(cat_features=cols_cat, random_seed=11, verbose=False))\n",
    "])\n",
    "\n",
    "param = [{'clf__iterations': [500],\n",
    "          'clf__auto_class_weights': ['Balanced']}]\n",
    "\n",
    "cb_weighted = GridSearchCV(pipe, param, cv=cv, scoring='roc_auc', return_train_score=True, n_jobs=-1)\n",
    "%time cb_weighted.fit(X_train, y_train)\n",
    "print_stats(cb_weighted, 'CB weighted')"
   ]
  },
  {
   "cell_type": "code",
   "execution_count": 30,
   "id": "e56760d3",
   "metadata": {},
   "outputs": [],
   "source": [
    "pipe = ImbPipeline(steps=[\n",
    "    ('imp', Imputer()),\n",
    "])\n",
    "\n",
    "X_train_p = pipe.fit_transform(X_train)\n",
    "X_test_p = pipe.transform(X_test)"
   ]
  },
  {
   "cell_type": "code",
   "execution_count": 33,
   "id": "e1de7620",
   "metadata": {},
   "outputs": [],
   "source": [
    "def unique_entries(X, y):\n",
    "    Xy = pd.concat([X, y], axis=1)\n",
    "    s = df.groupby(Xy.columns.tolist(),as_index=True).size()\n",
    "    Xy = s.index.to_frame(index=False)\n",
    "\n",
    "    X = Xy.iloc[:, :-1]\n",
    "    y = Xy.iloc[:, -1]\n",
    "    dup_count = s.to_numpy()\n",
    "    return X, y, dup_count"
   ]
  },
  {
   "cell_type": "code",
   "execution_count": 32,
   "id": "8e0d7323",
   "metadata": {},
   "outputs": [],
   "source": [
    "X_train_unique, y_train_unique, dup_count = unique_entries(X_train_p, y_train)"
   ]
  },
  {
   "cell_type": "code",
   "execution_count": null,
   "id": "c73f5baf",
   "metadata": {
    "scrolled": false
   },
   "outputs": [],
   "source": [
    "pipe = ImbPipeline(steps=[\n",
    "    ('imp', Imputer()),\n",
    "    ('res', RandomUnderSampler(random_state=11)),\n",
    "    ('clf', CatBoostClassifier(cat_features=cols_cat, random_seed=11, verbose=False))\n",
    "])\n",
    "\n",
    "param = [{}]\n",
    "\n",
    "cb_undsampl = GridSearchCV(pipe, param, cv=cv, scoring='roc_auc', return_train_score=True, n_jobs=-1)\n",
    "%time cb_undsampl.fit(X_train, y_train)\n",
    "print_stats(cb_undsampl, 'CB undsampl')"
   ]
  },
  {
   "cell_type": "code",
   "execution_count": null,
   "id": "d7bffea6",
   "metadata": {},
   "outputs": [],
   "source": [
    "plot_permutation_importances(cb_undsampl, 'CatBoost')"
   ]
  },
  {
   "cell_type": "code",
   "execution_count": null,
   "id": "b0984559",
   "metadata": {},
   "outputs": [],
   "source": [
    "summary"
   ]
  },
  {
   "cell_type": "code",
   "execution_count": null,
   "id": "9e400408",
   "metadata": {},
   "outputs": [],
   "source": [
    "from sklearn.base import clone\n",
    "from functools import partial\n",
    "import dill\n",
    "\n",
    "est = clone(cb_undsampl.best_estimator_)\n",
    "est.fit(X, y)\n",
    "\n",
    "model = Pipeline(steps=[\n",
    "    ('pre_split_filter', FunctionTransformer(partial(pre_split_filter, drop_outliers=False))),\n",
    "    ('estimator', est)\n",
    "])\n",
    "\n",
    "os.makedirs('../data', exist_ok=True)\n",
    "with open('../data/model.pkl', 'wb') as file:\n",
    "    dill.dump(model, file)\n",
    "    \n",
    "print('Complete') "
   ]
  }
 ],
 "metadata": {
  "kernelspec": {
   "display_name": "Python 3 (ipykernel)",
   "language": "python",
   "name": "python3"
  },
  "language_info": {
   "codemirror_mode": {
    "name": "ipython",
    "version": 3
   },
   "file_extension": ".py",
   "mimetype": "text/x-python",
   "name": "python",
   "nbconvert_exporter": "python",
   "pygments_lexer": "ipython3",
   "version": "3.9.13"
  }
 },
 "nbformat": 4,
 "nbformat_minor": 5
}

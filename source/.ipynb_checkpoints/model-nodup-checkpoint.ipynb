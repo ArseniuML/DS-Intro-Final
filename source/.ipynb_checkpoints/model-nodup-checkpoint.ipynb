{
 "cells": [
  {
   "cell_type": "code",
   "execution_count": 1,
   "id": "0f6c2b07",
   "metadata": {},
   "outputs": [
    {
     "data": {
      "text/html": [
       "\n",
       "<style>\n",
       ".container {width: 90% !important;}\n",
       "div.prompt {min-width: 12ex;}\n",
       "div.output_area {overflow-y: scroll;}\n",
       "div.output_area img {max-width: unset;}\n",
       "div.output_subarea {max-width: unset;}\n",
       "</style>\n"
      ],
      "text/plain": [
       "<IPython.core.display.HTML object>"
      ]
     },
     "execution_count": 1,
     "metadata": {},
     "output_type": "execute_result"
    }
   ],
   "source": [
    "from IPython.core.display import HTML\n",
    "style = \"\"\"\n",
    "<style>\n",
    ".container {width: 90% !important;}\n",
    "div.prompt {min-width: 12ex;}\n",
    "div.output_area {overflow-y: scroll;}\n",
    "div.output_area img {max-width: unset;}\n",
    "div.output_subarea {max-width: unset;}\n",
    "</style>\n",
    "\"\"\"\n",
    "HTML(style)"
   ]
  },
  {
   "cell_type": "code",
   "execution_count": 2,
   "id": "c0d23ea3",
   "metadata": {},
   "outputs": [],
   "source": [
    "import pandas as pd\n",
    "import numpy as np\n",
    "import matplotlib.pyplot as plt\n",
    "import os\n",
    "\n",
    "from sklearn.model_selection import train_test_split\n",
    "from sklearn.model_selection import GridSearchCV\n",
    "from sklearn.model_selection import StratifiedKFold\n",
    "\n",
    "from sklearn.impute import SimpleImputer\n",
    "from category_encoders import TargetEncoder\n",
    "\n",
    "from sklearn.preprocessing import OneHotEncoder\n",
    "from sklearn.preprocessing import FunctionTransformer\n",
    "from sklearn.preprocessing import StandardScaler\n",
    "\n",
    "from sklearn.compose import ColumnTransformer\n",
    "from sklearn.compose import make_column_transformer\n",
    "\n",
    "from sklearn.pipeline import Pipeline\n",
    "from sklearn.pipeline import make_pipeline\n",
    "\n",
    "from imblearn.pipeline import Pipeline as ImbPipeline\n",
    "from imblearn.under_sampling import RandomUnderSampler\n",
    "\n",
    "from sklearn.ensemble import RandomForestClassifier\n",
    "from imblearn.ensemble import BalancedRandomForestClassifier\n",
    "from sklearn.linear_model import LogisticRegression\n",
    "from catboost import CatBoostClassifier\n",
    "\n",
    "from sklearn.metrics import roc_auc_score"
   ]
  },
  {
   "cell_type": "code",
   "execution_count": 3,
   "id": "31347485",
   "metadata": {},
   "outputs": [],
   "source": [
    "import matplotlib as mpl\n",
    "for k, v in mpl.rcParams.items():\n",
    "    if v == 'black':\n",
    "        mpl.rcParams[k] = '#28324a'"
   ]
  },
  {
   "cell_type": "markdown",
   "id": "a8aafdda",
   "metadata": {},
   "source": [
    "### Подготовка данных"
   ]
  },
  {
   "cell_type": "markdown",
   "id": "7337f5db",
   "metadata": {},
   "source": [
    "Оформим результаты разведочного анализа в виде функции pre_split_filter."
   ]
  },
  {
   "cell_type": "code",
   "execution_count": 4,
   "id": "357a002a",
   "metadata": {},
   "outputs": [],
   "source": [
    "def pre_split_filter(df, drop_outliers):\n",
    "    df = df.copy()\n",
    "    \n",
    "    df.drop(columns=['device_model', 'geo_country'], inplace=True)\n",
    "    \n",
    "    cols_to_lower = ['device_category', 'device_os', 'device_brand', 'device_browser', 'geo_city']\n",
    "    df.loc[:, cols_to_lower] = df.loc[:, cols_to_lower].apply(lambda x: x.str.lower())\n",
    "\n",
    "    df.fillna('(none)', inplace=True)\n",
    "    df.replace('(not set)', '(none)', inplace=True)\n",
    "    \n",
    "    \n",
    "    #device categorical columns\n",
    "    \n",
    "    df = df[df['device_browser'] != '(none)']\n",
    "\n",
    "    def browser_filter(s):\n",
    "        return ''.join([c for c in s if c.isalpha()])\n",
    "    \n",
    "    df.loc[:, 'device_browser'] = df.loc[:, 'device_browser'].apply(browser_filter)\n",
    "    \n",
    "    def fillna(cond, field, value): \n",
    "        df.loc[cond & (df[field] == '(none)'), field] = value\n",
    "    \n",
    "    fillna((df['device_os'] == 'macintosh') | (df['device_os'] == 'ios'), 'device_brand', 'apple')\n",
    "    fillna((df['device_brand'] == 'apple') & (df['device_category'] == 'desktop'), 'device_os', 'macintosh')\n",
    "    fillna(df['device_brand'] == 'apple', 'device_os', 'ios')\n",
    "    \n",
    "    df.drop(columns=['device_os'], inplace=True)\n",
    "    \n",
    "    \n",
    "    #device numerical columns\n",
    "    \n",
    "    df[['device_screen_width', 'device_screen_height']] = df['device_screen_resolution'].str.split('x', expand=True).astype(int)\n",
    "    df = df[(df['device_screen_width'] > 0) & (df['device_screen_height'] > 0)]\n",
    "    \n",
    "    df_screen_size = df[['device_screen_width', 'device_screen_height']]\n",
    "    df['device_screen_width'], df['device_screen_height'] = df_screen_size.max(axis=1), df_screen_size.min(axis=1)\n",
    "    \n",
    "    df['device_screen_area'] = df['device_screen_width'] * df['device_screen_height']\n",
    "    df['device_screen_aspect'] = df['device_screen_width'] / df['device_screen_height']\n",
    "\n",
    "    if drop_outliers:\n",
    "        df = df[df['device_screen_width'] <= 19000]\n",
    "        \n",
    "    df.drop(columns=['device_screen_resolution', 'device_screen_width', 'device_screen_height'], inplace=True)\n",
    "    \n",
    "    return df"
   ]
  },
  {
   "cell_type": "markdown",
   "id": "1004484b",
   "metadata": {},
   "source": [
    "Заполнение пропусков в поле device_brand условной модой у мобильных устройств и планшетов. Apple исключаем из рассмотрения, т.к. пропуски у Apple-устройств заполняются детерминированно перед разбиением на train/test."
   ]
  },
  {
   "cell_type": "code",
   "execution_count": 5,
   "id": "43161052",
   "metadata": {},
   "outputs": [],
   "source": [
    "from sklearn.base import BaseEstimator, TransformerMixin\n",
    "\n",
    "class Imputer(BaseEstimator, TransformerMixin):\n",
    "    def __init__(self):\n",
    "        self.device_brand_imp = SimpleImputer(missing_values='(none)', strategy='most_frequent')\n",
    "        self.geo_city_imp = SimpleImputer(missing_values='(none)', strategy='most_frequent')\n",
    "        \n",
    "    def fit(self, X, y=None):\n",
    "        cond = (X['device_brand'] != 'apple') & (X['device_category'] != 'desktop')\n",
    "        self.device_brand_imp.fit(X.loc[cond, ['device_brand']])\n",
    "        self.geo_city_imp.fit(X.loc[:, ['geo_city']])\n",
    "        self.output_features_ = X.columns\n",
    "        return self\n",
    "        \n",
    "    def transform(self, X, y=None):\n",
    "        Xt = X.copy()\n",
    "        cond = (X['device_brand'] != 'apple') & (X['device_category'] != 'desktop')\n",
    "        if cond.sum() > 0:\n",
    "            Xt.loc[cond, ['device_brand']] = self.device_brand_imp.transform(Xt.loc[cond, ['device_brand']])\n",
    "        Xt.loc[:, ['geo_city']] = self.geo_city_imp.transform(Xt.loc[:, ['geo_city']])\n",
    "        return Xt\n",
    "    \n",
    "    def get_feature_names_out(self, input_features=None):\n",
    "        return self.output_features_"
   ]
  },
  {
   "cell_type": "markdown",
   "id": "4e0347bb",
   "metadata": {},
   "source": [
    "### Моделирование"
   ]
  },
  {
   "cell_type": "code",
   "execution_count": 6,
   "id": "2a455db4",
   "metadata": {},
   "outputs": [],
   "source": [
    "data_dir = '../../Final_work_data'\n",
    "df = pre_split_filter(pd.read_csv(os.path.join(data_dir, 'ml_data.csv'), dtype=str), drop_outliers=True)\n",
    "df['target'] = df['target'].astype(int)\n",
    "\n",
    "X = df.drop(columns=['target'])\n",
    "y = df['target']\n",
    "cols_cat = [x for x in X.columns if not x.startswith('device_screen')]\n",
    "\n",
    "X_train, X_test, y_train, y_test = train_test_split(X, y, test_size=0.2, stratify=y, random_state=11)\n",
    "cv = StratifiedKFold(n_splits=3, shuffle=True, random_state=11)"
   ]
  },
  {
   "cell_type": "code",
   "execution_count": 7,
   "id": "559e04c6",
   "metadata": {},
   "outputs": [],
   "source": [
    "import pprint\n",
    "\n",
    "summary = pd.DataFrame(\n",
    "    {}, \n",
    "    index=['CV Train', 'CV Test', 'CV Overfit', 'Test', 'Fit Time', 'Score Time', 'Sum Time'])\n",
    "\n",
    "def print_stats(model, model_name):\n",
    "    print('')\n",
    "    pprint.pprint(model.best_params_)\n",
    "    print('')\n",
    "    \n",
    "    cv_train = model.cv_results_['mean_train_score'][model.best_index_]\n",
    "    cv_test = model.cv_results_['mean_test_score'][model.best_index_]\n",
    "    cv_overfit = (cv_train - cv_test) / cv_test\n",
    "\n",
    "    try:\n",
    "        test = roc_auc_score(y_test, model.predict_proba(X_test)[:, 1])\n",
    "    except AttributeError:\n",
    "        test = roc_auc_score(y_test, model.decision_function(X_test))\n",
    "        \n",
    "    fit_time = model.cv_results_['mean_fit_time'][model.best_index_] / 60\n",
    "    score_time = model.cv_results_['mean_score_time'][model.best_index_] / 60\n",
    "    sum_time = fit_time + score_time\n",
    "    \n",
    "    global summary\n",
    "    model_summary = pd.DataFrame(\n",
    "        {model_name: [cv_train, cv_test, cv_overfit, test, fit_time, score_time, sum_time]},\n",
    "        index=summary.index\n",
    "    ).round(3)\n",
    "    display(model_summary)\n",
    "    \n",
    "    summary = model_summary.combine_first(summary)"
   ]
  },
  {
   "cell_type": "markdown",
   "id": "8603f3eb",
   "metadata": {},
   "source": [
    "Попробуем использовать RandomForestClassifier. Для балансирования выборки используем веса классов."
   ]
  },
  {
   "cell_type": "code",
   "execution_count": 8,
   "id": "102bd071",
   "metadata": {},
   "outputs": [],
   "source": [
    "encoder = make_column_transformer((OneHotEncoder(drop='if_binary', \n",
    "                                                 handle_unknown='infrequent_if_exist'), \n",
    "                                   cols_cat), \n",
    "                                  remainder='passthrough')\n",
    "\n",
    "# Несмотря на handle_unknown = 'infrequent_if_exist' появляются такие warning-и\n",
    "# Категории при этом кодируются правильно\n",
    "import warnings\n",
    "warnings.filterwarnings('ignore', message='Found unknown categories')\n",
    "os.environ['PYTHONWARNINGS'] = 'ignore:Found unknown categories'"
   ]
  },
  {
   "cell_type": "code",
   "execution_count": 9,
   "id": "9108d4ca",
   "metadata": {},
   "outputs": [
    {
     "name": "stdout",
     "output_type": "stream",
     "text": [
      "CPU times: user 46min 4s, sys: 7.34 s, total: 46min 12s\n",
      "Wall time: 17min 51s\n",
      "\n",
      "{'clf__class_weight': None,\n",
      " 'clf__max_depth': 12,\n",
      " 'clf__max_features': 7,\n",
      " 'clf__min_samples_leaf': 6,\n",
      " 'enc__onehotencoder__min_frequency': 0.1}\n",
      "\n"
     ]
    },
    {
     "data": {
      "text/html": [
       "<div>\n",
       "<style scoped>\n",
       "    .dataframe tbody tr th:only-of-type {\n",
       "        vertical-align: middle;\n",
       "    }\n",
       "\n",
       "    .dataframe tbody tr th {\n",
       "        vertical-align: top;\n",
       "    }\n",
       "\n",
       "    .dataframe thead th {\n",
       "        text-align: right;\n",
       "    }\n",
       "</style>\n",
       "<table border=\"1\" class=\"dataframe\">\n",
       "  <thead>\n",
       "    <tr style=\"text-align: right;\">\n",
       "      <th></th>\n",
       "      <th>RF</th>\n",
       "    </tr>\n",
       "  </thead>\n",
       "  <tbody>\n",
       "    <tr>\n",
       "      <th>CV Train</th>\n",
       "      <td>0.706</td>\n",
       "    </tr>\n",
       "    <tr>\n",
       "      <th>CV Test</th>\n",
       "      <td>0.676</td>\n",
       "    </tr>\n",
       "    <tr>\n",
       "      <th>CV Overfit</th>\n",
       "      <td>0.045</td>\n",
       "    </tr>\n",
       "    <tr>\n",
       "      <th>Test</th>\n",
       "      <td>0.681</td>\n",
       "    </tr>\n",
       "    <tr>\n",
       "      <th>Fit Time</th>\n",
       "      <td>11.303</td>\n",
       "    </tr>\n",
       "    <tr>\n",
       "      <th>Score Time</th>\n",
       "      <td>0.162</td>\n",
       "    </tr>\n",
       "    <tr>\n",
       "      <th>Sum Time</th>\n",
       "      <td>11.464</td>\n",
       "    </tr>\n",
       "  </tbody>\n",
       "</table>\n",
       "</div>"
      ],
      "text/plain": [
       "                RF\n",
       "CV Train     0.706\n",
       "CV Test      0.676\n",
       "CV Overfit   0.045\n",
       "Test         0.681\n",
       "Fit Time    11.303\n",
       "Score Time   0.162\n",
       "Sum Time    11.464"
      ]
     },
     "metadata": {},
     "output_type": "display_data"
    }
   ],
   "source": [
    "pipe = Pipeline(steps=[\n",
    "    ('imp', Imputer()),\n",
    "    ('enc', encoder),\n",
    "    ('clf', RandomForestClassifier(random_state=11, n_jobs=-1))\n",
    "])\n",
    "\n",
    "#param = [{'enc__onehotencoder__min_frequency': [0.1],\n",
    "#          'clf__min_samples_leaf': [4, 5, 6],\n",
    "#          'clf__max_depth': [9, 10, 11, 12],\n",
    "#          'clf__max_features': [5, 6, 7],\n",
    "#          'clf__class_weight': ['balanced']}]\n",
    "\n",
    "param = [{'enc__onehotencoder__min_frequency': [0.1],\n",
    "          'clf__min_samples_leaf': [6],\n",
    "          'clf__max_depth': [12],\n",
    "          'clf__max_features': [7],\n",
    "          'clf__class_weight': [None]}]\n",
    "\n",
    "rf = GridSearchCV(pipe, param, cv=cv, scoring='roc_auc', return_train_score=True, n_jobs=-1)\n",
    "%time rf.fit(X_train, y_train)\n",
    "print_stats(rf, 'RF')"
   ]
  },
  {
   "cell_type": "code",
   "execution_count": null,
   "id": "8770ff16",
   "metadata": {},
   "outputs": [],
   "source": [
    "pipe = Pipeline(steps=[\n",
    "    ('imp', Imputer()),\n",
    "    ('enc', encoder),\n",
    "    ('clf', RandomForestClassifier(random_state=11, n_jobs=-1))\n",
    "])\n",
    "\n",
    "#param = [{'enc__onehotencoder__min_frequency': [0.1],\n",
    "#          'clf__min_samples_leaf': [4, 5, 6],\n",
    "#          'clf__max_depth': [9, 10, 11, 12],\n",
    "#          'clf__max_features': [5, 6, 7],\n",
    "#          'clf__class_weight': ['balanced']}]\n",
    "\n",
    "param = [{'enc__onehotencoder__min_frequency': [0.1],\n",
    "          'clf__min_samples_leaf': [6],\n",
    "          'clf__max_depth': [12],\n",
    "          'clf__max_features': [7],\n",
    "          'clf__class_weight': ['balanced']}]\n",
    "\n",
    "rf_weighted = GridSearchCV(pipe, param, cv=cv, scoring='roc_auc', return_train_score=True, n_jobs=-1)\n",
    "%time rf_weighted.fit(X_train, y_train)\n",
    "print_stats(rf_weighted, 'RF weighted')"
   ]
  },
  {
   "cell_type": "markdown",
   "id": "81948a57",
   "metadata": {},
   "source": [
    "Метрика больше, чем 0.65, но большое время обучения модели не позволяет эффективно подбирать параметры."
   ]
  },
  {
   "cell_type": "markdown",
   "id": "cf4f237a",
   "metadata": {},
   "source": [
    "Заметим, что в выборке присутствует большое количество дубликатов. Эти дубликаты можно удалить, заменив весами экземпляров (sample_weight)."
   ]
  },
  {
   "cell_type": "code",
   "execution_count": 14,
   "id": "64142538",
   "metadata": {},
   "outputs": [],
   "source": [
    "from scipy.sparse import csr_matrix\n",
    "from scipy.sparse import issparse\n",
    "from collections import defaultdict\n",
    "\n",
    "def NoDupLearner(base):\n",
    "    class NoDupLearner(base):\n",
    "        def fit(self, X, y):\n",
    "            if isinstance(X, pd.DataFrame):\n",
    "                if not isinstance(y, pd.Series):\n",
    "                    raise ValueError('If X is DataFrame, y must be Series')\n",
    "                \n",
    "                Xy = pd.concat([X, y], axis=1)\n",
    "                s = df.groupby(Xy.columns.tolist(),as_index=True).size()\n",
    "                Xy = s.index.to_frame(index=False)\n",
    "                \n",
    "                X = Xy.iloc[:, :-1]\n",
    "                y = Xy.iloc[:, -1]\n",
    "                dup_count = s.to_numpy()\n",
    "            elif issparse(X):\n",
    "                if X.getformat() != 'csr':\n",
    "                    raise ValueError('If X is sparse, it must be in CSR format')\n",
    "                    \n",
    "                y = np.atleast_1d(y)\n",
    "                if y.ndim > 1:\n",
    "                    raise ValueError('Only 1d y is supported')\n",
    "                \n",
    "                X, y, dup_count = NoDupLearner.unique_entries(X, y)\n",
    "            else:\n",
    "                X = np.atleast_1d(X)\n",
    "                if X.ndim == 1: \n",
    "                    X = np.reshape(X, (-1, 1))\n",
    "                    \n",
    "                y = np.atleast_1d(y)\n",
    "                if y.ndim > 1:\n",
    "                    raise ValueError('Only 1d y is supported')                   \n",
    "                y = np.reshape(y, (-1, 1))\n",
    "                \n",
    "                Xy = np.hstack([X, y])\n",
    "                Xy, dup_count = np.unique(Xy, axis=0, return_counts=True)\n",
    "                X, y = Xy[:, :-1], Xy[:, -1]\n",
    "\n",
    "            base.fit(self, X, y, sample_weight=dup_count)\n",
    "            \n",
    "        # Удаляет дубликаты строк в датасете вида Xy, где X = sparse, y = dense\n",
    "        def unique_entries(sparse, dense):\n",
    "            def get_key(row_num):\n",
    "                row = np.zeros(sparse.shape[1], dtype=sparse.dtype)\n",
    "                indices = sparse.indices[sparse.indptr[row_num]:sparse.indptr[row_num + 1]]\n",
    "                data = sparse.data[sparse.indptr[row_num]:sparse.indptr[row_num + 1]]\n",
    "                for index, value in zip(indices, data):\n",
    "                    row[index] += value\n",
    "\n",
    "                indices = np.flatnonzero(row)\n",
    "                data = row[indices]\n",
    "                return tuple(indices), tuple(data), dense[row_num]\n",
    "\n",
    "            unique_rows = defaultdict(int)\n",
    "\n",
    "            for row_num in range(0, len(sparse.indptr) - 1):\n",
    "                unique_rows[get_key(row_num)] += 1\n",
    "\n",
    "            indptr, indices, data = [], [], []\n",
    "            dense = []\n",
    "            row_counts = []\n",
    "\n",
    "            for k, v in unique_rows.items():\n",
    "                indptr.append(len(indices))\n",
    "                indices.extend(k[0])\n",
    "                data.extend(k[1])\n",
    "                dense.append(k[2])\n",
    "                row_counts.append(v)\n",
    "            indptr.append(len(indices))\n",
    "\n",
    "            sparse = csr_matrix((data, indices, indptr), shape=(len(unique_rows), sparse.shape[1]), dtype=sparse.dtype)\n",
    "            return sparse, dense, row_counts\n",
    "            \n",
    "    return NoDupLearner"
   ]
  },
  {
   "cell_type": "code",
   "execution_count": 19,
   "id": "954d0c03",
   "metadata": {},
   "outputs": [
    {
     "name": "stdout",
     "output_type": "stream",
     "text": [
      "CPU times: user 1min 44s, sys: 2.74 s, total: 1min 47s\n",
      "Wall time: 2min 17s\n",
      "\n",
      "{'clf__class_weight': 'balanced',\n",
      " 'clf__max_depth': 11,\n",
      " 'clf__max_features': 9,\n",
      " 'clf__min_samples_leaf': 5,\n",
      " 'enc__onehotencoder__min_frequency': 0.0125}\n",
      "\n"
     ]
    },
    {
     "data": {
      "text/html": [
       "<div>\n",
       "<style scoped>\n",
       "    .dataframe tbody tr th:only-of-type {\n",
       "        vertical-align: middle;\n",
       "    }\n",
       "\n",
       "    .dataframe tbody tr th {\n",
       "        vertical-align: top;\n",
       "    }\n",
       "\n",
       "    .dataframe thead th {\n",
       "        text-align: right;\n",
       "    }\n",
       "</style>\n",
       "<table border=\"1\" class=\"dataframe\">\n",
       "  <thead>\n",
       "    <tr style=\"text-align: right;\">\n",
       "      <th></th>\n",
       "      <th>RF nodup</th>\n",
       "    </tr>\n",
       "  </thead>\n",
       "  <tbody>\n",
       "    <tr>\n",
       "      <th>CV Train</th>\n",
       "      <td>0.694</td>\n",
       "    </tr>\n",
       "    <tr>\n",
       "      <th>CV Test</th>\n",
       "      <td>0.678</td>\n",
       "    </tr>\n",
       "    <tr>\n",
       "      <th>CV Overfit</th>\n",
       "      <td>0.024</td>\n",
       "    </tr>\n",
       "    <tr>\n",
       "      <th>Test</th>\n",
       "      <td>0.682</td>\n",
       "    </tr>\n",
       "    <tr>\n",
       "      <th>Fit Time</th>\n",
       "      <td>0.634</td>\n",
       "    </tr>\n",
       "    <tr>\n",
       "      <th>Score Time</th>\n",
       "      <td>0.122</td>\n",
       "    </tr>\n",
       "    <tr>\n",
       "      <th>Sum Time</th>\n",
       "      <td>0.756</td>\n",
       "    </tr>\n",
       "  </tbody>\n",
       "</table>\n",
       "</div>"
      ],
      "text/plain": [
       "            RF nodup\n",
       "CV Train       0.694\n",
       "CV Test        0.678\n",
       "CV Overfit     0.024\n",
       "Test           0.682\n",
       "Fit Time       0.634\n",
       "Score Time     0.122\n",
       "Sum Time       0.756"
      ]
     },
     "metadata": {},
     "output_type": "display_data"
    }
   ],
   "source": [
    "pipe = Pipeline(steps=[\n",
    "    ('imp', Imputer()),\n",
    "    ('enc', encoder),\n",
    "    ('clf', NoDupLearner(RandomForestClassifier)(random_state=11, n_jobs=-1))\n",
    "])\n",
    "\n",
    "param = [{'enc__onehotencoder__min_frequency': [0.0125],\n",
    "          'clf__min_samples_leaf': [5],\n",
    "          'clf__max_depth': [11],\n",
    "          'clf__max_features': [9],\n",
    "          'clf__class_weight': ['balanced', 'balanced_subsample']}]\n",
    "\n",
    "rf_nodup = GridSearchCV(pipe, param, cv=cv, scoring='roc_auc', return_train_score=True, n_jobs=-1)\n",
    "%time rf_nodup.fit(X_train, y_train)\n",
    "print_stats(rf_nodup, 'RF nodup')"
   ]
  },
  {
   "cell_type": "markdown",
   "id": "9d4db3a5",
   "metadata": {},
   "source": [
    "Попробуем использовать Undersampling."
   ]
  },
  {
   "cell_type": "code",
   "execution_count": 12,
   "id": "2b04c6b9",
   "metadata": {
    "scrolled": false
   },
   "outputs": [
    {
     "name": "stdout",
     "output_type": "stream",
     "text": [
      "CPU times: user 56.1 s, sys: 1.25 s, total: 57.4 s\n",
      "Wall time: 55.9 s\n",
      "\n",
      "{'clf__max_depth': 12,\n",
      " 'clf__max_features': 9,\n",
      " 'clf__min_samples_leaf': 6,\n",
      " 'enc__onehotencoder__min_frequency': 0.0125}\n",
      "\n"
     ]
    },
    {
     "data": {
      "text/html": [
       "<div>\n",
       "<style scoped>\n",
       "    .dataframe tbody tr th:only-of-type {\n",
       "        vertical-align: middle;\n",
       "    }\n",
       "\n",
       "    .dataframe tbody tr th {\n",
       "        vertical-align: top;\n",
       "    }\n",
       "\n",
       "    .dataframe thead th {\n",
       "        text-align: right;\n",
       "    }\n",
       "</style>\n",
       "<table border=\"1\" class=\"dataframe\">\n",
       "  <thead>\n",
       "    <tr style=\"text-align: right;\">\n",
       "      <th></th>\n",
       "      <th>RF undsampl</th>\n",
       "    </tr>\n",
       "  </thead>\n",
       "  <tbody>\n",
       "    <tr>\n",
       "      <th>CV Train</th>\n",
       "      <td>0.690</td>\n",
       "    </tr>\n",
       "    <tr>\n",
       "      <th>CV Test</th>\n",
       "      <td>0.679</td>\n",
       "    </tr>\n",
       "    <tr>\n",
       "      <th>CV Overfit</th>\n",
       "      <td>0.017</td>\n",
       "    </tr>\n",
       "    <tr>\n",
       "      <th>Test</th>\n",
       "      <td>0.684</td>\n",
       "    </tr>\n",
       "    <tr>\n",
       "      <th>Fit Time</th>\n",
       "      <td>0.200</td>\n",
       "    </tr>\n",
       "    <tr>\n",
       "      <th>Score Time</th>\n",
       "      <td>0.104</td>\n",
       "    </tr>\n",
       "    <tr>\n",
       "      <th>Sum Time</th>\n",
       "      <td>0.304</td>\n",
       "    </tr>\n",
       "  </tbody>\n",
       "</table>\n",
       "</div>"
      ],
      "text/plain": [
       "            RF undsampl\n",
       "CV Train          0.690\n",
       "CV Test           0.679\n",
       "CV Overfit        0.017\n",
       "Test              0.684\n",
       "Fit Time          0.200\n",
       "Score Time        0.104\n",
       "Sum Time          0.304"
      ]
     },
     "metadata": {},
     "output_type": "display_data"
    }
   ],
   "source": [
    "pipe = ImbPipeline(steps=[\n",
    "    ('imp', Imputer()),\n",
    "    ('enc', encoder),\n",
    "    ('res', RandomUnderSampler(random_state=11)),\n",
    "    ('clf', RandomForestClassifier(random_state=11, n_jobs=-1))\n",
    "])\n",
    "\n",
    "#param = [{'enc__onehotencoder__min_frequency': [0.05],\n",
    "#          'clf__min_samples_leaf': [4, 5, 6],\n",
    "#          'clf__min_samples_split': [2, 3, 4],\n",
    "#          'clf__max_depth': [10, 11, 12], \n",
    "#          'clf__max_features': [8, 9, 10, 11, 12, 13]}]\n",
    "\n",
    "param = [{'enc__onehotencoder__min_frequency': [0.0125],\n",
    "          'clf__min_samples_leaf': [6],\n",
    "          'clf__max_depth': [12], \n",
    "          'clf__max_features': [9]}]\n",
    "\n",
    "rf_undsampl = GridSearchCV(pipe, param, cv=cv, scoring='roc_auc', return_train_score=True, n_jobs=-1)\n",
    "%time rf_undsampl.fit(X_train, y_train)\n",
    "print_stats(rf_undsampl, 'RF undsampl')"
   ]
  },
  {
   "cell_type": "markdown",
   "id": "ef3b6011",
   "metadata": {},
   "source": [
    "Попробуем BalancedRandomForestClassifier из библиотеки Imblearn."
   ]
  },
  {
   "cell_type": "code",
   "execution_count": 13,
   "id": "4f0ba32c",
   "metadata": {
    "scrolled": false
   },
   "outputs": [
    {
     "name": "stdout",
     "output_type": "stream",
     "text": [
      "CPU times: user 2min 48s, sys: 2.08 s, total: 2min 50s\n",
      "Wall time: 1min 55s\n",
      "\n",
      "{'clf__max_depth': 12,\n",
      " 'clf__max_features': 13,\n",
      " 'clf__min_samples_leaf': 4,\n",
      " 'enc__onehotencoder__min_frequency': 0.0125}\n",
      "\n"
     ]
    },
    {
     "data": {
      "text/html": [
       "<div>\n",
       "<style scoped>\n",
       "    .dataframe tbody tr th:only-of-type {\n",
       "        vertical-align: middle;\n",
       "    }\n",
       "\n",
       "    .dataframe tbody tr th {\n",
       "        vertical-align: top;\n",
       "    }\n",
       "\n",
       "    .dataframe thead th {\n",
       "        text-align: right;\n",
       "    }\n",
       "</style>\n",
       "<table border=\"1\" class=\"dataframe\">\n",
       "  <thead>\n",
       "    <tr style=\"text-align: right;\">\n",
       "      <th></th>\n",
       "      <th>RF imblearn</th>\n",
       "    </tr>\n",
       "  </thead>\n",
       "  <tbody>\n",
       "    <tr>\n",
       "      <th>CV Train</th>\n",
       "      <td>0.698</td>\n",
       "    </tr>\n",
       "    <tr>\n",
       "      <th>CV Test</th>\n",
       "      <td>0.682</td>\n",
       "    </tr>\n",
       "    <tr>\n",
       "      <th>CV Overfit</th>\n",
       "      <td>0.023</td>\n",
       "    </tr>\n",
       "    <tr>\n",
       "      <th>Test</th>\n",
       "      <td>0.687</td>\n",
       "    </tr>\n",
       "    <tr>\n",
       "      <th>Fit Time</th>\n",
       "      <td>0.779</td>\n",
       "    </tr>\n",
       "    <tr>\n",
       "      <th>Score Time</th>\n",
       "      <td>0.107</td>\n",
       "    </tr>\n",
       "    <tr>\n",
       "      <th>Sum Time</th>\n",
       "      <td>0.886</td>\n",
       "    </tr>\n",
       "  </tbody>\n",
       "</table>\n",
       "</div>"
      ],
      "text/plain": [
       "            RF imblearn\n",
       "CV Train          0.698\n",
       "CV Test           0.682\n",
       "CV Overfit        0.023\n",
       "Test              0.687\n",
       "Fit Time          0.779\n",
       "Score Time        0.107\n",
       "Sum Time          0.886"
      ]
     },
     "metadata": {},
     "output_type": "display_data"
    }
   ],
   "source": [
    "pipe = Pipeline(steps=[\n",
    "    ('imp', Imputer()),\n",
    "    ('enc', encoder),\n",
    "    ('clf', BalancedRandomForestClassifier(random_state=11, n_jobs=-1))\n",
    "])\n",
    "\n",
    "#param = [{'enc__onehotencoder__min_frequency': [0.05],\n",
    "#          'clf__min_samples_leaf': [4, 5, 6, 7],\n",
    "#          'clf__max_depth': [9, 10, 11, 12], \n",
    "#          'clf__max_features': [8, 9, 10, 11, 12, 13]}]\n",
    "\n",
    "param = [{'enc__onehotencoder__min_frequency': [0.0125],\n",
    "          'clf__min_samples_leaf': [4],\n",
    "          'clf__max_depth': [12], \n",
    "          'clf__max_features': [13]}]\n",
    "\n",
    "rf_imblearn = GridSearchCV(pipe, param, cv=cv, scoring='roc_auc', return_train_score=True, n_jobs=-1)\n",
    "%time rf_imblearn.fit(X_train, y_train)\n",
    "print_stats(rf_imblearn, 'RF imblearn')"
   ]
  },
  {
   "cell_type": "markdown",
   "id": "a4a71733",
   "metadata": {},
   "source": [
    "Лучшая модель из случайных деревьев - BalancedRandomForestClassifier из библиотеки Imblearn. Построим график важности признаков."
   ]
  },
  {
   "cell_type": "code",
   "execution_count": 14,
   "id": "a0ba01e6",
   "metadata": {},
   "outputs": [],
   "source": [
    "from sklearn.inspection import permutation_importance\n",
    "\n",
    "def plot_permutation_importances(model, title):\n",
    "    perm_imp = permutation_importance(\n",
    "        model.best_estimator_, X_test, y_test, scoring='roc_auc',\n",
    "        n_repeats=5, random_state=42, n_jobs=-1\n",
    "    )\n",
    "    \n",
    "    features = X.columns\n",
    "    importances = perm_imp.importances_mean\n",
    "    indices = np.argsort(importances)\n",
    "\n",
    "    fig = plt.figure(figsize=(8, 6))\n",
    "    title += ' permutation importances'\n",
    "    plt.title(title)\n",
    "    plt.barh(range(len(indices)), importances[indices], height=0.7, color='#3c78d8', align='center')\n",
    "    plt.yticks(range(len(indices)), [features[i] for i in indices])\n",
    "    plt.xlabel('Decrease in ROC-AUC')\n",
    "    plt.show()\n",
    "\n",
    "    fig.savefig('../presentation/{}.png'.format(title), bbox_inches='tight')"
   ]
  },
  {
   "cell_type": "code",
   "execution_count": 15,
   "id": "dbad15f5",
   "metadata": {},
   "outputs": [
    {
     "name": "stderr",
     "output_type": "stream",
     "text": [
      "/home/irbis/anaconda3/lib/python3.9/site-packages/joblib/externals/loky/process_executor.py:700: UserWarning: A worker stopped while some jobs were given to the executor. This can be caused by a too short worker timeout or by a memory leak.\n",
      "  warnings.warn(\n"
     ]
    },
    {
     "data": {
      "image/png": "[encoded data removed]",
      "text/plain": [
       "<Figure size 800x600 with 1 Axes>"
      ]
     },
     "metadata": {},
     "output_type": "display_data"
    }
   ],
   "source": [
    "plot_permutation_importances(rf_imblearn, 'Random Forest')"
   ]
  },
  {
   "cell_type": "markdown",
   "id": "c9d0cf82",
   "metadata": {},
   "source": [
    "Попробуем LogisticRegression в комбинации с OneHotEncoder-ом."
   ]
  },
  {
   "cell_type": "code",
   "execution_count": 16,
   "id": "76b4ad4a",
   "metadata": {
    "scrolled": false
   },
   "outputs": [
    {
     "name": "stderr",
     "output_type": "stream",
     "text": [
      "/home/irbis/anaconda3/lib/python3.9/site-packages/joblib/externals/loky/process_executor.py:700: UserWarning: A worker stopped while some jobs were given to the executor. This can be caused by a too short worker timeout or by a memory leak.\n",
      "  warnings.warn(\n"
     ]
    },
    {
     "name": "stdout",
     "output_type": "stream",
     "text": [
      "CPU times: user 2min 50s, sys: 16 s, total: 3min 6s\n",
      "Wall time: 4min 22s\n",
      "\n",
      "{'clf__C': 1, 'clf__class_weight': None, 'res': None}\n",
      "\n"
     ]
    },
    {
     "data": {
      "text/html": [
       "<div>\n",
       "<style scoped>\n",
       "    .dataframe tbody tr th:only-of-type {\n",
       "        vertical-align: middle;\n",
       "    }\n",
       "\n",
       "    .dataframe tbody tr th {\n",
       "        vertical-align: top;\n",
       "    }\n",
       "\n",
       "    .dataframe thead th {\n",
       "        text-align: right;\n",
       "    }\n",
       "</style>\n",
       "<table border=\"1\" class=\"dataframe\">\n",
       "  <thead>\n",
       "    <tr style=\"text-align: right;\">\n",
       "      <th></th>\n",
       "      <th>LR one-hot</th>\n",
       "    </tr>\n",
       "  </thead>\n",
       "  <tbody>\n",
       "    <tr>\n",
       "      <th>CV Train</th>\n",
       "      <td>0.654</td>\n",
       "    </tr>\n",
       "    <tr>\n",
       "      <th>CV Test</th>\n",
       "      <td>0.654</td>\n",
       "    </tr>\n",
       "    <tr>\n",
       "      <th>CV Overfit</th>\n",
       "      <td>0.001</td>\n",
       "    </tr>\n",
       "    <tr>\n",
       "      <th>Test</th>\n",
       "      <td>0.659</td>\n",
       "    </tr>\n",
       "    <tr>\n",
       "      <th>Fit Time</th>\n",
       "      <td>0.862</td>\n",
       "    </tr>\n",
       "    <tr>\n",
       "      <th>Score Time</th>\n",
       "      <td>0.142</td>\n",
       "    </tr>\n",
       "    <tr>\n",
       "      <th>Sum Time</th>\n",
       "      <td>1.004</td>\n",
       "    </tr>\n",
       "  </tbody>\n",
       "</table>\n",
       "</div>"
      ],
      "text/plain": [
       "            LR one-hot\n",
       "CV Train         0.654\n",
       "CV Test          0.654\n",
       "CV Overfit       0.001\n",
       "Test             0.659\n",
       "Fit Time         0.862\n",
       "Score Time       0.142\n",
       "Sum Time         1.004"
      ]
     },
     "metadata": {},
     "output_type": "display_data"
    }
   ],
   "source": [
    "encoder = make_column_transformer((OneHotEncoder(drop='first', \n",
    "                                                 handle_unknown='infrequent_if_exist', \n",
    "                                                 min_frequency=0.05, \n",
    "                                                 sparse_output=False), \n",
    "                                   cols_cat), \n",
    "                                  remainder='passthrough')\n",
    "\n",
    "import warnings\n",
    "warnings.filterwarnings('ignore', message='Found unknown categories')\n",
    "os.environ['PYTHONWARNINGS'] = 'ignore:Found unknown categories'\n",
    "\n",
    "pipe = ImbPipeline(steps=[\n",
    "    ('imp', Imputer()),\n",
    "    ('enc', encoder),\n",
    "    ('scl', StandardScaler()),\n",
    "    ('res', RandomUnderSampler(random_state=11)),\n",
    "    ('clf', LogisticRegression(max_iter=10000, random_state=11, n_jobs=-1))\n",
    "])\n",
    "\n",
    "param = [{'clf__C': [0.1, 1, 10], 'res': [None], 'clf__class_weight': [None, 'balanced']},\n",
    "         {'clf__C': [0.1, 1, 10], 'res': [RandomUnderSampler(random_state=11)], 'clf__class_weight': [None]}]\n",
    "\n",
    "lr_one_hot = GridSearchCV(pipe, param, cv=cv, scoring='roc_auc', return_train_score=True, n_jobs=-1)\n",
    "%time lr_one_hot.fit(X_train, y_train)\n",
    "print_stats(lr_one_hot, 'LR one-hot')"
   ]
  },
  {
   "cell_type": "markdown",
   "id": "24f20175",
   "metadata": {},
   "source": [
    "Небольшое значение CV Train говорит о том, что модель недообучилась. Попробуем закодировать категориальные признаки TargetEncoder-ом."
   ]
  },
  {
   "cell_type": "code",
   "execution_count": 11,
   "id": "06fdf34d",
   "metadata": {},
   "outputs": [],
   "source": [
    "encoder = make_column_transformer((TargetEncoder(), cols_cat), remainder='passthrough')"
   ]
  },
  {
   "cell_type": "code",
   "execution_count": 18,
   "id": "d37eaa3e",
   "metadata": {},
   "outputs": [
    {
     "name": "stderr",
     "output_type": "stream",
     "text": [
      "/home/irbis/anaconda3/lib/python3.9/site-packages/joblib/externals/loky/process_executor.py:700: UserWarning: A worker stopped while some jobs were given to the executor. This can be caused by a too short worker timeout or by a memory leak.\n",
      "  warnings.warn(\n"
     ]
    },
    {
     "name": "stdout",
     "output_type": "stream",
     "text": [
      "CPU times: user 3min 53s, sys: 22.4 s, total: 4min 15s\n",
      "Wall time: 6min 12s\n",
      "\n",
      "{'clf__C': 1e-05, 'clf__class_weight': 'balanced', 'res': None}\n",
      "\n"
     ]
    },
    {
     "data": {
      "text/html": [
       "<div>\n",
       "<style scoped>\n",
       "    .dataframe tbody tr th:only-of-type {\n",
       "        vertical-align: middle;\n",
       "    }\n",
       "\n",
       "    .dataframe tbody tr th {\n",
       "        vertical-align: top;\n",
       "    }\n",
       "\n",
       "    .dataframe thead th {\n",
       "        text-align: right;\n",
       "    }\n",
       "</style>\n",
       "<table border=\"1\" class=\"dataframe\">\n",
       "  <thead>\n",
       "    <tr style=\"text-align: right;\">\n",
       "      <th></th>\n",
       "      <th>LR target</th>\n",
       "    </tr>\n",
       "  </thead>\n",
       "  <tbody>\n",
       "    <tr>\n",
       "      <th>CV Train</th>\n",
       "      <td>0.671</td>\n",
       "    </tr>\n",
       "    <tr>\n",
       "      <th>CV Test</th>\n",
       "      <td>0.660</td>\n",
       "    </tr>\n",
       "    <tr>\n",
       "      <th>CV Overfit</th>\n",
       "      <td>0.017</td>\n",
       "    </tr>\n",
       "    <tr>\n",
       "      <th>Test</th>\n",
       "      <td>0.662</td>\n",
       "    </tr>\n",
       "    <tr>\n",
       "      <th>Fit Time</th>\n",
       "      <td>1.029</td>\n",
       "    </tr>\n",
       "    <tr>\n",
       "      <th>Score Time</th>\n",
       "      <td>0.180</td>\n",
       "    </tr>\n",
       "    <tr>\n",
       "      <th>Sum Time</th>\n",
       "      <td>1.208</td>\n",
       "    </tr>\n",
       "  </tbody>\n",
       "</table>\n",
       "</div>"
      ],
      "text/plain": [
       "            LR target\n",
       "CV Train        0.671\n",
       "CV Test         0.660\n",
       "CV Overfit      0.017\n",
       "Test            0.662\n",
       "Fit Time        1.029\n",
       "Score Time      0.180\n",
       "Sum Time        1.208"
      ]
     },
     "metadata": {},
     "output_type": "display_data"
    }
   ],
   "source": [
    "pipe = ImbPipeline(steps=[\n",
    "    ('imp', Imputer()),\n",
    "    ('enc', encoder),\n",
    "    ('scl', StandardScaler()),\n",
    "    ('res', RandomUnderSampler(random_state=11)),\n",
    "    ('clf', LogisticRegression(max_iter=10000, random_state=11, n_jobs=-1))\n",
    "])\n",
    "\n",
    "param = [{'clf__C': 10.0 ** np.arange(-6, -3), 'res': [None], 'clf__class_weight': [None, 'balanced']},\n",
    "         {'clf__C': 10.0 ** np.arange(-6, -3), 'res': [RandomUnderSampler(random_state=11)], 'clf__class_weight': [None]}]\n",
    "\n",
    "lr_target = GridSearchCV(pipe, param, cv=cv, scoring='roc_auc', return_train_score=True, n_jobs=-1)\n",
    "%time lr_target.fit(X_train, y_train)\n",
    "print_stats(lr_target, 'LR target')"
   ]
  },
  {
   "cell_type": "markdown",
   "id": "b7d6f65c",
   "metadata": {},
   "source": [
    "Попробуем сгенерировать полиномиальные признаки."
   ]
  },
  {
   "cell_type": "code",
   "execution_count": 15,
   "id": "7070099b",
   "metadata": {},
   "outputs": [
    {
     "ename": "TerminatedWorkerError",
     "evalue": "A worker process managed by the executor was unexpectedly terminated. This could be caused by a segmentation fault while calling the function or by an excessive memory usage causing the Operating System to kill the worker.\n\nThe exit codes of the workers are {SIGKILL(-9)}",
     "output_type": "error",
     "traceback": [
      "\u001b[0;31m---------------------------------------------------------------------------\u001b[0m",
      "\u001b[0;31mTerminatedWorkerError\u001b[0m                     Traceback (most recent call last)",
      "\u001b[0;32m<timed eval>\u001b[0m in \u001b[0;36m<module>\u001b[0;34m\u001b[0m\n",
      "\u001b[0;32m~/anaconda3/lib/python3.9/site-packages/sklearn/model_selection/_search.py\u001b[0m in \u001b[0;36mfit\u001b[0;34m(self, X, y, groups, **fit_params)\u001b[0m\n\u001b[1;32m    873\u001b[0m                 \u001b[0;32mreturn\u001b[0m \u001b[0mresults\u001b[0m\u001b[0;34m\u001b[0m\u001b[0;34m\u001b[0m\u001b[0m\n\u001b[1;32m    874\u001b[0m \u001b[0;34m\u001b[0m\u001b[0m\n\u001b[0;32m--> 875\u001b[0;31m             \u001b[0mself\u001b[0m\u001b[0;34m.\u001b[0m\u001b[0m_run_search\u001b[0m\u001b[0;34m(\u001b[0m\u001b[0mevaluate_candidates\u001b[0m\u001b[0;34m)\u001b[0m\u001b[0;34m\u001b[0m\u001b[0;34m\u001b[0m\u001b[0m\n\u001b[0m\u001b[1;32m    876\u001b[0m \u001b[0;34m\u001b[0m\u001b[0m\n\u001b[1;32m    877\u001b[0m             \u001b[0;31m# multimetric is determined here because in the case of a callable\u001b[0m\u001b[0;34m\u001b[0m\u001b[0;34m\u001b[0m\u001b[0m\n",
      "\u001b[0;32m~/anaconda3/lib/python3.9/site-packages/sklearn/model_selection/_search.py\u001b[0m in \u001b[0;36m_run_search\u001b[0;34m(self, evaluate_candidates)\u001b[0m\n\u001b[1;32m   1387\u001b[0m     \u001b[0;32mdef\u001b[0m \u001b[0m_run_search\u001b[0m\u001b[0;34m(\u001b[0m\u001b[0mself\u001b[0m\u001b[0;34m,\u001b[0m \u001b[0mevaluate_candidates\u001b[0m\u001b[0;34m)\u001b[0m\u001b[0;34m:\u001b[0m\u001b[0;34m\u001b[0m\u001b[0;34m\u001b[0m\u001b[0m\n\u001b[1;32m   1388\u001b[0m         \u001b[0;34m\"\"\"Search all candidates in param_grid\"\"\"\u001b[0m\u001b[0;34m\u001b[0m\u001b[0;34m\u001b[0m\u001b[0m\n\u001b[0;32m-> 1389\u001b[0;31m         \u001b[0mevaluate_candidates\u001b[0m\u001b[0;34m(\u001b[0m\u001b[0mParameterGrid\u001b[0m\u001b[0;34m(\u001b[0m\u001b[0mself\u001b[0m\u001b[0;34m.\u001b[0m\u001b[0mparam_grid\u001b[0m\u001b[0;34m)\u001b[0m\u001b[0;34m)\u001b[0m\u001b[0;34m\u001b[0m\u001b[0;34m\u001b[0m\u001b[0m\n\u001b[0m\u001b[1;32m   1390\u001b[0m \u001b[0;34m\u001b[0m\u001b[0m\n\u001b[1;32m   1391\u001b[0m \u001b[0;34m\u001b[0m\u001b[0m\n",
      "\u001b[0;32m~/anaconda3/lib/python3.9/site-packages/sklearn/model_selection/_search.py\u001b[0m in \u001b[0;36mevaluate_candidates\u001b[0;34m(candidate_params, cv, more_results)\u001b[0m\n\u001b[1;32m    820\u001b[0m                     )\n\u001b[1;32m    821\u001b[0m \u001b[0;34m\u001b[0m\u001b[0m\n\u001b[0;32m--> 822\u001b[0;31m                 out = parallel(\n\u001b[0m\u001b[1;32m    823\u001b[0m                     delayed(_fit_and_score)(\n\u001b[1;32m    824\u001b[0m                         \u001b[0mclone\u001b[0m\u001b[0;34m(\u001b[0m\u001b[0mbase_estimator\u001b[0m\u001b[0;34m)\u001b[0m\u001b[0;34m,\u001b[0m\u001b[0;34m\u001b[0m\u001b[0;34m\u001b[0m\u001b[0m\n",
      "\u001b[0;32m~/anaconda3/lib/python3.9/site-packages/joblib/parallel.py\u001b[0m in \u001b[0;36m__call__\u001b[0;34m(self, iterable)\u001b[0m\n\u001b[1;32m   1096\u001b[0m \u001b[0;34m\u001b[0m\u001b[0m\n\u001b[1;32m   1097\u001b[0m             \u001b[0;32mwith\u001b[0m \u001b[0mself\u001b[0m\u001b[0;34m.\u001b[0m\u001b[0m_backend\u001b[0m\u001b[0;34m.\u001b[0m\u001b[0mretrieval_context\u001b[0m\u001b[0;34m(\u001b[0m\u001b[0;34m)\u001b[0m\u001b[0;34m:\u001b[0m\u001b[0;34m\u001b[0m\u001b[0;34m\u001b[0m\u001b[0m\n\u001b[0;32m-> 1098\u001b[0;31m                 \u001b[0mself\u001b[0m\u001b[0;34m.\u001b[0m\u001b[0mretrieve\u001b[0m\u001b[0;34m(\u001b[0m\u001b[0;34m)\u001b[0m\u001b[0;34m\u001b[0m\u001b[0;34m\u001b[0m\u001b[0m\n\u001b[0m\u001b[1;32m   1099\u001b[0m             \u001b[0;31m# Make sure that we get a last message telling us we are done\u001b[0m\u001b[0;34m\u001b[0m\u001b[0;34m\u001b[0m\u001b[0m\n\u001b[1;32m   1100\u001b[0m             \u001b[0melapsed_time\u001b[0m \u001b[0;34m=\u001b[0m \u001b[0mtime\u001b[0m\u001b[0;34m.\u001b[0m\u001b[0mtime\u001b[0m\u001b[0;34m(\u001b[0m\u001b[0;34m)\u001b[0m \u001b[0;34m-\u001b[0m \u001b[0mself\u001b[0m\u001b[0;34m.\u001b[0m\u001b[0m_start_time\u001b[0m\u001b[0;34m\u001b[0m\u001b[0;34m\u001b[0m\u001b[0m\n",
      "\u001b[0;32m~/anaconda3/lib/python3.9/site-packages/joblib/parallel.py\u001b[0m in \u001b[0;36mretrieve\u001b[0;34m(self)\u001b[0m\n\u001b[1;32m    973\u001b[0m             \u001b[0;32mtry\u001b[0m\u001b[0;34m:\u001b[0m\u001b[0;34m\u001b[0m\u001b[0;34m\u001b[0m\u001b[0m\n\u001b[1;32m    974\u001b[0m                 \u001b[0;32mif\u001b[0m \u001b[0mgetattr\u001b[0m\u001b[0;34m(\u001b[0m\u001b[0mself\u001b[0m\u001b[0;34m.\u001b[0m\u001b[0m_backend\u001b[0m\u001b[0;34m,\u001b[0m \u001b[0;34m'supports_timeout'\u001b[0m\u001b[0;34m,\u001b[0m \u001b[0;32mFalse\u001b[0m\u001b[0;34m)\u001b[0m\u001b[0;34m:\u001b[0m\u001b[0;34m\u001b[0m\u001b[0;34m\u001b[0m\u001b[0m\n\u001b[0;32m--> 975\u001b[0;31m                     \u001b[0mself\u001b[0m\u001b[0;34m.\u001b[0m\u001b[0m_output\u001b[0m\u001b[0;34m.\u001b[0m\u001b[0mextend\u001b[0m\u001b[0;34m(\u001b[0m\u001b[0mjob\u001b[0m\u001b[0;34m.\u001b[0m\u001b[0mget\u001b[0m\u001b[0;34m(\u001b[0m\u001b[0mtimeout\u001b[0m\u001b[0;34m=\u001b[0m\u001b[0mself\u001b[0m\u001b[0;34m.\u001b[0m\u001b[0mtimeout\u001b[0m\u001b[0;34m)\u001b[0m\u001b[0;34m)\u001b[0m\u001b[0;34m\u001b[0m\u001b[0;34m\u001b[0m\u001b[0m\n\u001b[0m\u001b[1;32m    976\u001b[0m                 \u001b[0;32melse\u001b[0m\u001b[0;34m:\u001b[0m\u001b[0;34m\u001b[0m\u001b[0;34m\u001b[0m\u001b[0m\n\u001b[1;32m    977\u001b[0m                     \u001b[0mself\u001b[0m\u001b[0;34m.\u001b[0m\u001b[0m_output\u001b[0m\u001b[0;34m.\u001b[0m\u001b[0mextend\u001b[0m\u001b[0;34m(\u001b[0m\u001b[0mjob\u001b[0m\u001b[0;34m.\u001b[0m\u001b[0mget\u001b[0m\u001b[0;34m(\u001b[0m\u001b[0;34m)\u001b[0m\u001b[0;34m)\u001b[0m\u001b[0;34m\u001b[0m\u001b[0;34m\u001b[0m\u001b[0m\n",
      "\u001b[0;32m~/anaconda3/lib/python3.9/site-packages/joblib/_parallel_backends.py\u001b[0m in \u001b[0;36mwrap_future_result\u001b[0;34m(future, timeout)\u001b[0m\n\u001b[1;32m    565\u001b[0m         AsyncResults.get from multiprocessing.\"\"\"\n\u001b[1;32m    566\u001b[0m         \u001b[0;32mtry\u001b[0m\u001b[0;34m:\u001b[0m\u001b[0;34m\u001b[0m\u001b[0;34m\u001b[0m\u001b[0m\n\u001b[0;32m--> 567\u001b[0;31m             \u001b[0;32mreturn\u001b[0m \u001b[0mfuture\u001b[0m\u001b[0;34m.\u001b[0m\u001b[0mresult\u001b[0m\u001b[0;34m(\u001b[0m\u001b[0mtimeout\u001b[0m\u001b[0;34m=\u001b[0m\u001b[0mtimeout\u001b[0m\u001b[0;34m)\u001b[0m\u001b[0;34m\u001b[0m\u001b[0;34m\u001b[0m\u001b[0m\n\u001b[0m\u001b[1;32m    568\u001b[0m         \u001b[0;32mexcept\u001b[0m \u001b[0mCfTimeoutError\u001b[0m \u001b[0;32mas\u001b[0m \u001b[0me\u001b[0m\u001b[0;34m:\u001b[0m\u001b[0;34m\u001b[0m\u001b[0;34m\u001b[0m\u001b[0m\n\u001b[1;32m    569\u001b[0m             \u001b[0;32mraise\u001b[0m \u001b[0mTimeoutError\u001b[0m \u001b[0;32mfrom\u001b[0m \u001b[0me\u001b[0m\u001b[0;34m\u001b[0m\u001b[0;34m\u001b[0m\u001b[0m\n",
      "\u001b[0;32m~/anaconda3/lib/python3.9/concurrent/futures/_base.py\u001b[0m in \u001b[0;36mresult\u001b[0;34m(self, timeout)\u001b[0m\n\u001b[1;32m    444\u001b[0m                     \u001b[0;32mraise\u001b[0m \u001b[0mCancelledError\u001b[0m\u001b[0;34m(\u001b[0m\u001b[0;34m)\u001b[0m\u001b[0;34m\u001b[0m\u001b[0;34m\u001b[0m\u001b[0m\n\u001b[1;32m    445\u001b[0m                 \u001b[0;32melif\u001b[0m \u001b[0mself\u001b[0m\u001b[0;34m.\u001b[0m\u001b[0m_state\u001b[0m \u001b[0;34m==\u001b[0m \u001b[0mFINISHED\u001b[0m\u001b[0;34m:\u001b[0m\u001b[0;34m\u001b[0m\u001b[0;34m\u001b[0m\u001b[0m\n\u001b[0;32m--> 446\u001b[0;31m                     \u001b[0;32mreturn\u001b[0m \u001b[0mself\u001b[0m\u001b[0;34m.\u001b[0m\u001b[0m__get_result\u001b[0m\u001b[0;34m(\u001b[0m\u001b[0;34m)\u001b[0m\u001b[0;34m\u001b[0m\u001b[0;34m\u001b[0m\u001b[0m\n\u001b[0m\u001b[1;32m    447\u001b[0m                 \u001b[0;32melse\u001b[0m\u001b[0;34m:\u001b[0m\u001b[0;34m\u001b[0m\u001b[0;34m\u001b[0m\u001b[0m\n\u001b[1;32m    448\u001b[0m                     \u001b[0;32mraise\u001b[0m \u001b[0mTimeoutError\u001b[0m\u001b[0;34m(\u001b[0m\u001b[0;34m)\u001b[0m\u001b[0;34m\u001b[0m\u001b[0;34m\u001b[0m\u001b[0m\n",
      "\u001b[0;32m~/anaconda3/lib/python3.9/concurrent/futures/_base.py\u001b[0m in \u001b[0;36m__get_result\u001b[0;34m(self)\u001b[0m\n\u001b[1;32m    389\u001b[0m         \u001b[0;32mif\u001b[0m \u001b[0mself\u001b[0m\u001b[0;34m.\u001b[0m\u001b[0m_exception\u001b[0m\u001b[0;34m:\u001b[0m\u001b[0;34m\u001b[0m\u001b[0;34m\u001b[0m\u001b[0m\n\u001b[1;32m    390\u001b[0m             \u001b[0;32mtry\u001b[0m\u001b[0;34m:\u001b[0m\u001b[0;34m\u001b[0m\u001b[0;34m\u001b[0m\u001b[0m\n\u001b[0;32m--> 391\u001b[0;31m                 \u001b[0;32mraise\u001b[0m \u001b[0mself\u001b[0m\u001b[0;34m.\u001b[0m\u001b[0m_exception\u001b[0m\u001b[0;34m\u001b[0m\u001b[0;34m\u001b[0m\u001b[0m\n\u001b[0m\u001b[1;32m    392\u001b[0m             \u001b[0;32mfinally\u001b[0m\u001b[0;34m:\u001b[0m\u001b[0;34m\u001b[0m\u001b[0;34m\u001b[0m\u001b[0m\n\u001b[1;32m    393\u001b[0m                 \u001b[0;31m# Break a reference cycle with the exception in self._exception\u001b[0m\u001b[0;34m\u001b[0m\u001b[0;34m\u001b[0m\u001b[0m\n",
      "\u001b[0;31mTerminatedWorkerError\u001b[0m: A worker process managed by the executor was unexpectedly terminated. This could be caused by a segmentation fault while calling the function or by an excessive memory usage causing the Operating System to kill the worker.\n\nThe exit codes of the workers are {SIGKILL(-9)}"
     ]
    },
    {
     "name": "stdout",
     "output_type": "stream",
     "text": [
      "\n"
     ]
    },
    {
     "ename": "AttributeError",
     "evalue": "'GridSearchCV' object has no attribute 'best_params_'",
     "output_type": "error",
     "traceback": [
      "\u001b[0;31m---------------------------------------------------------------------------\u001b[0m",
      "\u001b[0;31mAttributeError\u001b[0m                            Traceback (most recent call last)",
      "\u001b[0;32m/tmp/ipykernel_12919/2123043179.py\u001b[0m in \u001b[0;36m<module>\u001b[0;34m\u001b[0m\n\u001b[1;32m     13\u001b[0m \u001b[0mlr_poly_nodup\u001b[0m \u001b[0;34m=\u001b[0m \u001b[0mGridSearchCV\u001b[0m\u001b[0;34m(\u001b[0m\u001b[0mpipe\u001b[0m\u001b[0;34m,\u001b[0m \u001b[0mparam\u001b[0m\u001b[0;34m,\u001b[0m \u001b[0mcv\u001b[0m\u001b[0;34m=\u001b[0m\u001b[0mcv\u001b[0m\u001b[0;34m,\u001b[0m \u001b[0mscoring\u001b[0m\u001b[0;34m=\u001b[0m\u001b[0;34m'roc_auc'\u001b[0m\u001b[0;34m,\u001b[0m \u001b[0mreturn_train_score\u001b[0m\u001b[0;34m=\u001b[0m\u001b[0;32mTrue\u001b[0m\u001b[0;34m,\u001b[0m \u001b[0mn_jobs\u001b[0m\u001b[0;34m=\u001b[0m\u001b[0;34m-\u001b[0m\u001b[0;36m1\u001b[0m\u001b[0;34m)\u001b[0m\u001b[0;34m\u001b[0m\u001b[0;34m\u001b[0m\u001b[0m\n\u001b[1;32m     14\u001b[0m \u001b[0mget_ipython\u001b[0m\u001b[0;34m(\u001b[0m\u001b[0;34m)\u001b[0m\u001b[0;34m.\u001b[0m\u001b[0mrun_line_magic\u001b[0m\u001b[0;34m(\u001b[0m\u001b[0;34m'time'\u001b[0m\u001b[0;34m,\u001b[0m \u001b[0;34m'lr_poly_nodup.fit(X_train, y_train)'\u001b[0m\u001b[0;34m)\u001b[0m\u001b[0;34m\u001b[0m\u001b[0;34m\u001b[0m\u001b[0m\n\u001b[0;32m---> 15\u001b[0;31m \u001b[0mprint_stats\u001b[0m\u001b[0;34m(\u001b[0m\u001b[0mlr_poly_nodup\u001b[0m\u001b[0;34m,\u001b[0m \u001b[0;34m'LR poly nodup'\u001b[0m\u001b[0;34m)\u001b[0m\u001b[0;34m\u001b[0m\u001b[0;34m\u001b[0m\u001b[0m\n\u001b[0m",
      "\u001b[0;32m/tmp/ipykernel_12919/278947984.py\u001b[0m in \u001b[0;36mprint_stats\u001b[0;34m(model, model_name)\u001b[0m\n\u001b[1;32m      7\u001b[0m \u001b[0;32mdef\u001b[0m \u001b[0mprint_stats\u001b[0m\u001b[0;34m(\u001b[0m\u001b[0mmodel\u001b[0m\u001b[0;34m,\u001b[0m \u001b[0mmodel_name\u001b[0m\u001b[0;34m)\u001b[0m\u001b[0;34m:\u001b[0m\u001b[0;34m\u001b[0m\u001b[0;34m\u001b[0m\u001b[0m\n\u001b[1;32m      8\u001b[0m     \u001b[0mprint\u001b[0m\u001b[0;34m(\u001b[0m\u001b[0;34m''\u001b[0m\u001b[0;34m)\u001b[0m\u001b[0;34m\u001b[0m\u001b[0;34m\u001b[0m\u001b[0m\n\u001b[0;32m----> 9\u001b[0;31m     \u001b[0mpprint\u001b[0m\u001b[0;34m.\u001b[0m\u001b[0mpprint\u001b[0m\u001b[0;34m(\u001b[0m\u001b[0mmodel\u001b[0m\u001b[0;34m.\u001b[0m\u001b[0mbest_params_\u001b[0m\u001b[0;34m)\u001b[0m\u001b[0;34m\u001b[0m\u001b[0;34m\u001b[0m\u001b[0m\n\u001b[0m\u001b[1;32m     10\u001b[0m     \u001b[0mprint\u001b[0m\u001b[0;34m(\u001b[0m\u001b[0;34m''\u001b[0m\u001b[0;34m)\u001b[0m\u001b[0;34m\u001b[0m\u001b[0;34m\u001b[0m\u001b[0m\n\u001b[1;32m     11\u001b[0m \u001b[0;34m\u001b[0m\u001b[0m\n",
      "\u001b[0;31mAttributeError\u001b[0m: 'GridSearchCV' object has no attribute 'best_params_'"
     ]
    }
   ],
   "source": [
    "from sklearn.preprocessing import PolynomialFeatures\n",
    "\n",
    "pipe = Pipeline(steps=[\n",
    "    ('imp', Imputer()),\n",
    "    ('enc', encoder),\n",
    "    ('feat', PolynomialFeatures(degree=2, include_bias=False)),\n",
    "    ('scl', StandardScaler()),\n",
    "    ('clf', NoDupLearner(LogisticRegression)(max_iter=10000, random_state=11, n_jobs=-1))\n",
    "])\n",
    "\n",
    "param = [{'clf__C': [0.1, 1, 10]}]\n",
    "\n",
    "lr_poly_nodup = GridSearchCV(pipe, param, cv=cv, scoring='roc_auc', return_train_score=True, n_jobs=-1)\n",
    "%time lr_poly_nodup.fit(X_train, y_train)\n",
    "print_stats(lr_poly_nodup, 'LR poly nodup')"
   ]
  },
  {
   "cell_type": "code",
   "execution_count": 12,
   "id": "3b955036",
   "metadata": {},
   "outputs": [
    {
     "name": "stdout",
     "output_type": "stream",
     "text": [
      "CPU times: user 1min, sys: 5.43 s, total: 1min 5s\n",
      "Wall time: 2min 50s\n",
      "\n",
      "{'clf__penalty': None}\n",
      "\n"
     ]
    },
    {
     "data": {
      "text/html": [
       "<div>\n",
       "<style scoped>\n",
       "    .dataframe tbody tr th:only-of-type {\n",
       "        vertical-align: middle;\n",
       "    }\n",
       "\n",
       "    .dataframe tbody tr th {\n",
       "        vertical-align: top;\n",
       "    }\n",
       "\n",
       "    .dataframe thead th {\n",
       "        text-align: right;\n",
       "    }\n",
       "</style>\n",
       "<table border=\"1\" class=\"dataframe\">\n",
       "  <thead>\n",
       "    <tr style=\"text-align: right;\">\n",
       "      <th></th>\n",
       "      <th>LR poly</th>\n",
       "    </tr>\n",
       "  </thead>\n",
       "  <tbody>\n",
       "    <tr>\n",
       "      <th>CV Train</th>\n",
       "      <td>0.683</td>\n",
       "    </tr>\n",
       "    <tr>\n",
       "      <th>CV Test</th>\n",
       "      <td>0.670</td>\n",
       "    </tr>\n",
       "    <tr>\n",
       "      <th>CV Overfit</th>\n",
       "      <td>0.019</td>\n",
       "    </tr>\n",
       "    <tr>\n",
       "      <th>Test</th>\n",
       "      <td>0.671</td>\n",
       "    </tr>\n",
       "    <tr>\n",
       "      <th>Fit Time</th>\n",
       "      <td>1.296</td>\n",
       "    </tr>\n",
       "    <tr>\n",
       "      <th>Score Time</th>\n",
       "      <td>0.179</td>\n",
       "    </tr>\n",
       "    <tr>\n",
       "      <th>Sum Time</th>\n",
       "      <td>1.474</td>\n",
       "    </tr>\n",
       "  </tbody>\n",
       "</table>\n",
       "</div>"
      ],
      "text/plain": [
       "            LR poly\n",
       "CV Train      0.683\n",
       "CV Test       0.670\n",
       "CV Overfit    0.019\n",
       "Test          0.671\n",
       "Fit Time      1.296\n",
       "Score Time    0.179\n",
       "Sum Time      1.474"
      ]
     },
     "metadata": {},
     "output_type": "display_data"
    }
   ],
   "source": [
    "from sklearn.preprocessing import PolynomialFeatures\n",
    "\n",
    "pipe = ImbPipeline(steps=[\n",
    "    ('imp', Imputer()),\n",
    "    ('enc', encoder),\n",
    "    ('feat', PolynomialFeatures(degree=2, include_bias=False)),\n",
    "    ('scl', StandardScaler()),\n",
    "    ('res', RandomUnderSampler(random_state=11)),\n",
    "    ('clf', LogisticRegression(max_iter=10000, random_state=11, n_jobs=-1))\n",
    "])\n",
    "\n",
    "param = [{'clf__penalty': [None, 'l2']}]\n",
    "\n",
    "lr_poly = GridSearchCV(pipe, param, cv=cv, scoring='roc_auc', return_train_score=True, n_jobs=-1)\n",
    "%time lr_poly.fit(X_train, y_train)\n",
    "print_stats(lr_poly, 'LR poly')"
   ]
  },
  {
   "cell_type": "code",
   "execution_count": 20,
   "id": "6b6e0c16",
   "metadata": {},
   "outputs": [
    {
     "data": {
      "image/png": "[encoded data removed]",
      "text/plain": [
       "<Figure size 800x600 with 1 Axes>"
      ]
     },
     "metadata": {},
     "output_type": "display_data"
    }
   ],
   "source": [
    "plot_permutation_importances(lr_poly, 'Logistic Regression')"
   ]
  },
  {
   "cell_type": "markdown",
   "id": "a070d9f4",
   "metadata": {},
   "source": [
    "Попробуем использовать Catboost."
   ]
  },
  {
   "cell_type": "code",
   "execution_count": 10,
   "id": "3dab74e4",
   "metadata": {},
   "outputs": [
    {
     "ename": "KeyboardInterrupt",
     "evalue": "",
     "output_type": "error",
     "traceback": [
      "\u001b[0;31m---------------------------------------------------------------------------\u001b[0m",
      "\u001b[0;31mKeyboardInterrupt\u001b[0m                         Traceback (most recent call last)",
      "\u001b[0;32m<timed eval>\u001b[0m in \u001b[0;36m<module>\u001b[0;34m\u001b[0m\n",
      "\u001b[0;32m~/anaconda3/lib/python3.9/site-packages/sklearn/model_selection/_search.py\u001b[0m in \u001b[0;36mfit\u001b[0;34m(self, X, y, groups, **fit_params)\u001b[0m\n\u001b[1;32m    873\u001b[0m                 \u001b[0;32mreturn\u001b[0m \u001b[0mresults\u001b[0m\u001b[0;34m\u001b[0m\u001b[0;34m\u001b[0m\u001b[0m\n\u001b[1;32m    874\u001b[0m \u001b[0;34m\u001b[0m\u001b[0m\n\u001b[0;32m--> 875\u001b[0;31m             \u001b[0mself\u001b[0m\u001b[0;34m.\u001b[0m\u001b[0m_run_search\u001b[0m\u001b[0;34m(\u001b[0m\u001b[0mevaluate_candidates\u001b[0m\u001b[0;34m)\u001b[0m\u001b[0;34m\u001b[0m\u001b[0;34m\u001b[0m\u001b[0m\n\u001b[0m\u001b[1;32m    876\u001b[0m \u001b[0;34m\u001b[0m\u001b[0m\n\u001b[1;32m    877\u001b[0m             \u001b[0;31m# multimetric is determined here because in the case of a callable\u001b[0m\u001b[0;34m\u001b[0m\u001b[0;34m\u001b[0m\u001b[0m\n",
      "\u001b[0;32m~/anaconda3/lib/python3.9/site-packages/sklearn/model_selection/_search.py\u001b[0m in \u001b[0;36m_run_search\u001b[0;34m(self, evaluate_candidates)\u001b[0m\n\u001b[1;32m   1387\u001b[0m     \u001b[0;32mdef\u001b[0m \u001b[0m_run_search\u001b[0m\u001b[0;34m(\u001b[0m\u001b[0mself\u001b[0m\u001b[0;34m,\u001b[0m \u001b[0mevaluate_candidates\u001b[0m\u001b[0;34m)\u001b[0m\u001b[0;34m:\u001b[0m\u001b[0;34m\u001b[0m\u001b[0;34m\u001b[0m\u001b[0m\n\u001b[1;32m   1388\u001b[0m         \u001b[0;34m\"\"\"Search all candidates in param_grid\"\"\"\u001b[0m\u001b[0;34m\u001b[0m\u001b[0;34m\u001b[0m\u001b[0m\n\u001b[0;32m-> 1389\u001b[0;31m         \u001b[0mevaluate_candidates\u001b[0m\u001b[0;34m(\u001b[0m\u001b[0mParameterGrid\u001b[0m\u001b[0;34m(\u001b[0m\u001b[0mself\u001b[0m\u001b[0;34m.\u001b[0m\u001b[0mparam_grid\u001b[0m\u001b[0;34m)\u001b[0m\u001b[0;34m)\u001b[0m\u001b[0;34m\u001b[0m\u001b[0;34m\u001b[0m\u001b[0m\n\u001b[0m\u001b[1;32m   1390\u001b[0m \u001b[0;34m\u001b[0m\u001b[0m\n\u001b[1;32m   1391\u001b[0m \u001b[0;34m\u001b[0m\u001b[0m\n",
      "\u001b[0;32m~/anaconda3/lib/python3.9/site-packages/sklearn/model_selection/_search.py\u001b[0m in \u001b[0;36mevaluate_candidates\u001b[0;34m(candidate_params, cv, more_results)\u001b[0m\n\u001b[1;32m    820\u001b[0m                     )\n\u001b[1;32m    821\u001b[0m \u001b[0;34m\u001b[0m\u001b[0m\n\u001b[0;32m--> 822\u001b[0;31m                 out = parallel(\n\u001b[0m\u001b[1;32m    823\u001b[0m                     delayed(_fit_and_score)(\n\u001b[1;32m    824\u001b[0m                         \u001b[0mclone\u001b[0m\u001b[0;34m(\u001b[0m\u001b[0mbase_estimator\u001b[0m\u001b[0;34m)\u001b[0m\u001b[0;34m,\u001b[0m\u001b[0;34m\u001b[0m\u001b[0;34m\u001b[0m\u001b[0m\n",
      "\u001b[0;32m~/anaconda3/lib/python3.9/site-packages/joblib/parallel.py\u001b[0m in \u001b[0;36m__call__\u001b[0;34m(self, iterable)\u001b[0m\n\u001b[1;32m   1096\u001b[0m \u001b[0;34m\u001b[0m\u001b[0m\n\u001b[1;32m   1097\u001b[0m             \u001b[0;32mwith\u001b[0m \u001b[0mself\u001b[0m\u001b[0;34m.\u001b[0m\u001b[0m_backend\u001b[0m\u001b[0;34m.\u001b[0m\u001b[0mretrieval_context\u001b[0m\u001b[0;34m(\u001b[0m\u001b[0;34m)\u001b[0m\u001b[0;34m:\u001b[0m\u001b[0;34m\u001b[0m\u001b[0;34m\u001b[0m\u001b[0m\n\u001b[0;32m-> 1098\u001b[0;31m                 \u001b[0mself\u001b[0m\u001b[0;34m.\u001b[0m\u001b[0mretrieve\u001b[0m\u001b[0;34m(\u001b[0m\u001b[0;34m)\u001b[0m\u001b[0;34m\u001b[0m\u001b[0;34m\u001b[0m\u001b[0m\n\u001b[0m\u001b[1;32m   1099\u001b[0m             \u001b[0;31m# Make sure that we get a last message telling us we are done\u001b[0m\u001b[0;34m\u001b[0m\u001b[0;34m\u001b[0m\u001b[0m\n\u001b[1;32m   1100\u001b[0m             \u001b[0melapsed_time\u001b[0m \u001b[0;34m=\u001b[0m \u001b[0mtime\u001b[0m\u001b[0;34m.\u001b[0m\u001b[0mtime\u001b[0m\u001b[0;34m(\u001b[0m\u001b[0;34m)\u001b[0m \u001b[0;34m-\u001b[0m \u001b[0mself\u001b[0m\u001b[0;34m.\u001b[0m\u001b[0m_start_time\u001b[0m\u001b[0;34m\u001b[0m\u001b[0;34m\u001b[0m\u001b[0m\n",
      "\u001b[0;32m~/anaconda3/lib/python3.9/site-packages/joblib/parallel.py\u001b[0m in \u001b[0;36mretrieve\u001b[0;34m(self)\u001b[0m\n\u001b[1;32m    973\u001b[0m             \u001b[0;32mtry\u001b[0m\u001b[0;34m:\u001b[0m\u001b[0;34m\u001b[0m\u001b[0;34m\u001b[0m\u001b[0m\n\u001b[1;32m    974\u001b[0m                 \u001b[0;32mif\u001b[0m \u001b[0mgetattr\u001b[0m\u001b[0;34m(\u001b[0m\u001b[0mself\u001b[0m\u001b[0;34m.\u001b[0m\u001b[0m_backend\u001b[0m\u001b[0;34m,\u001b[0m \u001b[0;34m'supports_timeout'\u001b[0m\u001b[0;34m,\u001b[0m \u001b[0;32mFalse\u001b[0m\u001b[0;34m)\u001b[0m\u001b[0;34m:\u001b[0m\u001b[0;34m\u001b[0m\u001b[0;34m\u001b[0m\u001b[0m\n\u001b[0;32m--> 975\u001b[0;31m                     \u001b[0mself\u001b[0m\u001b[0;34m.\u001b[0m\u001b[0m_output\u001b[0m\u001b[0;34m.\u001b[0m\u001b[0mextend\u001b[0m\u001b[0;34m(\u001b[0m\u001b[0mjob\u001b[0m\u001b[0;34m.\u001b[0m\u001b[0mget\u001b[0m\u001b[0;34m(\u001b[0m\u001b[0mtimeout\u001b[0m\u001b[0;34m=\u001b[0m\u001b[0mself\u001b[0m\u001b[0;34m.\u001b[0m\u001b[0mtimeout\u001b[0m\u001b[0;34m)\u001b[0m\u001b[0;34m)\u001b[0m\u001b[0;34m\u001b[0m\u001b[0;34m\u001b[0m\u001b[0m\n\u001b[0m\u001b[1;32m    976\u001b[0m                 \u001b[0;32melse\u001b[0m\u001b[0;34m:\u001b[0m\u001b[0;34m\u001b[0m\u001b[0;34m\u001b[0m\u001b[0m\n\u001b[1;32m    977\u001b[0m                     \u001b[0mself\u001b[0m\u001b[0;34m.\u001b[0m\u001b[0m_output\u001b[0m\u001b[0;34m.\u001b[0m\u001b[0mextend\u001b[0m\u001b[0;34m(\u001b[0m\u001b[0mjob\u001b[0m\u001b[0;34m.\u001b[0m\u001b[0mget\u001b[0m\u001b[0;34m(\u001b[0m\u001b[0;34m)\u001b[0m\u001b[0;34m)\u001b[0m\u001b[0;34m\u001b[0m\u001b[0;34m\u001b[0m\u001b[0m\n",
      "\u001b[0;32m~/anaconda3/lib/python3.9/site-packages/joblib/_parallel_backends.py\u001b[0m in \u001b[0;36mwrap_future_result\u001b[0;34m(future, timeout)\u001b[0m\n\u001b[1;32m    565\u001b[0m         AsyncResults.get from multiprocessing.\"\"\"\n\u001b[1;32m    566\u001b[0m         \u001b[0;32mtry\u001b[0m\u001b[0;34m:\u001b[0m\u001b[0;34m\u001b[0m\u001b[0;34m\u001b[0m\u001b[0m\n\u001b[0;32m--> 567\u001b[0;31m             \u001b[0;32mreturn\u001b[0m \u001b[0mfuture\u001b[0m\u001b[0;34m.\u001b[0m\u001b[0mresult\u001b[0m\u001b[0;34m(\u001b[0m\u001b[0mtimeout\u001b[0m\u001b[0;34m=\u001b[0m\u001b[0mtimeout\u001b[0m\u001b[0;34m)\u001b[0m\u001b[0;34m\u001b[0m\u001b[0;34m\u001b[0m\u001b[0m\n\u001b[0m\u001b[1;32m    568\u001b[0m         \u001b[0;32mexcept\u001b[0m \u001b[0mCfTimeoutError\u001b[0m \u001b[0;32mas\u001b[0m \u001b[0me\u001b[0m\u001b[0;34m:\u001b[0m\u001b[0;34m\u001b[0m\u001b[0;34m\u001b[0m\u001b[0m\n\u001b[1;32m    569\u001b[0m             \u001b[0;32mraise\u001b[0m \u001b[0mTimeoutError\u001b[0m \u001b[0;32mfrom\u001b[0m \u001b[0me\u001b[0m\u001b[0;34m\u001b[0m\u001b[0;34m\u001b[0m\u001b[0m\n",
      "\u001b[0;32m~/anaconda3/lib/python3.9/concurrent/futures/_base.py\u001b[0m in \u001b[0;36mresult\u001b[0;34m(self, timeout)\u001b[0m\n\u001b[1;32m    439\u001b[0m                     \u001b[0;32mreturn\u001b[0m \u001b[0mself\u001b[0m\u001b[0;34m.\u001b[0m\u001b[0m__get_result\u001b[0m\u001b[0;34m(\u001b[0m\u001b[0;34m)\u001b[0m\u001b[0;34m\u001b[0m\u001b[0;34m\u001b[0m\u001b[0m\n\u001b[1;32m    440\u001b[0m \u001b[0;34m\u001b[0m\u001b[0m\n\u001b[0;32m--> 441\u001b[0;31m                 \u001b[0mself\u001b[0m\u001b[0;34m.\u001b[0m\u001b[0m_condition\u001b[0m\u001b[0;34m.\u001b[0m\u001b[0mwait\u001b[0m\u001b[0;34m(\u001b[0m\u001b[0mtimeout\u001b[0m\u001b[0;34m)\u001b[0m\u001b[0;34m\u001b[0m\u001b[0;34m\u001b[0m\u001b[0m\n\u001b[0m\u001b[1;32m    442\u001b[0m \u001b[0;34m\u001b[0m\u001b[0m\n\u001b[1;32m    443\u001b[0m                 \u001b[0;32mif\u001b[0m \u001b[0mself\u001b[0m\u001b[0;34m.\u001b[0m\u001b[0m_state\u001b[0m \u001b[0;32min\u001b[0m \u001b[0;34m[\u001b[0m\u001b[0mCANCELLED\u001b[0m\u001b[0;34m,\u001b[0m \u001b[0mCANCELLED_AND_NOTIFIED\u001b[0m\u001b[0;34m]\u001b[0m\u001b[0;34m:\u001b[0m\u001b[0;34m\u001b[0m\u001b[0;34m\u001b[0m\u001b[0m\n",
      "\u001b[0;32m~/anaconda3/lib/python3.9/threading.py\u001b[0m in \u001b[0;36mwait\u001b[0;34m(self, timeout)\u001b[0m\n\u001b[1;32m    310\u001b[0m         \u001b[0;32mtry\u001b[0m\u001b[0;34m:\u001b[0m    \u001b[0;31m# restore state no matter what (e.g., KeyboardInterrupt)\u001b[0m\u001b[0;34m\u001b[0m\u001b[0;34m\u001b[0m\u001b[0m\n\u001b[1;32m    311\u001b[0m             \u001b[0;32mif\u001b[0m \u001b[0mtimeout\u001b[0m \u001b[0;32mis\u001b[0m \u001b[0;32mNone\u001b[0m\u001b[0;34m:\u001b[0m\u001b[0;34m\u001b[0m\u001b[0;34m\u001b[0m\u001b[0m\n\u001b[0;32m--> 312\u001b[0;31m                 \u001b[0mwaiter\u001b[0m\u001b[0;34m.\u001b[0m\u001b[0macquire\u001b[0m\u001b[0;34m(\u001b[0m\u001b[0;34m)\u001b[0m\u001b[0;34m\u001b[0m\u001b[0;34m\u001b[0m\u001b[0m\n\u001b[0m\u001b[1;32m    313\u001b[0m                 \u001b[0mgotit\u001b[0m \u001b[0;34m=\u001b[0m \u001b[0;32mTrue\u001b[0m\u001b[0;34m\u001b[0m\u001b[0;34m\u001b[0m\u001b[0m\n\u001b[1;32m    314\u001b[0m             \u001b[0;32melse\u001b[0m\u001b[0;34m:\u001b[0m\u001b[0;34m\u001b[0m\u001b[0;34m\u001b[0m\u001b[0m\n",
      "\u001b[0;31mKeyboardInterrupt\u001b[0m: "
     ]
    },
    {
     "name": "stdout",
     "output_type": "stream",
     "text": [
      "\n"
     ]
    },
    {
     "ename": "AttributeError",
     "evalue": "'GridSearchCV' object has no attribute 'best_params_'",
     "output_type": "error",
     "traceback": [
      "\u001b[0;31m---------------------------------------------------------------------------\u001b[0m",
      "\u001b[0;31mAttributeError\u001b[0m                            Traceback (most recent call last)",
      "\u001b[0;32m/tmp/ipykernel_12919/1588808823.py\u001b[0m in \u001b[0;36m<module>\u001b[0;34m\u001b[0m\n\u001b[1;32m      8\u001b[0m \u001b[0mcb\u001b[0m \u001b[0;34m=\u001b[0m \u001b[0mGridSearchCV\u001b[0m\u001b[0;34m(\u001b[0m\u001b[0mpipe\u001b[0m\u001b[0;34m,\u001b[0m \u001b[0mparam\u001b[0m\u001b[0;34m,\u001b[0m \u001b[0mcv\u001b[0m\u001b[0;34m=\u001b[0m\u001b[0mcv\u001b[0m\u001b[0;34m,\u001b[0m \u001b[0mscoring\u001b[0m\u001b[0;34m=\u001b[0m\u001b[0;34m'roc_auc'\u001b[0m\u001b[0;34m,\u001b[0m \u001b[0mreturn_train_score\u001b[0m\u001b[0;34m=\u001b[0m\u001b[0;32mTrue\u001b[0m\u001b[0;34m,\u001b[0m \u001b[0mn_jobs\u001b[0m\u001b[0;34m=\u001b[0m\u001b[0;34m-\u001b[0m\u001b[0;36m1\u001b[0m\u001b[0;34m)\u001b[0m\u001b[0;34m\u001b[0m\u001b[0;34m\u001b[0m\u001b[0m\n\u001b[1;32m      9\u001b[0m \u001b[0mget_ipython\u001b[0m\u001b[0;34m(\u001b[0m\u001b[0;34m)\u001b[0m\u001b[0;34m.\u001b[0m\u001b[0mrun_line_magic\u001b[0m\u001b[0;34m(\u001b[0m\u001b[0;34m'time'\u001b[0m\u001b[0;34m,\u001b[0m \u001b[0;34m'cb.fit(X_train, y_train)'\u001b[0m\u001b[0;34m)\u001b[0m\u001b[0;34m\u001b[0m\u001b[0;34m\u001b[0m\u001b[0m\n\u001b[0;32m---> 10\u001b[0;31m \u001b[0mprint_stats\u001b[0m\u001b[0;34m(\u001b[0m\u001b[0mcb\u001b[0m\u001b[0;34m,\u001b[0m \u001b[0;34m'CB'\u001b[0m\u001b[0;34m)\u001b[0m\u001b[0;34m\u001b[0m\u001b[0;34m\u001b[0m\u001b[0m\n\u001b[0m",
      "\u001b[0;32m/tmp/ipykernel_12919/278947984.py\u001b[0m in \u001b[0;36mprint_stats\u001b[0;34m(model, model_name)\u001b[0m\n\u001b[1;32m      7\u001b[0m \u001b[0;32mdef\u001b[0m \u001b[0mprint_stats\u001b[0m\u001b[0;34m(\u001b[0m\u001b[0mmodel\u001b[0m\u001b[0;34m,\u001b[0m \u001b[0mmodel_name\u001b[0m\u001b[0;34m)\u001b[0m\u001b[0;34m:\u001b[0m\u001b[0;34m\u001b[0m\u001b[0;34m\u001b[0m\u001b[0m\n\u001b[1;32m      8\u001b[0m     \u001b[0mprint\u001b[0m\u001b[0;34m(\u001b[0m\u001b[0;34m''\u001b[0m\u001b[0;34m)\u001b[0m\u001b[0;34m\u001b[0m\u001b[0;34m\u001b[0m\u001b[0m\n\u001b[0;32m----> 9\u001b[0;31m     \u001b[0mpprint\u001b[0m\u001b[0;34m.\u001b[0m\u001b[0mpprint\u001b[0m\u001b[0;34m(\u001b[0m\u001b[0mmodel\u001b[0m\u001b[0;34m.\u001b[0m\u001b[0mbest_params_\u001b[0m\u001b[0;34m)\u001b[0m\u001b[0;34m\u001b[0m\u001b[0;34m\u001b[0m\u001b[0m\n\u001b[0m\u001b[1;32m     10\u001b[0m     \u001b[0mprint\u001b[0m\u001b[0;34m(\u001b[0m\u001b[0;34m''\u001b[0m\u001b[0;34m)\u001b[0m\u001b[0;34m\u001b[0m\u001b[0;34m\u001b[0m\u001b[0m\n\u001b[1;32m     11\u001b[0m \u001b[0;34m\u001b[0m\u001b[0m\n",
      "\u001b[0;31mAttributeError\u001b[0m: 'GridSearchCV' object has no attribute 'best_params_'"
     ]
    }
   ],
   "source": [
    "pipe = Pipeline(steps=[\n",
    "    ('imp', Imputer()),\n",
    "    ('clf', CatBoostClassifier(cat_features=cols_cat, random_seed=11, verbose=20))\n",
    "])\n",
    "\n",
    "param = [{'clf__iterations' :[300]}]\n",
    "\n",
    "cb = GridSearchCV(pipe, param, cv=cv, scoring='roc_auc', return_train_score=True, n_jobs=-1)\n",
    "%time cb.fit(X_train, y_train)\n",
    "print_stats(cb, 'CB')"
   ]
  },
  {
   "cell_type": "code",
   "execution_count": null,
   "id": "de47a2f2",
   "metadata": {
    "scrolled": false
   },
   "outputs": [],
   "source": [
    "pipe = Pipeline(steps=[\n",
    "    ('imp', Imputer()),\n",
    "    ('clf', CatBoostClassifier(cat_features=cols_cat, random_seed=11, verbose=False))\n",
    "])\n",
    "\n",
    "param = [{'clf__iterations' :[500],\n",
    "          'clf__learning_rate' :[0.1],\n",
    "          'clf__auto_class_weights': ['Balanced']}]\n",
    "\n",
    "cb_weighted = GridSearchCV(pipe, param, cv=cv, scoring='roc_auc', return_train_score=True, n_jobs=-1)\n",
    "%time cb_weighted.fit(X_train, y_train)\n",
    "print_stats(cb_weighted, 'CB weighted')"
   ]
  },
  {
   "cell_type": "code",
   "execution_count": null,
   "id": "c73f5baf",
   "metadata": {
    "scrolled": false
   },
   "outputs": [],
   "source": [
    "pipe = ImbPipeline(steps=[\n",
    "    ('imp', Imputer()),\n",
    "    ('res', RandomUnderSampler(random_state=11)),\n",
    "    ('clf', CatBoostClassifier(cat_features=cols_cat, random_seed=11, verbose=False))\n",
    "])\n",
    "\n",
    "param = [{}]\n",
    "\n",
    "cb_undsampl = GridSearchCV(pipe, param, cv=cv, scoring='roc_auc', return_train_score=True, n_jobs=-1)\n",
    "%time cb_undsampl.fit(X_train, y_train)\n",
    "print_stats(cb_undsampl, 'CB undsampl')"
   ]
  },
  {
   "cell_type": "code",
   "execution_count": null,
   "id": "d7bffea6",
   "metadata": {},
   "outputs": [],
   "source": [
    "plot_permutation_importances(cb_undsampl, 'Catboost')"
   ]
  },
  {
   "cell_type": "code",
   "execution_count": null,
   "id": "b0984559",
   "metadata": {},
   "outputs": [],
   "source": [
    "summary"
   ]
  },
  {
   "cell_type": "code",
   "execution_count": null,
   "id": "9e400408",
   "metadata": {},
   "outputs": [],
   "source": [
    "from sklearn.base import clone\n",
    "from functools import partial\n",
    "import dill\n",
    "\n",
    "est = clone(cb_undsampl.best_estimator_)\n",
    "est.fit(X, y)\n",
    "\n",
    "model = Pipeline(steps=[\n",
    "    ('pre_split_filter', FunctionTransformer(partial(pre_split_filter, drop_outliers=False))),\n",
    "    ('estimator', est)\n",
    "])\n",
    "\n",
    "os.makedirs('../data', exist_ok=True)\n",
    "with open('../data/model.pkl', 'wb') as file:\n",
    "    dill.dump(model, file)\n",
    "    \n",
    "print('Complete') "
   ]
  }
 ],
 "metadata": {
  "kernelspec": {
   "display_name": "Python 3 (ipykernel)",
   "language": "python",
   "name": "python3"
  },
  "language_info": {
   "codemirror_mode": {
    "name": "ipython",
    "version": 3
   },
   "file_extension": ".py",
   "mimetype": "text/x-python",
   "name": "python",
   "nbconvert_exporter": "python",
   "pygments_lexer": "ipython3",
   "version": "3.9.13"
  }
 },
 "nbformat": 4,
 "nbformat_minor": 5
}

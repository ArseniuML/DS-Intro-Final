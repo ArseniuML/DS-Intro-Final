{
 "cells": [
  {
   "cell_type": "code",
   "execution_count": 1,
   "id": "efbc50ea",
   "metadata": {},
   "outputs": [],
   "source": [
    "import pandas as pd\n",
    "import os\n",
    "\n",
    "data_dir = '../../Final_work_data'\n",
    "hits = pd.read_csv(os.path.join(data_dir, 'ga_hits.csv'), dtype='str')"
   ]
  },
  {
   "cell_type": "markdown",
   "id": "4d945118",
   "metadata": {},
   "source": [
    "Сформируем поле target согласно инструкции и удалим ненужные поля."
   ]
  },
  {
   "cell_type": "code",
   "execution_count": 2,
   "id": "c545c0d3",
   "metadata": {},
   "outputs": [],
   "source": [
    "def extract_target(event_action):\n",
    "    l = ['sub_car_claim_click', 'sub_car_claim_submit_click',\n",
    "         'sub_open_dialog_click', 'sub_custom_question_submit_click',\n",
    "         'sub_call_number_click', 'sub_callback_submit_click', 'sub_submit_success',\n",
    "         'sub_car_request_submit_click']\n",
    "    return int(event_action in l)\n",
    "\n",
    "hits.loc[:, 'target'] = hits.loc[:, 'event_action'].apply(extract_target)\n",
    "hits = hits[['session_id', 'target']]"
   ]
  },
  {
   "cell_type": "markdown",
   "id": "b096a41a",
   "metadata": {},
   "source": [
    "Для каждой сессии оставим один хит. Если были целевые хиты, оставим целевой."
   ]
  },
  {
   "cell_type": "code",
   "execution_count": 3,
   "id": "ec3b77bf",
   "metadata": {},
   "outputs": [],
   "source": [
    "hits.drop_duplicates(inplace=True)\n",
    "hits = hits[~(hits.duplicated(subset=['session_id'], keep=False) & (hits['target'] == 0))]"
   ]
  },
  {
   "cell_type": "code",
   "execution_count": 4,
   "id": "62b3d67f",
   "metadata": {},
   "outputs": [],
   "source": [
    "sessions = pd.read_csv(os.path.join(data_dir, 'ga_sessions.csv'), dtype='str')"
   ]
  },
  {
   "cell_type": "markdown",
   "id": "b4007b0d",
   "metadata": {},
   "source": [
    "Объединим таблицы по полю session_id."
   ]
  },
  {
   "cell_type": "code",
   "execution_count": 5,
   "id": "f5f89392",
   "metadata": {},
   "outputs": [],
   "source": [
    "df = hits.merge(sessions, on='session_id')\n",
    "df = df[[x for x in df.columns if x.startswith(('utm_', 'device_', 'geo_'))] + ['target']]"
   ]
  },
  {
   "cell_type": "code",
   "execution_count": 6,
   "id": "0f6c2b07",
   "metadata": {},
   "outputs": [
    {
     "name": "stdout",
     "output_type": "stream",
     "text": [
      "Complete\n"
     ]
    }
   ],
   "source": [
    "df.to_csv(os.path.join(data_dir, 'ml_data.csv'), index=False)\n",
    "print('Complete')"
   ]
  }
 ],
 "metadata": {
  "kernelspec": {
   "display_name": "Python 3 (ipykernel)",
   "language": "python",
   "name": "python3"
  },
  "language_info": {
   "codemirror_mode": {
    "name": "ipython",
    "version": 3
   },
   "file_extension": ".py",
   "mimetype": "text/x-python",
   "name": "python",
   "nbconvert_exporter": "python",
   "pygments_lexer": "ipython3",
   "version": "3.9.13"
  }
 },
 "nbformat": 4,
 "nbformat_minor": 5
}
